{
 "cells": [
  {
   "cell_type": "code",
   "execution_count": 1,
   "id": "2375628b",
   "metadata": {
    "colab": {
     "base_uri": "https://localhost:8080/"
    },
    "id": "2375628b",
    "outputId": "0988b055-b82d-49dd-a62f-cef9ee3f145d"
   },
   "outputs": [
    {
     "name": "stdout",
     "output_type": "stream",
     "text": [
      "Python 3.9.7 (default, Sep 16 2021, 16:59:28) [MSC v.1916 64 bit (AMD64)]\n",
      "Pandas 1.3.4\n",
      "NumPy 1.20.3\n"
     ]
    }
   ],
   "source": [
    "import sys\n",
    "import pandas as pd\n",
    "import numpy as np\n",
    "import matplotlib as mpl\n",
    "%matplotlib inline\n",
    "import matplotlib.pyplot as plt\n",
    "import seaborn as sns\n",
    "sns.set()\n",
    "print( f\"Python {sys.version}\\nPandas {pd.__version__}\\nNumPy {np.__version__}\" ) "
   ]
  },
  {
   "cell_type": "code",
   "execution_count": 2,
   "id": "8c1129c9",
   "metadata": {
    "colab": {
     "base_uri": "https://localhost:8080/",
     "height": 684
    },
    "id": "8c1129c9",
    "outputId": "44df7332-f718-46b3-cd0d-95f8f4486ac5"
   },
   "outputs": [
    {
     "name": "stdout",
     "output_type": "stream",
     "text": [
      "<class 'pandas.core.frame.DataFrame'>\n",
      "RangeIndex: 6499 entries, 0 to 6498\n",
      "Data columns (total 8 columns):\n",
      " #   Column        Non-Null Count  Dtype  \n",
      "---  ------        --------------  -----  \n",
      " 0   year          6499 non-null   int64  \n",
      " 1   quarter       6499 non-null   object \n",
      " 2   region        6499 non-null   object \n",
      " 3   area          6499 non-null   object \n",
      " 4   level_of_edu  6499 non-null   object \n",
      " 5   value         6499 non-null   float64\n",
      " 6   unit          6499 non-null   object \n",
      " 7   source        6499 non-null   object \n",
      "dtypes: float64(1), int64(1), object(6)\n",
      "memory usage: 406.3+ KB\n"
     ]
    },
    {
     "data": {
      "text/html": [
       "<div>\n",
       "<style scoped>\n",
       "    .dataframe tbody tr th:only-of-type {\n",
       "        vertical-align: middle;\n",
       "    }\n",
       "\n",
       "    .dataframe tbody tr th {\n",
       "        vertical-align: top;\n",
       "    }\n",
       "\n",
       "    .dataframe thead th {\n",
       "        text-align: right;\n",
       "    }\n",
       "</style>\n",
       "<table border=\"1\" class=\"dataframe\">\n",
       "  <thead>\n",
       "    <tr style=\"text-align: right;\">\n",
       "      <th></th>\n",
       "      <th>year</th>\n",
       "      <th>quarter</th>\n",
       "      <th>region</th>\n",
       "      <th>area</th>\n",
       "      <th>level_of_edu</th>\n",
       "      <th>value</th>\n",
       "      <th>unit</th>\n",
       "      <th>source</th>\n",
       "    </tr>\n",
       "  </thead>\n",
       "  <tbody>\n",
       "    <tr>\n",
       "      <th>0</th>\n",
       "      <td>2556</td>\n",
       "      <td>ไตรมาสที่ 1</td>\n",
       "      <td>ทั่วประเทศ</td>\n",
       "      <td>รวม</td>\n",
       "      <td>รวม</td>\n",
       "      <td>38516.37</td>\n",
       "      <td>พันคน</td>\n",
       "      <td>สำนักงานสถิติแห่งชาติ</td>\n",
       "    </tr>\n",
       "    <tr>\n",
       "      <th>1</th>\n",
       "      <td>2556</td>\n",
       "      <td>ไตรมาสที่ 1</td>\n",
       "      <td>ทั่วประเทศ</td>\n",
       "      <td>รวม</td>\n",
       "      <td>ไม่มีการศึกษา</td>\n",
       "      <td>1289.97</td>\n",
       "      <td>พันคน</td>\n",
       "      <td>สำนักงานสถิติแห่งชาติ</td>\n",
       "    </tr>\n",
       "    <tr>\n",
       "      <th>2</th>\n",
       "      <td>2556</td>\n",
       "      <td>ไตรมาสที่ 1</td>\n",
       "      <td>ทั่วประเทศ</td>\n",
       "      <td>รวม</td>\n",
       "      <td>ต่ำกว่าประถมศึกษา</td>\n",
       "      <td>9358.57</td>\n",
       "      <td>พันคน</td>\n",
       "      <td>สำนักงานสถิติแห่งชาติ</td>\n",
       "    </tr>\n",
       "    <tr>\n",
       "      <th>3</th>\n",
       "      <td>2556</td>\n",
       "      <td>ไตรมาสที่ 1</td>\n",
       "      <td>ทั่วประเทศ</td>\n",
       "      <td>รวม</td>\n",
       "      <td>ประถมศึกษา</td>\n",
       "      <td>8963.54</td>\n",
       "      <td>พันคน</td>\n",
       "      <td>สำนักงานสถิติแห่งชาติ</td>\n",
       "    </tr>\n",
       "    <tr>\n",
       "      <th>4</th>\n",
       "      <td>2556</td>\n",
       "      <td>ไตรมาสที่ 1</td>\n",
       "      <td>ทั่วประเทศ</td>\n",
       "      <td>รวม</td>\n",
       "      <td>มัธยมศึกษาตอนต้น</td>\n",
       "      <td>6256.64</td>\n",
       "      <td>พันคน</td>\n",
       "      <td>สำนักงานสถิติแห่งชาติ</td>\n",
       "    </tr>\n",
       "    <tr>\n",
       "      <th>...</th>\n",
       "      <td>...</td>\n",
       "      <td>...</td>\n",
       "      <td>...</td>\n",
       "      <td>...</td>\n",
       "      <td>...</td>\n",
       "      <td>...</td>\n",
       "      <td>...</td>\n",
       "      <td>...</td>\n",
       "    </tr>\n",
       "    <tr>\n",
       "      <th>6494</th>\n",
       "      <td>2563</td>\n",
       "      <td>ไตรมาสที่ 4</td>\n",
       "      <td>ภาคใต้</td>\n",
       "      <td>นอกเขตเทศบาล</td>\n",
       "      <td>อุดมศึกษา (สายวิชาการ)</td>\n",
       "      <td>307.09</td>\n",
       "      <td>พันคน</td>\n",
       "      <td>สำนักงานสถิติแห่งชาติ</td>\n",
       "    </tr>\n",
       "    <tr>\n",
       "      <th>6495</th>\n",
       "      <td>2563</td>\n",
       "      <td>ไตรมาสที่ 4</td>\n",
       "      <td>ภาคใต้</td>\n",
       "      <td>นอกเขตเทศบาล</td>\n",
       "      <td>อุดมศึกษา (สายวิชาชีพ)</td>\n",
       "      <td>179.29</td>\n",
       "      <td>พันคน</td>\n",
       "      <td>สำนักงานสถิติแห่งชาติ</td>\n",
       "    </tr>\n",
       "    <tr>\n",
       "      <th>6496</th>\n",
       "      <td>2563</td>\n",
       "      <td>ไตรมาสที่ 4</td>\n",
       "      <td>ภาคใต้</td>\n",
       "      <td>นอกเขตเทศบาล</td>\n",
       "      <td>อุดมศึกษา (สายวิชาการศึกษา)</td>\n",
       "      <td>69.45</td>\n",
       "      <td>พันคน</td>\n",
       "      <td>สำนักงานสถิติแห่งชาติ</td>\n",
       "    </tr>\n",
       "    <tr>\n",
       "      <th>6497</th>\n",
       "      <td>2563</td>\n",
       "      <td>ไตรมาสที่ 4</td>\n",
       "      <td>ภาคใต้</td>\n",
       "      <td>นอกเขตเทศบาล</td>\n",
       "      <td>อื่นๆ</td>\n",
       "      <td>3.18</td>\n",
       "      <td>พันคน</td>\n",
       "      <td>สำนักงานสถิติแห่งชาติ</td>\n",
       "    </tr>\n",
       "    <tr>\n",
       "      <th>6498</th>\n",
       "      <td>2563</td>\n",
       "      <td>ไตรมาสที่ 4</td>\n",
       "      <td>ภาคใต้</td>\n",
       "      <td>นอกเขตเทศบาล</td>\n",
       "      <td>ไม่ทราบ</td>\n",
       "      <td>15.49</td>\n",
       "      <td>พันคน</td>\n",
       "      <td>สำนักงานสถิติแห่งชาติ</td>\n",
       "    </tr>\n",
       "  </tbody>\n",
       "</table>\n",
       "<p>6499 rows × 8 columns</p>\n",
       "</div>"
      ],
      "text/plain": [
       "      year      quarter      region          area  \\\n",
       "0     2556  ไตรมาสที่ 1  ทั่วประเทศ           รวม   \n",
       "1     2556  ไตรมาสที่ 1  ทั่วประเทศ           รวม   \n",
       "2     2556  ไตรมาสที่ 1  ทั่วประเทศ           รวม   \n",
       "3     2556  ไตรมาสที่ 1  ทั่วประเทศ           รวม   \n",
       "4     2556  ไตรมาสที่ 1  ทั่วประเทศ           รวม   \n",
       "...    ...          ...         ...           ...   \n",
       "6494  2563  ไตรมาสที่ 4      ภาคใต้  นอกเขตเทศบาล   \n",
       "6495  2563  ไตรมาสที่ 4      ภาคใต้  นอกเขตเทศบาล   \n",
       "6496  2563  ไตรมาสที่ 4      ภาคใต้  นอกเขตเทศบาล   \n",
       "6497  2563  ไตรมาสที่ 4      ภาคใต้  นอกเขตเทศบาล   \n",
       "6498  2563  ไตรมาสที่ 4      ภาคใต้  นอกเขตเทศบาล   \n",
       "\n",
       "                     level_of_edu     value   unit                 source  \n",
       "0                             รวม  38516.37  พันคน  สำนักงานสถิติแห่งชาติ  \n",
       "1                   ไม่มีการศึกษา   1289.97  พันคน  สำนักงานสถิติแห่งชาติ  \n",
       "2               ต่ำกว่าประถมศึกษา   9358.57  พันคน  สำนักงานสถิติแห่งชาติ  \n",
       "3                      ประถมศึกษา   8963.54  พันคน  สำนักงานสถิติแห่งชาติ  \n",
       "4                มัธยมศึกษาตอนต้น   6256.64  พันคน  สำนักงานสถิติแห่งชาติ  \n",
       "...                           ...       ...    ...                    ...  \n",
       "6494       อุดมศึกษา (สายวิชาการ)    307.09  พันคน  สำนักงานสถิติแห่งชาติ  \n",
       "6495       อุดมศึกษา (สายวิชาชีพ)    179.29  พันคน  สำนักงานสถิติแห่งชาติ  \n",
       "6496  อุดมศึกษา (สายวิชาการศึกษา)     69.45  พันคน  สำนักงานสถิติแห่งชาติ  \n",
       "6497                        อื่นๆ      3.18  พันคน  สำนักงานสถิติแห่งชาติ  \n",
       "6498                      ไม่ทราบ     15.49  พันคน  สำนักงานสถิติแห่งชาติ  \n",
       "\n",
       "[6499 rows x 8 columns]"
      ]
     },
     "execution_count": 2,
     "metadata": {},
     "output_type": "execute_result"
    }
   ],
   "source": [
    "df_worker = pd.read_csv('ผู้มีงานทำ.csv')\n",
    "df_worker.info()\n",
    "df_worker"
   ]
  },
  {
   "cell_type": "code",
   "execution_count": 3,
   "id": "b712b194",
   "metadata": {
    "colab": {
     "base_uri": "https://localhost:8080/"
    },
    "id": "b712b194",
    "outputId": "4cd1d32b-8e30-4272-96a4-93dcbb382faa"
   },
   "outputs": [
    {
     "data": {
      "text/plain": [
       "year            0\n",
       "quarter         0\n",
       "region          0\n",
       "area            0\n",
       "level_of_edu    0\n",
       "value           0\n",
       "unit            0\n",
       "source          0\n",
       "dtype: int64"
      ]
     },
     "execution_count": 3,
     "metadata": {},
     "output_type": "execute_result"
    }
   ],
   "source": [
    "## check null value ##\n",
    "df_worker.isnull().sum()"
   ]
  },
  {
   "cell_type": "code",
   "execution_count": 4,
   "id": "aab8c27d",
   "metadata": {
    "id": "aab8c27d",
    "outputId": "4ee02b6d-3276-4585-bcb5-0d25dd2b6ac8"
   },
   "outputs": [
    {
     "data": {
      "text/plain": [
       "0       False\n",
       "1       False\n",
       "2       False\n",
       "3       False\n",
       "4       False\n",
       "        ...  \n",
       "6494    False\n",
       "6495    False\n",
       "6496    False\n",
       "6497    False\n",
       "6498    False\n",
       "Name: region, Length: 6499, dtype: bool"
      ]
     },
     "execution_count": 4,
     "metadata": {},
     "output_type": "execute_result"
    }
   ],
   "source": [
    "df_worker['region'].isna()"
   ]
  },
  {
   "cell_type": "code",
   "execution_count": 5,
   "id": "12112c34",
   "metadata": {
    "id": "12112c34",
    "outputId": "24ac09c8-2355-4ced-c5c5-815c61ad5c7d"
   },
   "outputs": [
    {
     "data": {
      "text/plain": [
       "0       False\n",
       "1       False\n",
       "2       False\n",
       "3       False\n",
       "4       False\n",
       "        ...  \n",
       "6494    False\n",
       "6495    False\n",
       "6496    False\n",
       "6497    False\n",
       "6498    False\n",
       "Name: level_of_edu, Length: 6499, dtype: bool"
      ]
     },
     "execution_count": 5,
     "metadata": {},
     "output_type": "execute_result"
    }
   ],
   "source": [
    "df_worker['level_of_edu'].isna()"
   ]
  },
  {
   "cell_type": "code",
   "execution_count": 6,
   "id": "dd17e078",
   "metadata": {
    "id": "dd17e078",
    "outputId": "5009ccd8-aada-4a8e-d63a-adcba67ae71d"
   },
   "outputs": [
    {
     "data": {
      "text/plain": [
       "array(['ทั่วประเทศ', 'กรุงเทพมหานคร', 'ภาคกลาง', 'ภาคเหนือ',\n",
       "       'ภาคตะวันออกเฉียงเหนือ', 'ภาคใต้'], dtype=object)"
      ]
     },
     "execution_count": 6,
     "metadata": {},
     "output_type": "execute_result"
    }
   ],
   "source": [
    "## check ข้อมูลในตัวแปร ##\n",
    "df_worker['region'].unique()"
   ]
  },
  {
   "cell_type": "code",
   "execution_count": 7,
   "id": "7992f0d6",
   "metadata": {
    "id": "7992f0d6",
    "outputId": "912828a6-9248-4cd3-f8e6-8d884b6c783a"
   },
   "outputs": [
    {
     "data": {
      "text/plain": [
       "ทั่วประเทศ               1247\n",
       "ภาคกลาง                  1243\n",
       "ภาคเหนือ                 1238\n",
       "ภาคใต้                   1228\n",
       "ภาคตะวันออกเฉียงเหนือ    1167\n",
       "กรุงเทพมหานคร             376\n",
       "Name: region, dtype: int64"
      ]
     },
     "execution_count": 7,
     "metadata": {},
     "output_type": "execute_result"
    }
   ],
   "source": [
    "df_worker['region'].value_counts()"
   ]
  },
  {
   "cell_type": "code",
   "execution_count": 8,
   "id": "16a5e8c2",
   "metadata": {
    "id": "16a5e8c2",
    "outputId": "bfce448c-5be9-45f1-c12c-d614151c4e9b"
   },
   "outputs": [
    {
     "data": {
      "text/plain": [
       "array(['รวม', 'ไม่มีการศึกษา', 'ต่ำกว่าประถมศึกษา', 'ประถมศึกษา',\n",
       "       'มัธยมศึกษาตอนต้น', 'มัธยมศึกษาตอนปลาย (สายสามัญ)',\n",
       "       'มัธยมศึกษาตอนปลาย (สายอาชีวศึกษา)',\n",
       "       'มัธยมศึกษาตอนปลาย (สายวิชาการศึกษา)', 'อุดมศึกษา (สายวิชาการ)',\n",
       "       'อุดมศึกษา (สายวิชาชีพ)', 'อุดมศึกษา (สายวิชาการศึกษา)', 'อื่นๆ',\n",
       "       'ไม่ทราบ', 'ต่ำกว่าประถม ศึกษา', 'ประถม ศึกษา'], dtype=object)"
      ]
     },
     "execution_count": 8,
     "metadata": {},
     "output_type": "execute_result"
    }
   ],
   "source": [
    "df_worker['level_of_edu'].unique()"
   ]
  },
  {
   "cell_type": "code",
   "execution_count": 9,
   "id": "fb119ef3",
   "metadata": {
    "id": "fb119ef3",
    "outputId": "16a2e99d-c2f5-4c68-ca51-4ad60aef9451"
   },
   "outputs": [
    {
     "data": {
      "text/plain": [
       "รวม                                    512\n",
       "ไม่มีการศึกษา                          512\n",
       "มัธยมศึกษาตอนต้น                       512\n",
       "มัธยมศึกษาตอนปลาย (สายสามัญ)           512\n",
       "มัธยมศึกษาตอนปลาย (สายอาชีวศึกษา)      512\n",
       "อุดมศึกษา (สายวิชาการ)                 512\n",
       "อุดมศึกษา (สายวิชาชีพ)                 512\n",
       "อุดมศึกษา (สายวิชาการศึกษา)            512\n",
       "ไม่ทราบ                                507\n",
       "มัธยมศึกษาตอนปลาย (สายวิชาการศึกษา)    446\n",
       "อื่นๆ                                  426\n",
       "ต่ำกว่าประถมศึกษา                      384\n",
       "ประถมศึกษา                             384\n",
       "ต่ำกว่าประถม ศึกษา                     128\n",
       "ประถม ศึกษา                            128\n",
       "Name: level_of_edu, dtype: int64"
      ]
     },
     "execution_count": 9,
     "metadata": {},
     "output_type": "execute_result"
    }
   ],
   "source": [
    "df_worker['level_of_edu'].value_counts()"
   ]
  },
  {
   "cell_type": "code",
   "execution_count": 55,
   "id": "c8db2fa9",
   "metadata": {
    "id": "c8db2fa9",
    "outputId": "ac47ef58-a673-4ae2-9b18-4a6f6c80bb60"
   },
   "outputs": [
    {
     "data": {
      "text/plain": [
       "8"
      ]
     },
     "execution_count": 55,
     "metadata": {},
     "output_type": "execute_result"
    }
   ],
   "source": [
    "group_year = df_worker.groupby(['year'])\n",
    "group_year.ngroups"
   ]
  },
  {
   "cell_type": "code",
   "execution_count": 56,
   "id": "cd83954e",
   "metadata": {
    "id": "cd83954e",
    "outputId": "ae576986-d863-4ba4-b00e-e53ff911d193"
   },
   "outputs": [
    {
     "data": {
      "text/html": [
       "<div>\n",
       "<style scoped>\n",
       "    .dataframe tbody tr th:only-of-type {\n",
       "        vertical-align: middle;\n",
       "    }\n",
       "\n",
       "    .dataframe tbody tr th {\n",
       "        vertical-align: top;\n",
       "    }\n",
       "\n",
       "    .dataframe thead th {\n",
       "        text-align: right;\n",
       "    }\n",
       "</style>\n",
       "<table border=\"1\" class=\"dataframe\">\n",
       "  <thead>\n",
       "    <tr style=\"text-align: right;\">\n",
       "      <th></th>\n",
       "      <th>year</th>\n",
       "      <th>quarter</th>\n",
       "      <th>region</th>\n",
       "      <th>area</th>\n",
       "      <th>level_of_edu</th>\n",
       "      <th>value</th>\n",
       "    </tr>\n",
       "  </thead>\n",
       "  <tbody>\n",
       "    <tr>\n",
       "      <th>1</th>\n",
       "      <td>2556</td>\n",
       "      <td>ไตรมาสที่ 1</td>\n",
       "      <td>ทั่วประเทศ</td>\n",
       "      <td>รวม</td>\n",
       "      <td>ไม่มีการศึกษา</td>\n",
       "      <td>1289.97</td>\n",
       "    </tr>\n",
       "    <tr>\n",
       "      <th>2</th>\n",
       "      <td>2556</td>\n",
       "      <td>ไตรมาสที่ 1</td>\n",
       "      <td>ทั่วประเทศ</td>\n",
       "      <td>รวม</td>\n",
       "      <td>ต่ำกว่าประถมศึกษา</td>\n",
       "      <td>9358.57</td>\n",
       "    </tr>\n",
       "    <tr>\n",
       "      <th>3</th>\n",
       "      <td>2556</td>\n",
       "      <td>ไตรมาสที่ 1</td>\n",
       "      <td>ทั่วประเทศ</td>\n",
       "      <td>รวม</td>\n",
       "      <td>ประถมศึกษา</td>\n",
       "      <td>8963.54</td>\n",
       "    </tr>\n",
       "    <tr>\n",
       "      <th>4</th>\n",
       "      <td>2556</td>\n",
       "      <td>ไตรมาสที่ 1</td>\n",
       "      <td>ทั่วประเทศ</td>\n",
       "      <td>รวม</td>\n",
       "      <td>มัธยมศึกษาตอนต้น</td>\n",
       "      <td>6256.64</td>\n",
       "    </tr>\n",
       "    <tr>\n",
       "      <th>5</th>\n",
       "      <td>2556</td>\n",
       "      <td>ไตรมาสที่ 1</td>\n",
       "      <td>ทั่วประเทศ</td>\n",
       "      <td>รวม</td>\n",
       "      <td>มัธยมศึกษาตอนปลาย (สายสามัญ)</td>\n",
       "      <td>4372.65</td>\n",
       "    </tr>\n",
       "    <tr>\n",
       "      <th>...</th>\n",
       "      <td>...</td>\n",
       "      <td>...</td>\n",
       "      <td>...</td>\n",
       "      <td>...</td>\n",
       "      <td>...</td>\n",
       "      <td>...</td>\n",
       "    </tr>\n",
       "    <tr>\n",
       "      <th>411</th>\n",
       "      <td>2563</td>\n",
       "      <td>ไตรมาสที่ 4</td>\n",
       "      <td>ทั่วประเทศ</td>\n",
       "      <td>รวม</td>\n",
       "      <td>อุดมศึกษา (สายวิชาการ)</td>\n",
       "      <td>5546.86</td>\n",
       "    </tr>\n",
       "    <tr>\n",
       "      <th>412</th>\n",
       "      <td>2563</td>\n",
       "      <td>ไตรมาสที่ 4</td>\n",
       "      <td>ทั่วประเทศ</td>\n",
       "      <td>รวม</td>\n",
       "      <td>อุดมศึกษา (สายวิชาชีพ)</td>\n",
       "      <td>2376.41</td>\n",
       "    </tr>\n",
       "    <tr>\n",
       "      <th>413</th>\n",
       "      <td>2563</td>\n",
       "      <td>ไตรมาสที่ 4</td>\n",
       "      <td>ทั่วประเทศ</td>\n",
       "      <td>รวม</td>\n",
       "      <td>อุดมศึกษา (สายวิชาการ)</td>\n",
       "      <td>804.23</td>\n",
       "    </tr>\n",
       "    <tr>\n",
       "      <th>414</th>\n",
       "      <td>2563</td>\n",
       "      <td>ไตรมาสที่ 4</td>\n",
       "      <td>ทั่วประเทศ</td>\n",
       "      <td>รวม</td>\n",
       "      <td>อื่นๆ</td>\n",
       "      <td>152.16</td>\n",
       "    </tr>\n",
       "    <tr>\n",
       "      <th>415</th>\n",
       "      <td>2563</td>\n",
       "      <td>ไตรมาสที่ 4</td>\n",
       "      <td>ทั่วประเทศ</td>\n",
       "      <td>รวม</td>\n",
       "      <td>ไม่ทราบ</td>\n",
       "      <td>164.32</td>\n",
       "    </tr>\n",
       "  </tbody>\n",
       "</table>\n",
       "<p>384 rows × 6 columns</p>\n",
       "</div>"
      ],
      "text/plain": [
       "     year      quarter      region area                  level_of_edu    value\n",
       "1    2556  ไตรมาสที่ 1  ทั่วประเทศ  รวม                 ไม่มีการศึกษา  1289.97\n",
       "2    2556  ไตรมาสที่ 1  ทั่วประเทศ  รวม             ต่ำกว่าประถมศึกษา  9358.57\n",
       "3    2556  ไตรมาสที่ 1  ทั่วประเทศ  รวม                    ประถมศึกษา  8963.54\n",
       "4    2556  ไตรมาสที่ 1  ทั่วประเทศ  รวม              มัธยมศึกษาตอนต้น  6256.64\n",
       "5    2556  ไตรมาสที่ 1  ทั่วประเทศ  รวม  มัธยมศึกษาตอนปลาย (สายสามัญ)  4372.65\n",
       "..    ...          ...         ...  ...                           ...      ...\n",
       "411  2563  ไตรมาสที่ 4  ทั่วประเทศ  รวม        อุดมศึกษา (สายวิชาการ)  5546.86\n",
       "412  2563  ไตรมาสที่ 4  ทั่วประเทศ  รวม        อุดมศึกษา (สายวิชาชีพ)  2376.41\n",
       "413  2563  ไตรมาสที่ 4  ทั่วประเทศ  รวม        อุดมศึกษา (สายวิชาการ)   804.23\n",
       "414  2563  ไตรมาสที่ 4  ทั่วประเทศ  รวม                         อื่นๆ   152.16\n",
       "415  2563  ไตรมาสที่ 4  ทั่วประเทศ  รวม                       ไม่ทราบ   164.32\n",
       "\n",
       "[384 rows x 6 columns]"
      ]
     },
     "execution_count": 56,
     "metadata": {},
     "output_type": "execute_result"
    }
   ],
   "source": [
    "df_worker[(df_worker['region'] == 'ทั่วประเทศ') & (df_worker['area'] == 'รวม') & ~(df_worker['level_of_edu'] == 'รวม')][['year', 'quarter', 'region', 'area', 'level_of_edu', 'value']]"
   ]
  },
  {
   "cell_type": "code",
   "execution_count": 57,
   "id": "7382dd2a",
   "metadata": {
    "id": "7382dd2a",
    "outputId": "acd4918d-7373-4432-ccb8-a57d2ca207bf"
   },
   "outputs": [
    {
     "data": {
      "text/plain": [
       "level_of_edu\n",
       "ต่ำกว่าประถมศึกษา                    243987.03\n",
       "ประถมศึกษา                           273617.40\n",
       "มัธยมศึกษาตอนต้น                     199771.54\n",
       "มัธยมศึกษาตอนปลาย (สายสามัญ)         153071.62\n",
       "มัธยมศึกษาตอนปลาย (สายอาชีวศึกษา)     43188.29\n",
       "อื่นๆ                                  3670.47\n",
       "อุดมศึกษา (สายวิชาการ)               185107.44\n",
       "อุดมศึกษา (สายวิชาชีพ)                66837.08\n",
       "ไม่ทราบ                                5960.32\n",
       "ไม่มีการศึกษา                         38027.01\n",
       "Name: value, dtype: float64"
      ]
     },
     "execution_count": 57,
     "metadata": {},
     "output_type": "execute_result"
    }
   ],
   "source": [
    "## เกิดปัญหา ข้อมูลที่ได้มาเป็นข้อมูลเดียวกัน แต่การบันทึกข้อมูลคนละแบบ ##\n",
    "group_level_edu = df_worker[(df_worker['region'] == 'ทั่วประเทศ') & (df_worker['area'] == 'รวม') & ~(df_worker['level_of_edu'] == 'รวม')][['year', 'quarter', 'region', 'area', 'level_of_edu', 'value']]\n",
    "group_new_level_edu = group_level_edu.groupby(['level_of_edu'])\n",
    "group_new_level_edu['value'].sum()"
   ]
  },
  {
   "cell_type": "code",
   "execution_count": 10,
   "id": "85ac946f",
   "metadata": {
    "colab": {
     "base_uri": "https://localhost:8080/",
     "height": 208
    },
    "id": "85ac946f",
    "outputId": "f3f4302a-92af-4aeb-bfda-67853f1b27e6"
   },
   "outputs": [
    {
     "data": {
      "text/plain": [
       "level_of_edu\n",
       "ต่ำกว่าประถมศึกษา                    243987.03\n",
       "ประถมศึกษา                           273617.40\n",
       "มัธยมศึกษาตอนต้น                     199771.54\n",
       "มัธยมศึกษาตอนปลาย (สายสามัญ)         153071.62\n",
       "มัธยมศึกษาตอนปลาย (สายอาชีวศึกษา)     43188.29\n",
       "อื่นๆ                                  3670.47\n",
       "อุดมศึกษา (สายวิชาการ)               185107.44\n",
       "อุดมศึกษา (สายวิชาชีพ)                66837.08\n",
       "ไม่มีการศึกษา                         38027.01\n",
       "Name: value, dtype: float64"
      ]
     },
     "execution_count": 10,
     "metadata": {},
     "output_type": "execute_result"
    }
   ],
   "source": [
    "## จำนวนคนทั้งหมดตามระดับการศึกษา ตั้งแต่ปี พ.ศ.2556-2563 ##\n",
    "df_worker.loc[df_worker['level_of_edu'] == 'ต่ำกว่าประถม ศึกษา', 'level_of_edu'] = 'ต่ำกว่าประถมศึกษา'\n",
    "df_worker.loc[df_worker['level_of_edu'] == 'ประถม ศึกษา', 'level_of_edu'] = 'ประถมศึกษา'\n",
    "df_worker.loc[df_worker['level_of_edu'] == 'มัธยมศึกษาตอนปลาย (สายวิชาการศึกษา)', 'level_of_edu'] = 'มัธยมศึกษาตอนปลาย (สายสามัญ)'\n",
    "df_worker.loc[df_worker['level_of_edu'] == 'อุดมศึกษา (สายวิชาการศึกษา)', 'level_of_edu'] = 'อุดมศึกษา (สายวิชาการ)'\n",
    "\n",
    "group_level_edu = df_worker[(df_worker['region'] == 'ทั่วประเทศ') & (df_worker['area'] == 'รวม') & ~(df_worker['level_of_edu'] == 'รวม') & ~(df_worker['level_of_edu'] == 'ไม่ทราบ')][['year', 'quarter', 'region', 'area', 'level_of_edu', 'value']]\n",
    "group_new_level_edu = group_level_edu.groupby(['level_of_edu'])\n",
    "group_new_level_edu['value'].sum()\n",
    "\n",
    "## ระดับประถมศึกษา เป็นระดับที่ผู้มีงานทำมีจำนวนมากที่สุด ##"
   ]
  },
  {
   "cell_type": "code",
   "execution_count": null,
   "id": "247962cc",
   "metadata": {
    "colab": {
     "base_uri": "https://localhost:8080/"
    },
    "id": "247962cc",
    "outputId": "86a0e1bd-ad2d-479f-d751-65b7d4e0dadd"
   },
   "outputs": [],
   "source": [
    "## ระดับการศึกษาทั้งหมด ในปี พ.ศ.2563 ##\n",
    "df_worker.loc[df_worker['level_of_edu'] == 'ต่ำกว่าประถม ศึกษา', 'level_of_edu'] = 'ต่ำกว่าประถมศึกษา'\n",
    "df_worker.loc[df_worker['level_of_edu'] == 'ประถม ศึกษา', 'level_of_edu'] = 'ประถมศึกษา'\n",
    "df_worker.loc[df_worker['level_of_edu'] == 'มัธยมศึกษาตอนปลาย (สายวิชาการศึกษา)', 'level_of_edu'] = 'มัธยมศึกษาตอนปลาย (สายสามัญ)'\n",
    "df_worker.loc[df_worker['level_of_edu'] == 'อุดมศึกษา (สายวิชาการศึกษา)', 'level_of_edu'] = 'อุดมศึกษา (สายวิชาการ)'\n",
    "\n",
    "group_level_edu = df_worker[(df_worker['year'] == 2563 ) & (df_worker['region'] == 'ทั่วประเทศ') & (df_worker['area'] == 'รวม') & ~(df_worker['level_of_edu'] == 'รวม') & ~(df_worker['level_of_edu'] == 'ไม่ทราบ')][['year', 'quarter', 'region', 'area', 'level_of_edu', 'value']]\n",
    "group_new_level_edu = group_level_edu.groupby(['level_of_edu'])\n",
    "test_new = group_new_level_edu['value'].sum()\n",
    "lst_sum = []\n",
    "for i in range(len(test_new)) : \n",
    "    new_vari = int(test_new[i])\n",
    "    #print(new_vari)\n",
    "    lst_sum.append(new_vari)\n",
    "print(lst_sum)"
   ]
  },
  {
   "cell_type": "code",
   "execution_count": null,
   "id": "d854e8cb",
   "metadata": {
    "colab": {
     "base_uri": "https://localhost:8080/",
     "height": 473
    },
    "id": "d854e8cb",
    "outputId": "e20ae578-96c9-4453-8127-3d3c2fca989f"
   },
   "outputs": [],
   "source": [
    "x = ['Under Primary Education', 'Primary Education', 'Junior High School', 'Senior High School', 'Senior High School(Technical)', 'Other', 'Bachelor Degree', 'High Vocational Certificate','No Education']\n",
    "X_len = np.arange(len(x))\n",
    "print(X_len)\n",
    "print(lst_sum)\n",
    "plt.figure()\n",
    "\n",
    "plt.title('Amount of Level of education in 2020')\n",
    "plt.bar(X_len-0.1,lst_sum,width = 0.5,label = 'value (unit : 1000)')\n",
    "plt.xticks(X_len,x)\n",
    "plt.xticks(rotation = 90)\n",
    "plt.legend()\n",
    "plt.show()\n",
    "sns.set()"
   ]
  },
  {
   "cell_type": "code",
   "execution_count": null,
   "id": "c727fc18",
   "metadata": {
    "colab": {
     "base_uri": "https://localhost:8080/",
     "height": 473
    },
    "id": "c727fc18",
    "outputId": "67b1f322-ba76-4684-9098-909d33fa60f3"
   },
   "outputs": [],
   "source": [
    "## ระดับการศึกษาทั้งหมด ในปี พ.ศ.2562 ##\n",
    "df_worker.loc[df_worker['level_of_edu'] == 'ต่ำกว่าประถม ศึกษา', 'level_of_edu'] = 'ต่ำกว่าประถมศึกษา'\n",
    "df_worker.loc[df_worker['level_of_edu'] == 'ประถม ศึกษา', 'level_of_edu'] = 'ประถมศึกษา'\n",
    "df_worker.loc[df_worker['level_of_edu'] == 'มัธยมศึกษาตอนปลาย (สายวิชาการศึกษา)', 'level_of_edu'] = 'มัธยมศึกษาตอนปลาย (สายสามัญ)'\n",
    "df_worker.loc[df_worker['level_of_edu'] == 'อุดมศึกษา (สายวิชาการศึกษา)', 'level_of_edu'] = 'อุดมศึกษา (สายวิชาการ)'\n",
    "\n",
    "group_level_edu = df_worker[(df_worker['year'] == 2562 ) & (df_worker['region'] == 'ทั่วประเทศ') & (df_worker['area'] == 'รวม') & ~(df_worker['level_of_edu'] == 'รวม') & ~(df_worker['level_of_edu'] == 'ไม่ทราบ')][['year', 'quarter', 'region', 'area', 'level_of_edu', 'value']]\n",
    "group_new_level_edu = group_level_edu.groupby(['level_of_edu'])\n",
    "group_new_level_edu['value'].sum()\n",
    "\n",
    "test_new = group_new_level_edu['value'].sum()\n",
    "lst_sum = []\n",
    "for i in range(len(test_new)) : \n",
    "    new_vari = int(test_new[i])\n",
    "    #print(new_vari)\n",
    "    lst_sum.append(new_vari)\n",
    "\n",
    "x = ['Under Primary Education', 'Primary Education', 'Junior High School', 'Senior High School', 'Senior High School(Technical)', 'Other', 'Bachelor Degree', 'High Vocational Certificate','No Education']\n",
    "X_len = np.arange(len(x))\n",
    "print(X_len)\n",
    "print(lst_sum)\n",
    "plt.figure()\n",
    "\n",
    "plt.title('Amount of Level of education in 2019')\n",
    "plt.bar(X_len-0.1,lst_sum,width = 0.5,label = 'value (unit : 1000)')\n",
    "plt.xticks(X_len,x)\n",
    "plt.xticks(rotation = 90)\n",
    "plt.legend()\n",
    "plt.show()\n",
    "sns.set()"
   ]
  },
  {
   "cell_type": "code",
   "execution_count": null,
   "id": "c2c50701",
   "metadata": {
    "colab": {
     "base_uri": "https://localhost:8080/",
     "height": 473
    },
    "id": "c2c50701",
    "outputId": "54fcc4df-5813-4ac7-ffed-639e462e13d7"
   },
   "outputs": [],
   "source": [
    "## ระดับการศึกษาทั้งหมด ในปี พ.ศ.2561 ##\n",
    "df_worker.loc[df_worker['level_of_edu'] == 'ต่ำกว่าประถม ศึกษา', 'level_of_edu'] = 'ต่ำกว่าประถมศึกษา'\n",
    "df_worker.loc[df_worker['level_of_edu'] == 'ประถม ศึกษา', 'level_of_edu'] = 'ประถมศึกษา'\n",
    "df_worker.loc[df_worker['level_of_edu'] == 'มัธยมศึกษาตอนปลาย (สายวิชาการศึกษา)', 'level_of_edu'] = 'มัธยมศึกษาตอนปลาย (สายสามัญ)'\n",
    "df_worker.loc[df_worker['level_of_edu'] == 'อุดมศึกษา (สายวิชาการศึกษา)', 'level_of_edu'] = 'อุดมศึกษา (สายวิชาการ)'\n",
    "\n",
    "group_level_edu = df_worker[(df_worker['year'] == 2561 ) & (df_worker['region'] == 'ทั่วประเทศ') & (df_worker['area'] == 'รวม') & ~(df_worker['level_of_edu'] == 'รวม') & ~(df_worker['level_of_edu'] == 'ไม่ทราบ')][['year', 'quarter', 'region', 'area', 'level_of_edu', 'value']]\n",
    "group_new_level_edu = group_level_edu.groupby(['level_of_edu'])\n",
    "group_new_level_edu['value'].sum()\n",
    "\n",
    "test_new = group_new_level_edu['value'].sum()\n",
    "lst_sum = []\n",
    "for i in range(len(test_new)) : \n",
    "    new_vari = int(test_new[i])\n",
    "    #print(new_vari)\n",
    "    lst_sum.append(new_vari)\n",
    "\n",
    "x = ['Under Primary Education', 'Primary Education', 'Junior High School', 'Senior High School', 'Senior High School(Technical)', 'Other', 'Bachelor Degree', 'High Vocational Certificate','No Education']\n",
    "X_len = np.arange(len(x))\n",
    "print(X_len)\n",
    "print(lst_sum)\n",
    "plt.figure()\n",
    "\n",
    "plt.title('Amount of Level of education in 2018')\n",
    "plt.bar(X_len-0.1,lst_sum,width = 0.5,label = 'value (unit : 1000)')\n",
    "plt.xticks(X_len,x)\n",
    "plt.xticks(rotation = 90)\n",
    "plt.legend()\n",
    "plt.show()\n",
    "sns.set()"
   ]
  },
  {
   "cell_type": "code",
   "execution_count": null,
   "id": "f75f4b79",
   "metadata": {
    "colab": {
     "base_uri": "https://localhost:8080/",
     "height": 473
    },
    "id": "f75f4b79",
    "outputId": "2226ed8c-f114-4f51-96be-757b71512c11"
   },
   "outputs": [],
   "source": [
    "## ระดับการศึกษาทั้งหมด ในปี พ.ศ.2560 ##\n",
    "df_worker.loc[df_worker['level_of_edu'] == 'ต่ำกว่าประถม ศึกษา', 'level_of_edu'] = 'ต่ำกว่าประถมศึกษา'\n",
    "df_worker.loc[df_worker['level_of_edu'] == 'ประถม ศึกษา', 'level_of_edu'] = 'ประถมศึกษา'\n",
    "df_worker.loc[df_worker['level_of_edu'] == 'มัธยมศึกษาตอนปลาย (สายวิชาการศึกษา)', 'level_of_edu'] = 'มัธยมศึกษาตอนปลาย (สายสามัญ)'\n",
    "df_worker.loc[df_worker['level_of_edu'] == 'อุดมศึกษา (สายวิชาการศึกษา)', 'level_of_edu'] = 'อุดมศึกษา (สายวิชาการ)'\n",
    "\n",
    "group_level_edu = df_worker[(df_worker['year'] == 2560 ) & (df_worker['region'] == 'ทั่วประเทศ') & (df_worker['area'] == 'รวม') & ~(df_worker['level_of_edu'] == 'รวม') & ~(df_worker['level_of_edu'] == 'ไม่ทราบ')][['year', 'quarter', 'region', 'area', 'level_of_edu', 'value']]\n",
    "group_new_level_edu = group_level_edu.groupby(['level_of_edu'])\n",
    "group_new_level_edu['value'].sum()\n",
    "\n",
    "test_new = group_new_level_edu['value'].sum()\n",
    "lst_sum = []\n",
    "for i in range(len(test_new)) : \n",
    "    new_vari = int(test_new[i])\n",
    "    #print(new_vari)\n",
    "    lst_sum.append(new_vari)\n",
    "\n",
    "x = ['Under Primary Education', 'Primary Education', 'Junior High School', 'Senior High School', 'Senior High School(Technical)', 'Other', 'Bachelor Degree', 'High Vocational Certificate','No Education']\n",
    "X_len = np.arange(len(x))\n",
    "print(X_len)\n",
    "print(lst_sum)\n",
    "plt.figure()\n",
    "\n",
    "plt.title('Amount of Level of education in 2017')\n",
    "plt.bar(X_len-0.1,lst_sum,width = 0.5,label = 'value (unit : 1000)')\n",
    "plt.xticks(X_len,x)\n",
    "plt.xticks(rotation = 90)\n",
    "plt.legend()\n",
    "plt.show()\n",
    "sns.set()"
   ]
  },
  {
   "cell_type": "code",
   "execution_count": null,
   "id": "d9f67f14",
   "metadata": {
    "colab": {
     "base_uri": "https://localhost:8080/",
     "height": 473
    },
    "id": "d9f67f14",
    "outputId": "9cf0620d-83d1-47c9-e0ba-e2c4e3446c05"
   },
   "outputs": [],
   "source": [
    "## ระดับการศึกษาทั้งหมด ในปี พ.ศ.2559 ##\n",
    "df_worker.loc[df_worker['level_of_edu'] == 'ต่ำกว่าประถม ศึกษา', 'level_of_edu'] = 'ต่ำกว่าประถมศึกษา'\n",
    "df_worker.loc[df_worker['level_of_edu'] == 'ประถม ศึกษา', 'level_of_edu'] = 'ประถมศึกษา'\n",
    "df_worker.loc[df_worker['level_of_edu'] == 'มัธยมศึกษาตอนปลาย (สายวิชาการศึกษา)', 'level_of_edu'] = 'มัธยมศึกษาตอนปลาย (สายสามัญ)'\n",
    "df_worker.loc[df_worker['level_of_edu'] == 'อุดมศึกษา (สายวิชาการศึกษา)', 'level_of_edu'] = 'อุดมศึกษา (สายวิชาการ)'\n",
    "\n",
    "group_level_edu = df_worker[(df_worker['year'] == 2559 ) & (df_worker['region'] == 'ทั่วประเทศ') & (df_worker['area'] == 'รวม') & ~(df_worker['level_of_edu'] == 'รวม') & ~(df_worker['level_of_edu'] == 'ไม่ทราบ')][['year', 'quarter', 'region', 'area', 'level_of_edu', 'value']]\n",
    "group_new_level_edu = group_level_edu.groupby(['level_of_edu'])\n",
    "group_new_level_edu['value'].sum()\n",
    "\n",
    "test_new = group_new_level_edu['value'].sum()\n",
    "lst_sum = []\n",
    "for i in range(len(test_new)) : \n",
    "    new_vari = int(test_new[i])\n",
    "    #print(new_vari)\n",
    "    lst_sum.append(new_vari)\n",
    "\n",
    "x = ['Under Primary Education', 'Primary Education', 'Junior High School', 'Senior High School', 'Senior High School(Technical)', 'Other', 'Bachelor Degree', 'High Vocational Certificate','No Education']\n",
    "X_len = np.arange(len(x))\n",
    "print(X_len)\n",
    "print(lst_sum)\n",
    "plt.figure()\n",
    "\n",
    "plt.title('Amount of Level of education in 2016')\n",
    "plt.bar(X_len-0.1,lst_sum,width = 0.5,label = 'value (unit : 1000)')\n",
    "plt.xticks(X_len,x)\n",
    "plt.xticks(rotation = 90)\n",
    "plt.legend()\n",
    "plt.show()\n",
    "sns.set()"
   ]
  },
  {
   "cell_type": "code",
   "execution_count": null,
   "id": "623e95cb",
   "metadata": {
    "colab": {
     "base_uri": "https://localhost:8080/",
     "height": 473
    },
    "id": "623e95cb",
    "outputId": "dcf3ba9a-d1f1-4376-d7f7-771a5076fa9f"
   },
   "outputs": [],
   "source": [
    "## ระดับการศึกษาทั้งหมด ในปี พ.ศ.2558 ##\n",
    "df_worker.loc[df_worker['level_of_edu'] == 'ต่ำกว่าประถม ศึกษา', 'level_of_edu'] = 'ต่ำกว่าประถมศึกษา'\n",
    "df_worker.loc[df_worker['level_of_edu'] == 'ประถม ศึกษา', 'level_of_edu'] = 'ประถมศึกษา'\n",
    "df_worker.loc[df_worker['level_of_edu'] == 'มัธยมศึกษาตอนปลาย (สายวิชาการศึกษา)', 'level_of_edu'] = 'มัธยมศึกษาตอนปลาย (สายสามัญ)'\n",
    "df_worker.loc[df_worker['level_of_edu'] == 'อุดมศึกษา (สายวิชาการศึกษา)', 'level_of_edu'] = 'อุดมศึกษา (สายวิชาการ)'\n",
    "\n",
    "group_level_edu = df_worker[(df_worker['year'] == 2558 ) & (df_worker['region'] == 'ทั่วประเทศ') & (df_worker['area'] == 'รวม') & ~(df_worker['level_of_edu'] == 'รวม') & ~(df_worker['level_of_edu'] == 'ไม่ทราบ')][['year', 'quarter', 'region', 'area', 'level_of_edu', 'value']]\n",
    "group_new_level_edu = group_level_edu.groupby(['level_of_edu'])\n",
    "group_new_level_edu['value'].sum()\n",
    "\n",
    "test_new = group_new_level_edu['value'].sum()\n",
    "lst_sum = []\n",
    "for i in range(len(test_new)) : \n",
    "    new_vari = int(test_new[i])\n",
    "    #print(new_vari)\n",
    "    lst_sum.append(new_vari)\n",
    "\n",
    "x = ['Under Primary Education', 'Primary Education', 'Junior High School', 'Senior High School', 'Senior High School(Technical)', 'Other', 'Bachelor Degree', 'High Vocational Certificate','No Education']\n",
    "X_len = np.arange(len(x))\n",
    "print(X_len)\n",
    "print(lst_sum)\n",
    "plt.figure()\n",
    "\n",
    "plt.title('Amount of Level of education in 2015')\n",
    "plt.bar(X_len-0.1,lst_sum,width = 0.5,label = 'value (unit : 1000)')\n",
    "plt.xticks(X_len,x)\n",
    "plt.xticks(rotation = 90)\n",
    "plt.legend()\n",
    "plt.show()\n",
    "sns.set()"
   ]
  },
  {
   "cell_type": "code",
   "execution_count": null,
   "id": "241f31ac",
   "metadata": {
    "colab": {
     "base_uri": "https://localhost:8080/",
     "height": 473
    },
    "id": "241f31ac",
    "outputId": "71878760-0a19-468a-918d-79db7266688f"
   },
   "outputs": [],
   "source": [
    "## ระดับการศึกษาทั้งหมด ในปี พ.ศ.2557 ##\n",
    "df_worker.loc[df_worker['level_of_edu'] == 'ต่ำกว่าประถม ศึกษา', 'level_of_edu'] = 'ต่ำกว่าประถมศึกษา'\n",
    "df_worker.loc[df_worker['level_of_edu'] == 'ประถม ศึกษา', 'level_of_edu'] = 'ประถมศึกษา'\n",
    "df_worker.loc[df_worker['level_of_edu'] == 'มัธยมศึกษาตอนปลาย (สายวิชาการศึกษา)', 'level_of_edu'] = 'มัธยมศึกษาตอนปลาย (สายสามัญ)'\n",
    "df_worker.loc[df_worker['level_of_edu'] == 'อุดมศึกษา (สายวิชาการศึกษา)', 'level_of_edu'] = 'อุดมศึกษา (สายวิชาการ)'\n",
    "\n",
    "group_level_edu = df_worker[(df_worker['year'] == 2557 ) & (df_worker['region'] == 'ทั่วประเทศ') & (df_worker['area'] == 'รวม') & ~(df_worker['level_of_edu'] == 'รวม') & ~(df_worker['level_of_edu'] == 'ไม่ทราบ')][['year', 'quarter', 'region', 'area', 'level_of_edu', 'value']]\n",
    "group_new_level_edu = group_level_edu.groupby(['level_of_edu'])\n",
    "group_new_level_edu['value'].sum()\n",
    "\n",
    "test_new = group_new_level_edu['value'].sum()\n",
    "lst_sum = []\n",
    "for i in range(len(test_new)) : \n",
    "    new_vari = int(test_new[i])\n",
    "    #print(new_vari)\n",
    "    lst_sum.append(new_vari)\n",
    "\n",
    "x = ['Under Primary Education', 'Primary Education', 'Junior High School', 'Senior High School', 'Senior High School(Technical)', 'Other', 'Bachelor Degree', 'High Vocational Certificate','No Education']\n",
    "X_len = np.arange(len(x))\n",
    "print(X_len)\n",
    "print(lst_sum)\n",
    "plt.figure()\n",
    "\n",
    "plt.title('Amount of Level of education in 2014')\n",
    "plt.bar(X_len-0.1,lst_sum,width = 0.5,label = 'value (unit : 1000)')\n",
    "plt.xticks(X_len,x)\n",
    "plt.xticks(rotation = 90)\n",
    "plt.legend()\n",
    "plt.show()\n",
    "sns.set()"
   ]
  },
  {
   "cell_type": "code",
   "execution_count": 42,
   "id": "d8c7e88e",
   "metadata": {
    "colab": {
     "base_uri": "https://localhost:8080/",
     "height": 473
    },
    "id": "d8c7e88e",
    "outputId": "393c6b46-2146-40b8-bdde-e059658e51ad"
   },
   "outputs": [
    {
     "name": "stdout",
     "output_type": "stream",
     "text": [
      "[0 1 2 3 4 5 6 7 8]\n",
      "[36337, 37634, 25752, 17998, 5024, 140, 19128, 7954, 5082]\n"
     ]
    },
    {
     "data": {
      "image/png": "[encoded data removed]",
      "text/plain": [
       "<Figure size 432x288 with 1 Axes>"
      ]
     },
     "metadata": {},
     "output_type": "display_data"
    }
   ],
   "source": [
    "## ระดับการศึกษาทั้งหมด ในปี พ.ศ.2556 ##\n",
    "df_worker.loc[df_worker['level_of_edu'] == 'ต่ำกว่าประถม ศึกษา', 'level_of_edu'] = 'ต่ำกว่าประถมศึกษา'\n",
    "df_worker.loc[df_worker['level_of_edu'] == 'ประถม ศึกษา', 'level_of_edu'] = 'ประถมศึกษา'\n",
    "df_worker.loc[df_worker['level_of_edu'] == 'มัธยมศึกษาตอนปลาย (สายวิชาการศึกษา)', 'level_of_edu'] = 'มัธยมศึกษาตอนปลาย (สายสามัญ)'\n",
    "df_worker.loc[df_worker['level_of_edu'] == 'อุดมศึกษา (สายวิชาการศึกษา)', 'level_of_edu'] = 'อุดมศึกษา (สายวิชาการ)'\n",
    "\n",
    "group_level_edu = df_worker[(df_worker['year'] == 2556 ) & (df_worker['region'] == 'ทั่วประเทศ') & (df_worker['area'] == 'รวม') & ~(df_worker['level_of_edu'] == 'รวม') & ~(df_worker['level_of_edu'] == 'ไม่ทราบ')][['year', 'quarter', 'region', 'area', 'level_of_edu', 'value']]\n",
    "group_new_level_edu = group_level_edu.groupby(['level_of_edu'])\n",
    "group_new_level_edu['value'].sum()\n",
    "\n",
    "test_new = group_new_level_edu['value'].sum()\n",
    "lst_sum = []\n",
    "for i in range(len(test_new)) : \n",
    "    new_vari = int(test_new[i])\n",
    "    #print(new_vari)\n",
    "    lst_sum.append(new_vari)\n",
    "\n",
    "x = ['Under Primary Education', 'Primary Education', 'Junior High School', 'Senior High School', 'Senior High School(Technical)', 'Other', 'Bachelor Degree', 'High Vocational Certificate','No Education']\n",
    "X_len = np.arange(len(x))\n",
    "print(X_len)\n",
    "print(lst_sum)\n",
    "plt.figure()\n",
    "\n",
    "plt.title('Amount of Level of education in 2013')\n",
    "plt.bar(X_len-0.1,lst_sum,width = 0.5,label = 'value (unit : 1000)')\n",
    "plt.xticks(X_len,x)\n",
    "plt.xticks(rotation = 90)\n",
    "plt.legend()\n",
    "plt.show()\n",
    "sns.set()"
   ]
  },
  {
   "cell_type": "code",
   "execution_count": 66,
   "id": "690b0178",
   "metadata": {},
   "outputs": [
    {
     "data": {
      "text/plain": [
       "region\n",
       "ภาคกลาง                  72793.70\n",
       "ภาคตะวันออกเฉียงเหนือ    89471.84\n",
       "ภาคเหนือ                 40909.11\n",
       "ภาคใต้                   42798.12\n",
       "Name: value, dtype: float64"
      ]
     },
     "execution_count": 66,
     "metadata": {},
     "output_type": "execute_result"
    }
   ],
   "source": [
    "## เมื่อรู้ระดับประถมมีมากที่สุด อยากทราบว่า อยู่ที่ภาคใดมากที่สุด\n",
    "df_worker.loc[df_worker['level_of_edu'] == 'ประถม ศึกษา', 'level_of_edu'] = 'ประถมศึกษา'\n",
    "group_region = df_worker[(df_worker['region'] != 'ทั่วประเทศ') & (df_worker['area'] == 'รวม') & (df_worker['level_of_edu'] == 'ประถมศึกษา')][['year', 'quarter', 'region', 'level_of_edu', 'value']]\n",
    "group_new_region = group_region.groupby(['region'])\n",
    "group_new_region['value'].sum()"
   ]
  },
  {
   "cell_type": "code",
   "execution_count": 46,
   "id": "8d4ba452",
   "metadata": {},
   "outputs": [
    {
     "name": "stdout",
     "output_type": "stream",
     "text": [
      "[72793, 89471, 40909, 42798]\n"
     ]
    },
    {
     "data": {
      "image/png": "[encoded data removed]",
      "text/plain": [
       "<Figure size 720x504 with 1 Axes>"
      ]
     },
     "metadata": {},
     "output_type": "display_data"
    }
   ],
   "source": [
    "region = ['Central', 'Northeastern', 'Northern', 'Southern']\n",
    "value_region = group_new_region['value'].sum()\n",
    "lst_sum = []\n",
    "\n",
    "for i in range(len(value_region)) : \n",
    "    new_vari = int(value_region[i])\n",
    "    lst_sum.append(new_vari)\n",
    "    \n",
    "print(lst_sum)\n",
    "data = lst_sum \n",
    "fig = plt.figure(figsize =(10, 7))\n",
    "plt.pie(data, labels = region)\n",
    "plt.show()\n",
    "\n",
    "## ภาคตะวันออกเฉียงเหนือ มีผู้มีงานทำมากที่สุด ##"
   ]
  },
  {
   "cell_type": "code",
   "execution_count": 32,
   "id": "7d10cd51",
   "metadata": {
    "colab": {
     "base_uri": "https://localhost:8080/"
    },
    "id": "7d10cd51",
    "outputId": "ab523b21-2546-447e-fffc-0472f02d616d"
   },
   "outputs": [
    {
     "name": "stdout",
     "output_type": "stream",
     "text": [
      "<class 'pandas.core.frame.DataFrame'>\n",
      "RangeIndex: 5832 entries, 0 to 5831\n",
      "Data columns (total 8 columns):\n",
      " #   Column     Non-Null Count  Dtype  \n",
      "---  ------     --------------  -----  \n",
      " 0   year       5832 non-null   int64  \n",
      " 1   quarter    5832 non-null   object \n",
      " 2   region     5832 non-null   object \n",
      " 3   age_group  5832 non-null   object \n",
      " 4   sex        5832 non-null   object \n",
      " 5   value      5832 non-null   float64\n",
      " 6   unit       5832 non-null   object \n",
      " 7   source     5832 non-null   object \n",
      "dtypes: float64(1), int64(1), object(6)\n",
      "memory usage: 364.6+ KB\n"
     ]
    }
   ],
   "source": [
    "df_age_sex = pd.read_csv('ผู้มีงานทำแยกตามเพศ,อายุ.csv')\n",
    "df_age_sex.info()"
   ]
  },
  {
   "cell_type": "code",
   "execution_count": 33,
   "id": "9f7488d8",
   "metadata": {
    "colab": {
     "base_uri": "https://localhost:8080/"
    },
    "id": "9f7488d8",
    "outputId": "5ba3106a-a6c2-4f52-b062-c328e2227374"
   },
   "outputs": [
    {
     "data": {
      "text/plain": [
       "year         0\n",
       "quarter      0\n",
       "region       0\n",
       "age_group    0\n",
       "sex          0\n",
       "value        0\n",
       "unit         0\n",
       "source       0\n",
       "dtype: int64"
      ]
     },
     "execution_count": 33,
     "metadata": {},
     "output_type": "execute_result"
    }
   ],
   "source": [
    "## check null value ##\n",
    "df_age_sex.isna().sum()"
   ]
  },
  {
   "cell_type": "code",
   "execution_count": 34,
   "id": "e5b59b6f",
   "metadata": {
    "id": "e5b59b6f",
    "outputId": "24d5c675-552e-4a9d-ae27-22ac84deffa2"
   },
   "outputs": [
    {
     "data": {
      "text/plain": [
       "array(['รวม', '15-19 ปี', '20-24 ปี', '25-29 ปี', '30-34 ปี', '35-39 ปี',\n",
       "       '40-49 ปี', '50-59 ปี', '60 ปีขึ้นไป'], dtype=object)"
      ]
     },
     "execution_count": 34,
     "metadata": {},
     "output_type": "execute_result"
    }
   ],
   "source": [
    "## check ข้อมูลในคอมลัมน์ ##\n",
    "df_age_sex['age_group'].unique()"
   ]
  },
  {
   "cell_type": "code",
   "execution_count": 35,
   "id": "rKwi0oYE8K-V",
   "metadata": {
    "colab": {
     "base_uri": "https://localhost:8080/"
    },
    "id": "rKwi0oYE8K-V",
    "outputId": "b0101cbf-cb30-40a9-f5a1-41276f1e695d"
   },
   "outputs": [
    {
     "data": {
      "text/plain": [
       "array(['ทั่วประเทศ ', 'กรุงเทพมหานคร', 'ภาคกลาง', 'ภาคเหนือ',\n",
       "       'ภาคตะวันออกเฉียงเหนือ', 'ภาคใต้'], dtype=object)"
      ]
     },
     "execution_count": 35,
     "metadata": {},
     "output_type": "execute_result"
    }
   ],
   "source": [
    "df_age_sex['region'].unique()"
   ]
  },
  {
   "cell_type": "code",
   "execution_count": 36,
   "id": "b7527540",
   "metadata": {
    "colab": {
     "base_uri": "https://localhost:8080/",
     "height": 373
    },
    "id": "b7527540",
    "outputId": "c42661bd-8f8e-4308-9c63-fb6a2bbe08a1"
   },
   "outputs": [
    {
     "name": "stdout",
     "output_type": "stream",
     "text": [
      "[0 1 2 3 4 5 6 7]\n",
      "[2481, 11616, 16537, 16051, 16616, 36367, 32842, 18208]\n"
     ]
    },
    {
     "data": {
      "image/png": "[encoded data removed]",
      "text/plain": [
       "<Figure size 432x288 with 1 Axes>"
      ]
     },
     "metadata": {},
     "output_type": "display_data"
    }
   ],
   "source": [
    "## จำนวนผู้มีงานทำตามช่วงอายุ ในปีพ.ศ.2563 ##\n",
    "df = df_age_sex[(df_age_sex['year'] == 2563) & (df_age_sex['region'] == 'ทั่วประเทศ ') & (df_age_sex['age_group'] != 'รวม') & (df_age_sex['sex'] == 'รวม')][['year', 'age_group', 'sex', 'value']]\n",
    "group_age = df.groupby(['age_group'])\n",
    "group_age['value'].sum()\n",
    "\n",
    "test_new = group_age['value'].sum()\n",
    "lst_sum = []\n",
    "for i in range(len(test_new)) : \n",
    "    new_vari = int(test_new[i])\n",
    "    #print(new_vari)\n",
    "    lst_sum.append(new_vari)\n",
    "\n",
    "x = ['Age : 15-19', 'Age : 20-24', 'Age : 25-29', 'Age : 30-34', 'Age : 35-39', 'Age : 40-49', 'Age : 50-59', 'Age : 60+']\n",
    "X_len = np.arange(len(x))\n",
    "print(X_len)\n",
    "print(lst_sum)\n",
    "plt.figure()\n",
    "\n",
    "plt.title('Amount of Employment in 2020')\n",
    "plt.bar(X_len-0.1,lst_sum,width = 0.5,label = 'value (unit : 1000)')\n",
    "plt.plot(X_len, lst_sum, marker = '*', linewidth = 2.0, color = 'saddlebrown')\n",
    "plt.xticks(X_len,x)\n",
    "plt.xticks(rotation = 90)\n",
    "plt.legend()\n",
    "plt.show()\n",
    "sns.set()"
   ]
  },
  {
   "cell_type": "code",
   "execution_count": 37,
   "id": "A1E7GIK_r6ZS",
   "metadata": {
    "colab": {
     "base_uri": "https://localhost:8080/",
     "height": 373
    },
    "id": "A1E7GIK_r6ZS",
    "outputId": "7886e1e1-8d2c-4ff6-bdef-d9a96766c7ea"
   },
   "outputs": [
    {
     "name": "stdout",
     "output_type": "stream",
     "text": [
      "[0 1 2 3 4 5 6 7]\n",
      "[2643, 11857, 16693, 16193, 17062, 36791, 32267, 16944]\n"
     ]
    },
    {
     "data": {
      "image/png": "[encoded data removed]",
      "text/plain": [
       "<Figure size 432x288 with 1 Axes>"
      ]
     },
     "metadata": {},
     "output_type": "display_data"
    }
   ],
   "source": [
    "## จำนวนผู้มีงานทำตามช่วงอายุ ในปีพ.ศ.2562 ##\n",
    "df = df_age_sex[(df_age_sex['year'] == 2562) & (df_age_sex['region'] == 'ทั่วประเทศ ') & (df_age_sex['age_group'] != 'รวม') & (df_age_sex['sex'] == 'รวม')][['year', 'age_group', 'sex', 'value']]\n",
    "group_age = df.groupby(['age_group'])\n",
    "group_age['value'].sum()\n",
    "\n",
    "test_new = group_age['value'].sum()\n",
    "lst_sum = []\n",
    "for i in range(len(test_new)) : \n",
    "    new_vari = int(test_new[i])\n",
    "    #print(new_vari)\n",
    "    lst_sum.append(new_vari)\n",
    "\n",
    "x = ['Age : 15-19', 'Age : 20-24', 'Age : 25-29', 'Age : 30-34', 'Age : 35-39', 'Age : 40-49', 'Age : 50-59', 'Age : 60+']\n",
    "X_len = np.arange(len(x))\n",
    "print(X_len)\n",
    "print(lst_sum)\n",
    "plt.figure()\n",
    "\n",
    "plt.title('Amount of Employment in 2019')\n",
    "plt.bar(X_len-0.1,lst_sum,width = 0.5,label = 'value (unit : 1000)')\n",
    "plt.plot(X_len, lst_sum, marker = '*', linewidth = 2.0, color = 'pink')\n",
    "plt.xticks(X_len,x)\n",
    "plt.xticks(rotation = 90)\n",
    "plt.legend()\n",
    "plt.show()\n",
    "sns.set()"
   ]
  },
  {
   "cell_type": "code",
   "execution_count": 38,
   "id": "PlIa8lIUsfSN",
   "metadata": {
    "colab": {
     "base_uri": "https://localhost:8080/",
     "height": 373
    },
    "id": "PlIa8lIUsfSN",
    "outputId": "f82b2589-42f9-4cac-d853-896dd03ccd0a"
   },
   "outputs": [
    {
     "name": "stdout",
     "output_type": "stream",
     "text": [
      "[0 1 2 3 4 5 6 7]\n",
      "[3101, 12018, 16520, 16282, 17503, 37306, 31854, 16870]\n"
     ]
    },
    {
     "data": {
      "image/png": "[encoded data removed]",
      "text/plain": [
       "<Figure size 432x288 with 1 Axes>"
      ]
     },
     "metadata": {},
     "output_type": "display_data"
    }
   ],
   "source": [
    "## จำนวนผู้มีงานทำตามช่วงอายุ ในปีพ.ศ.2561 ##\n",
    "df = df_age_sex[(df_age_sex['year'] == 2561) & (df_age_sex['region'] == 'ทั่วประเทศ ') & (df_age_sex['age_group'] != 'รวม') & (df_age_sex['sex'] == 'รวม')][['year', 'age_group', 'sex', 'value']]\n",
    "group_age = df.groupby(['age_group'])\n",
    "group_age['value'].sum()\n",
    "\n",
    "test_new = group_age['value'].sum()\n",
    "lst_sum = []\n",
    "for i in range(len(test_new)) : \n",
    "    new_vari = int(test_new[i])\n",
    "    #print(new_vari)\n",
    "    lst_sum.append(new_vari)\n",
    "\n",
    "x = ['Age : 15-19', 'Age : 20-24', 'Age : 25-29', 'Age : 30-34', 'Age : 35-39', 'Age : 40-49', 'Age : 50-59', 'Age : 60+']\n",
    "X_len = np.arange(len(x))\n",
    "print(X_len)\n",
    "print(lst_sum)\n",
    "plt.figure()\n",
    "\n",
    "plt.title('Amount of Employment in 2018')\n",
    "plt.bar(X_len-0.1,lst_sum,width = 0.5,label = 'value (unit : 1000)')\n",
    "plt.plot(X_len, lst_sum, marker = '*', linewidth = 2.0, color = 'orange')\n",
    "plt.xticks(X_len,x)\n",
    "plt.xticks(rotation = 90)\n",
    "plt.legend()\n",
    "plt.show()\n",
    "sns.set()"
   ]
  },
  {
   "cell_type": "code",
   "execution_count": 39,
   "id": "6lINYtTQGKeI",
   "metadata": {
    "colab": {
     "base_uri": "https://localhost:8080/",
     "height": 373
    },
    "id": "6lINYtTQGKeI",
    "outputId": "b0333164-35da-4d26-9e25-2b89ac1fa85f"
   },
   "outputs": [
    {
     "name": "stdout",
     "output_type": "stream",
     "text": [
      "[0 1 2 3 4 5 6 7]\n",
      "[3139, 11764, 16204, 16385, 17968, 37495, 30914, 15960]\n"
     ]
    },
    {
     "data": {
      "image/png": "[encoded data removed]",
      "text/plain": [
       "<Figure size 432x288 with 1 Axes>"
      ]
     },
     "metadata": {},
     "output_type": "display_data"
    }
   ],
   "source": [
    "## จำนวนผู้มีงานทำตามช่วงอายุ ในปีพ.ศ.2560 ##\n",
    "df = df_age_sex[(df_age_sex['year'] == 2560) & (df_age_sex['region'] == 'ทั่วประเทศ ') & (df_age_sex['age_group'] != 'รวม') & (df_age_sex['sex'] == 'รวม')][['year', 'age_group', 'sex', 'value']]\n",
    "group_age = df.groupby(['age_group'])\n",
    "group_age['value'].sum()\n",
    "\n",
    "test_new = group_age['value'].sum()\n",
    "lst_sum = []\n",
    "for i in range(len(test_new)) : \n",
    "    new_vari = int(test_new[i])\n",
    "    #print(new_vari)\n",
    "    lst_sum.append(new_vari)\n",
    "\n",
    "x = ['Age : 15-19', 'Age : 20-24', 'Age : 25-29', 'Age : 30-34', 'Age : 35-39', 'Age : 40-49', 'Age : 50-59', 'Age : 60+']\n",
    "X_len = np.arange(len(x))\n",
    "print(X_len)\n",
    "print(lst_sum)\n",
    "plt.figure()\n",
    "\n",
    "plt.title('Amount of Employment in 2017')\n",
    "plt.bar(X_len-0.1,lst_sum,width = 0.5,label = 'value (unit : 1000)')\n",
    "plt.plot(X_len, lst_sum, marker = '*', linewidth = 2.0, color = 'gray')\n",
    "plt.xticks(X_len,x)\n",
    "plt.xticks(rotation = 90)\n",
    "plt.legend()\n",
    "plt.show()\n",
    "sns.set()"
   ]
  },
  {
   "cell_type": "code",
   "execution_count": 40,
   "id": "jS1hx0F7GVph",
   "metadata": {
    "colab": {
     "base_uri": "https://localhost:8080/",
     "height": 373
    },
    "id": "jS1hx0F7GVph",
    "outputId": "90dea704-f6e5-4eb9-e0e4-9089ff66f3eb"
   },
   "outputs": [
    {
     "name": "stdout",
     "output_type": "stream",
     "text": [
      "[0 1 2 3 4 5 6 7]\n",
      "[3344, 12028, 16277, 16818, 18434, 37970, 30499, 15397]\n"
     ]
    },
    {
     "data": {
      "image/png": "[encoded data removed]",
      "text/plain": [
       "<Figure size 432x288 with 1 Axes>"
      ]
     },
     "metadata": {},
     "output_type": "display_data"
    }
   ],
   "source": [
    "## จำนวนผู้มีงานทำตามช่วงอายุ ในปีพ.ศ.2559 ##\n",
    "df = df_age_sex[(df_age_sex['year'] == 2559) & (df_age_sex['region'] == 'ทั่วประเทศ ') & (df_age_sex['age_group'] != 'รวม') & (df_age_sex['sex'] == 'รวม')][['year', 'age_group', 'sex', 'value']]\n",
    "group_age = df.groupby(['age_group'])\n",
    "group_age['value'].sum()\n",
    "\n",
    "test_new = group_age['value'].sum()\n",
    "lst_sum = []\n",
    "for i in range(len(test_new)) : \n",
    "    new_vari = int(test_new[i])\n",
    "    #print(new_vari)\n",
    "    lst_sum.append(new_vari)\n",
    "\n",
    "x = ['Age : 15-19', 'Age : 20-24', 'Age : 25-29', 'Age : 30-34', 'Age : 35-39', 'Age : 40-49', 'Age : 50-59', 'Age : 60+']\n",
    "X_len = np.arange(len(x))\n",
    "print(X_len)\n",
    "print(lst_sum)\n",
    "plt.figure()\n",
    "\n",
    "plt.title('Amount of Employment in 2016')\n",
    "plt.bar(X_len-0.1,lst_sum,width = 0.5,label = 'value (unit : 1000)')\n",
    "plt.plot(X_len, lst_sum, marker = '*', linewidth = 2.0, color = 'green')\n",
    "plt.xticks(X_len,x)\n",
    "plt.xticks(rotation = 90)\n",
    "plt.legend()\n",
    "plt.show()\n",
    "sns.set()"
   ]
  },
  {
   "cell_type": "code",
   "execution_count": 41,
   "id": "yTREraqYGfKA",
   "metadata": {
    "colab": {
     "base_uri": "https://localhost:8080/",
     "height": 373
    },
    "id": "yTREraqYGfKA",
    "outputId": "955c66d8-bbf0-4c48-c224-a4f06fe24aff"
   },
   "outputs": [
    {
     "name": "stdout",
     "output_type": "stream",
     "text": [
      "[0 1 2 3 4 5 6 7]\n",
      "[3493, 12206, 16291, 17299, 18896, 38614, 30150, 15112]\n"
     ]
    },
    {
     "data": {
      "image/png": "[encoded data removed]",
      "text/plain": [
       "<Figure size 432x288 with 1 Axes>"
      ]
     },
     "metadata": {},
     "output_type": "display_data"
    }
   ],
   "source": [
    "## จำนวนผู้มีงานทำตามช่วงอายุ ในปีพ.ศ.2558 ##\n",
    "df = df_age_sex[(df_age_sex['year'] == 2558) & (df_age_sex['region'] == 'ทั่วประเทศ ') & (df_age_sex['age_group'] != 'รวม') & (df_age_sex['sex'] == 'รวม')][['year', 'age_group', 'sex', 'value']]\n",
    "group_age = df.groupby(['age_group'])\n",
    "group_age['value'].sum()\n",
    "\n",
    "test_new = group_age['value'].sum()\n",
    "lst_sum = []\n",
    "for i in range(len(test_new)) : \n",
    "    new_vari = int(test_new[i])\n",
    "    #print(new_vari)\n",
    "    lst_sum.append(new_vari)\n",
    "\n",
    "x = ['Age : 15-19', 'Age : 20-24', 'Age : 25-29', 'Age : 30-34', 'Age : 35-39', 'Age : 40-49', 'Age : 50-59', 'Age : 60+']\n",
    "X_len = np.arange(len(x))\n",
    "print(X_len)\n",
    "print(lst_sum)\n",
    "plt.figure()\n",
    "\n",
    "plt.title('Amount of Employment in 2015')\n",
    "plt.bar(X_len-0.1,lst_sum,width = 0.5,label = 'value (unit : 1000)')\n",
    "plt.plot(X_len, lst_sum, marker = '*', linewidth = 2.0, color = 'red')\n",
    "plt.xticks(X_len,x)\n",
    "plt.xticks(rotation = 90)\n",
    "plt.legend()\n",
    "plt.show()\n",
    "sns.set()"
   ]
  },
  {
   "cell_type": "code",
   "execution_count": null,
   "id": "ki2jl_UBGkk-",
   "metadata": {
    "colab": {
     "base_uri": "https://localhost:8080/",
     "height": 373
    },
    "id": "ki2jl_UBGkk-",
    "outputId": "57d2dd6f-d3a6-4594-cb3f-bf7d4babea01"
   },
   "outputs": [],
   "source": [
    "## จำนวนผู้มีงานทำตามช่วงอายุ ในปีพ.ศ.2557 ##\n",
    "df = df_age_sex[(df_age_sex['year'] == 2557) & (df_age_sex['region'] == 'ทั่วประเทศ ') & (df_age_sex['age_group'] != 'รวม') & (df_age_sex['sex'] == 'รวม')][['year', 'age_group', 'sex', 'value']]\n",
    "group_age = df.groupby(['age_group'])\n",
    "group_age['value'].sum()\n",
    "\n",
    "test_new = group_age['value'].sum()\n",
    "lst_sum = []\n",
    "for i in range(len(test_new)) : \n",
    "    new_vari = int(test_new[i])\n",
    "    #print(new_vari)\n",
    "    lst_sum.append(new_vari)\n",
    "\n",
    "x = ['Age : 15-19', 'Age : 20-24', 'Age : 25-29', 'Age : 30-34', 'Age : 35-39', 'Age : 40-49', 'Age : 50-59', 'Age : 60+']\n",
    "X_len = np.arange(len(x))\n",
    "print(X_len)\n",
    "print(lst_sum)\n",
    "plt.figure()\n",
    "\n",
    "plt.title('Amount of Employment in 2014')\n",
    "plt.bar(X_len-0.1,lst_sum,width = 0.5,label = 'value (unit : 1000)')\n",
    "plt.plot(X_len, lst_sum, marker = '*', linewidth = 2.0, color = 'olive')\n",
    "plt.xticks(X_len,x)\n",
    "plt.xticks(rotation = 90)\n",
    "plt.legend()\n",
    "plt.show()\n",
    "sns.set()"
   ]
  },
  {
   "cell_type": "code",
   "execution_count": null,
   "id": "ZffloKSrGuFj",
   "metadata": {
    "colab": {
     "base_uri": "https://localhost:8080/",
     "height": 373
    },
    "id": "ZffloKSrGuFj",
    "outputId": "dc75f00a-bea2-467b-b5b9-b4a7d73e16a1"
   },
   "outputs": [],
   "source": [
    "## จำนวนผู้มีงานทำตามช่วงอายุ ในปีพ.ศ.2556 ##\n",
    "df = df_age_sex[(df_age_sex['year'] == 2556) & (df_age_sex['region'] == 'ทั่วประเทศ ') & (df_age_sex['age_group'] != 'รวม') & (df_age_sex['sex'] == 'รวม')][['year', 'age_group', 'sex', 'value']]\n",
    "group_age = df.groupby(['age_group'])\n",
    "group_age['value'].sum()\n",
    "\n",
    "test_new = group_age['value'].sum()\n",
    "lst_sum = []\n",
    "for i in range(len(test_new)) : \n",
    "    new_vari = int(test_new[i])\n",
    "    #print(new_vari)\n",
    "    lst_sum.append(new_vari)\n",
    "\n",
    "x = ['Age : 15-19', 'Age : 20-24', 'Age : 25-29', 'Age : 30-34', 'Age : 35-39', 'Age : 40-49', 'Age : 50-59', 'Age : 60+']\n",
    "X_len = np.arange(len(x))\n",
    "print(X_len)\n",
    "print(lst_sum)\n",
    "plt.figure()\n",
    "\n",
    "plt.title('Amount of Employment in 2013')\n",
    "plt.bar(X_len-0.1,lst_sum,width = 0.5,label = 'value (unit : 1000)')\n",
    "plt.plot(X_len, lst_sum, marker = '*', linewidth = 2.0, color = 'black')\n",
    "plt.xticks(X_len,x)\n",
    "plt.xticks(rotation = 90)\n",
    "plt.legend()\n",
    "plt.show()\n",
    "sns.set()"
   ]
  }
 ],
 "metadata": {
  "colab": {
   "provenance": []
  },
  "kernelspec": {
   "display_name": "Python 3 (ipykernel)",
   "language": "python",
   "name": "python3"
  },
  "language_info": {
   "codemirror_mode": {
    "name": "ipython",
    "version": 3
   },
   "file_extension": ".py",
   "mimetype": "text/x-python",
   "name": "python",
   "nbconvert_exporter": "python",
   "pygments_lexer": "ipython3",
   "version": "3.9.7"
  }
 },
 "nbformat": 4,
 "nbformat_minor": 5
}
