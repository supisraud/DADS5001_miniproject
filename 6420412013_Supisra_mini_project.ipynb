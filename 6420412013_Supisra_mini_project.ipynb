{
  "cells": [
    {
      "cell_type": "code",
      "execution_count": null,
      "id": "2375628b",
      "metadata": {
        "colab": {
          "base_uri": "https://localhost:8080/"
        },
        "id": "2375628b",
        "outputId": "0988b055-b82d-49dd-a62f-cef9ee3f145d"
      },
      "outputs": [
        {
          "output_type": "stream",
          "name": "stdout",
          "text": [
            "Python 3.7.14 (default, Sep  8 2022, 00:06:44) \n",
            "[GCC 7.5.0]\n",
            "Pandas 1.3.5\n",
            "NumPy 1.21.6\n"
          ]
        }
      ],
      "source": [
        "import sys\n",
        "import pandas as pd\n",
        "import numpy as np\n",
        "import matplotlib as mpl\n",
        "%matplotlib inline\n",
        "import matplotlib.pyplot as plt\n",
        "import seaborn as sns\n",
        "sns.set()\n",
        "print( f\"Python {sys.version}\\nPandas {pd.__version__}\\nNumPy {np.__version__}\" ) "
      ]
    },
    {
      "cell_type": "code",
      "execution_count": null,
      "id": "8c1129c9",
      "metadata": {
        "colab": {
          "base_uri": "https://localhost:8080/",
          "height": 684
        },
        "id": "8c1129c9",
        "outputId": "44df7332-f718-46b3-cd0d-95f8f4486ac5"
      },
      "outputs": [
        {
          "output_type": "stream",
          "name": "stdout",
          "text": [
            "<class 'pandas.core.frame.DataFrame'>\n",
            "RangeIndex: 6499 entries, 0 to 6498\n",
            "Data columns (total 8 columns):\n",
            " #   Column        Non-Null Count  Dtype  \n",
            "---  ------        --------------  -----  \n",
            " 0   year          6499 non-null   int64  \n",
            " 1   quarter       6499 non-null   object \n",
            " 2   region        6499 non-null   object \n",
            " 3   area          6499 non-null   object \n",
            " 4   level_of_edu  6499 non-null   object \n",
            " 5   value         6499 non-null   float64\n",
            " 6   unit          6499 non-null   object \n",
            " 7   source        6499 non-null   object \n",
            "dtypes: float64(1), int64(1), object(6)\n",
            "memory usage: 406.3+ KB\n"
          ]
        },
        {
          "output_type": "execute_result",
          "data": {
            "text/plain": [
              "      year      quarter      region          area  \\\n",
              "0     2556  ไตรมาสที่ 1  ทั่วประเทศ           รวม   \n",
              "1     2556  ไตรมาสที่ 1  ทั่วประเทศ           รวม   \n",
              "2     2556  ไตรมาสที่ 1  ทั่วประเทศ           รวม   \n",
              "3     2556  ไตรมาสที่ 1  ทั่วประเทศ           รวม   \n",
              "4     2556  ไตรมาสที่ 1  ทั่วประเทศ           รวม   \n",
              "...    ...          ...         ...           ...   \n",
              "6494  2563  ไตรมาสที่ 4      ภาคใต้  นอกเขตเทศบาล   \n",
              "6495  2563  ไตรมาสที่ 4      ภาคใต้  นอกเขตเทศบาล   \n",
              "6496  2563  ไตรมาสที่ 4      ภาคใต้  นอกเขตเทศบาล   \n",
              "6497  2563  ไตรมาสที่ 4      ภาคใต้  นอกเขตเทศบาล   \n",
              "6498  2563  ไตรมาสที่ 4      ภาคใต้  นอกเขตเทศบาล   \n",
              "\n",
              "                     level_of_edu     value   unit                 source  \n",
              "0                             รวม  38516.37  พันคน  สำนักงานสถิติแห่งชาติ  \n",
              "1                   ไม่มีการศึกษา   1289.97  พันคน  สำนักงานสถิติแห่งชาติ  \n",
              "2               ต่ำกว่าประถมศึกษา   9358.57  พันคน  สำนักงานสถิติแห่งชาติ  \n",
              "3                      ประถมศึกษา   8963.54  พันคน  สำนักงานสถิติแห่งชาติ  \n",
              "4                มัธยมศึกษาตอนต้น   6256.64  พันคน  สำนักงานสถิติแห่งชาติ  \n",
              "...                           ...       ...    ...                    ...  \n",
              "6494       อุดมศึกษา (สายวิชาการ)    307.09  พันคน  สำนักงานสถิติแห่งชาติ  \n",
              "6495       อุดมศึกษา (สายวิชาชีพ)    179.29  พันคน  สำนักงานสถิติแห่งชาติ  \n",
              "6496  อุดมศึกษา (สายวิชาการศึกษา)     69.45  พันคน  สำนักงานสถิติแห่งชาติ  \n",
              "6497                        อื่นๆ      3.18  พันคน  สำนักงานสถิติแห่งชาติ  \n",
              "6498                      ไม่ทราบ     15.49  พันคน  สำนักงานสถิติแห่งชาติ  \n",
              "\n",
              "[6499 rows x 8 columns]"
            ],
            "text/html": [
              "\n",
              "  <div id=\"df-0d41033d-5cd0-440f-bb2b-122f41fe1be8\">\n",
              "    <div class=\"colab-df-container\">\n",
              "      <div>\n",
              "<style scoped>\n",
              "    .dataframe tbody tr th:only-of-type {\n",
              "        vertical-align: middle;\n",
              "    }\n",
              "\n",
              "    .dataframe tbody tr th {\n",
              "        vertical-align: top;\n",
              "    }\n",
              "\n",
              "    .dataframe thead th {\n",
              "        text-align: right;\n",
              "    }\n",
              "</style>\n",
              "<table border=\"1\" class=\"dataframe\">\n",
              "  <thead>\n",
              "    <tr style=\"text-align: right;\">\n",
              "      <th></th>\n",
              "      <th>year</th>\n",
              "      <th>quarter</th>\n",
              "      <th>region</th>\n",
              "      <th>area</th>\n",
              "      <th>level_of_edu</th>\n",
              "      <th>value</th>\n",
              "      <th>unit</th>\n",
              "      <th>source</th>\n",
              "    </tr>\n",
              "  </thead>\n",
              "  <tbody>\n",
              "    <tr>\n",
              "      <th>0</th>\n",
              "      <td>2556</td>\n",
              "      <td>ไตรมาสที่ 1</td>\n",
              "      <td>ทั่วประเทศ</td>\n",
              "      <td>รวม</td>\n",
              "      <td>รวม</td>\n",
              "      <td>38516.37</td>\n",
              "      <td>พันคน</td>\n",
              "      <td>สำนักงานสถิติแห่งชาติ</td>\n",
              "    </tr>\n",
              "    <tr>\n",
              "      <th>1</th>\n",
              "      <td>2556</td>\n",
              "      <td>ไตรมาสที่ 1</td>\n",
              "      <td>ทั่วประเทศ</td>\n",
              "      <td>รวม</td>\n",
              "      <td>ไม่มีการศึกษา</td>\n",
              "      <td>1289.97</td>\n",
              "      <td>พันคน</td>\n",
              "      <td>สำนักงานสถิติแห่งชาติ</td>\n",
              "    </tr>\n",
              "    <tr>\n",
              "      <th>2</th>\n",
              "      <td>2556</td>\n",
              "      <td>ไตรมาสที่ 1</td>\n",
              "      <td>ทั่วประเทศ</td>\n",
              "      <td>รวม</td>\n",
              "      <td>ต่ำกว่าประถมศึกษา</td>\n",
              "      <td>9358.57</td>\n",
              "      <td>พันคน</td>\n",
              "      <td>สำนักงานสถิติแห่งชาติ</td>\n",
              "    </tr>\n",
              "    <tr>\n",
              "      <th>3</th>\n",
              "      <td>2556</td>\n",
              "      <td>ไตรมาสที่ 1</td>\n",
              "      <td>ทั่วประเทศ</td>\n",
              "      <td>รวม</td>\n",
              "      <td>ประถมศึกษา</td>\n",
              "      <td>8963.54</td>\n",
              "      <td>พันคน</td>\n",
              "      <td>สำนักงานสถิติแห่งชาติ</td>\n",
              "    </tr>\n",
              "    <tr>\n",
              "      <th>4</th>\n",
              "      <td>2556</td>\n",
              "      <td>ไตรมาสที่ 1</td>\n",
              "      <td>ทั่วประเทศ</td>\n",
              "      <td>รวม</td>\n",
              "      <td>มัธยมศึกษาตอนต้น</td>\n",
              "      <td>6256.64</td>\n",
              "      <td>พันคน</td>\n",
              "      <td>สำนักงานสถิติแห่งชาติ</td>\n",
              "    </tr>\n",
              "    <tr>\n",
              "      <th>...</th>\n",
              "      <td>...</td>\n",
              "      <td>...</td>\n",
              "      <td>...</td>\n",
              "      <td>...</td>\n",
              "      <td>...</td>\n",
              "      <td>...</td>\n",
              "      <td>...</td>\n",
              "      <td>...</td>\n",
              "    </tr>\n",
              "    <tr>\n",
              "      <th>6494</th>\n",
              "      <td>2563</td>\n",
              "      <td>ไตรมาสที่ 4</td>\n",
              "      <td>ภาคใต้</td>\n",
              "      <td>นอกเขตเทศบาล</td>\n",
              "      <td>อุดมศึกษา (สายวิชาการ)</td>\n",
              "      <td>307.09</td>\n",
              "      <td>พันคน</td>\n",
              "      <td>สำนักงานสถิติแห่งชาติ</td>\n",
              "    </tr>\n",
              "    <tr>\n",
              "      <th>6495</th>\n",
              "      <td>2563</td>\n",
              "      <td>ไตรมาสที่ 4</td>\n",
              "      <td>ภาคใต้</td>\n",
              "      <td>นอกเขตเทศบาล</td>\n",
              "      <td>อุดมศึกษา (สายวิชาชีพ)</td>\n",
              "      <td>179.29</td>\n",
              "      <td>พันคน</td>\n",
              "      <td>สำนักงานสถิติแห่งชาติ</td>\n",
              "    </tr>\n",
              "    <tr>\n",
              "      <th>6496</th>\n",
              "      <td>2563</td>\n",
              "      <td>ไตรมาสที่ 4</td>\n",
              "      <td>ภาคใต้</td>\n",
              "      <td>นอกเขตเทศบาล</td>\n",
              "      <td>อุดมศึกษา (สายวิชาการศึกษา)</td>\n",
              "      <td>69.45</td>\n",
              "      <td>พันคน</td>\n",
              "      <td>สำนักงานสถิติแห่งชาติ</td>\n",
              "    </tr>\n",
              "    <tr>\n",
              "      <th>6497</th>\n",
              "      <td>2563</td>\n",
              "      <td>ไตรมาสที่ 4</td>\n",
              "      <td>ภาคใต้</td>\n",
              "      <td>นอกเขตเทศบาล</td>\n",
              "      <td>อื่นๆ</td>\n",
              "      <td>3.18</td>\n",
              "      <td>พันคน</td>\n",
              "      <td>สำนักงานสถิติแห่งชาติ</td>\n",
              "    </tr>\n",
              "    <tr>\n",
              "      <th>6498</th>\n",
              "      <td>2563</td>\n",
              "      <td>ไตรมาสที่ 4</td>\n",
              "      <td>ภาคใต้</td>\n",
              "      <td>นอกเขตเทศบาล</td>\n",
              "      <td>ไม่ทราบ</td>\n",
              "      <td>15.49</td>\n",
              "      <td>พันคน</td>\n",
              "      <td>สำนักงานสถิติแห่งชาติ</td>\n",
              "    </tr>\n",
              "  </tbody>\n",
              "</table>\n",
              "<p>6499 rows × 8 columns</p>\n",
              "</div>\n",
              "      <button class=\"colab-df-convert\" onclick=\"convertToInteractive('df-0d41033d-5cd0-440f-bb2b-122f41fe1be8')\"\n",
              "              title=\"Convert this dataframe to an interactive table.\"\n",
              "              style=\"display:none;\">\n",
              "        \n",
              "  <svg xmlns=\"http://www.w3.org/2000/svg\" height=\"24px\"viewBox=\"0 0 24 24\"\n",
              "       width=\"24px\">\n",
              "    <path d=\"M0 0h24v24H0V0z\" fill=\"none\"/>\n",
              "    <path d=\"M18.56 5.44l.94 2.06.94-2.06 2.06-.94-2.06-.94-.94-2.06-.94 2.06-2.06.94zm-11 1L8.5 8.5l.94-2.06 2.06-.94-2.06-.94L8.5 2.5l-.94 2.06-2.06.94zm10 10l.94 2.06.94-2.06 2.06-.94-2.06-.94-.94-2.06-.94 2.06-2.06.94z\"/><path d=\"M17.41 7.96l-1.37-1.37c-.4-.4-.92-.59-1.43-.59-.52 0-1.04.2-1.43.59L10.3 9.45l-7.72 7.72c-.78.78-.78 2.05 0 2.83L4 21.41c.39.39.9.59 1.41.59.51 0 1.02-.2 1.41-.59l7.78-7.78 2.81-2.81c.8-.78.8-2.07 0-2.86zM5.41 20L4 18.59l7.72-7.72 1.47 1.35L5.41 20z\"/>\n",
              "  </svg>\n",
              "      </button>\n",
              "      \n",
              "  <style>\n",
              "    .colab-df-container {\n",
              "      display:flex;\n",
              "      flex-wrap:wrap;\n",
              "      gap: 12px;\n",
              "    }\n",
              "\n",
              "    .colab-df-convert {\n",
              "      background-color: #E8F0FE;\n",
              "      border: none;\n",
              "      border-radius: 50%;\n",
              "      cursor: pointer;\n",
              "      display: none;\n",
              "      fill: #1967D2;\n",
              "      height: 32px;\n",
              "      padding: 0 0 0 0;\n",
              "      width: 32px;\n",
              "    }\n",
              "\n",
              "    .colab-df-convert:hover {\n",
              "      background-color: #E2EBFA;\n",
              "      box-shadow: 0px 1px 2px rgba(60, 64, 67, 0.3), 0px 1px 3px 1px rgba(60, 64, 67, 0.15);\n",
              "      fill: #174EA6;\n",
              "    }\n",
              "\n",
              "    [theme=dark] .colab-df-convert {\n",
              "      background-color: #3B4455;\n",
              "      fill: #D2E3FC;\n",
              "    }\n",
              "\n",
              "    [theme=dark] .colab-df-convert:hover {\n",
              "      background-color: #434B5C;\n",
              "      box-shadow: 0px 1px 3px 1px rgba(0, 0, 0, 0.15);\n",
              "      filter: drop-shadow(0px 1px 2px rgba(0, 0, 0, 0.3));\n",
              "      fill: #FFFFFF;\n",
              "    }\n",
              "  </style>\n",
              "\n",
              "      <script>\n",
              "        const buttonEl =\n",
              "          document.querySelector('#df-0d41033d-5cd0-440f-bb2b-122f41fe1be8 button.colab-df-convert');\n",
              "        buttonEl.style.display =\n",
              "          google.colab.kernel.accessAllowed ? 'block' : 'none';\n",
              "\n",
              "        async function convertToInteractive(key) {\n",
              "          const element = document.querySelector('#df-0d41033d-5cd0-440f-bb2b-122f41fe1be8');\n",
              "          const dataTable =\n",
              "            await google.colab.kernel.invokeFunction('convertToInteractive',\n",
              "                                                     [key], {});\n",
              "          if (!dataTable) return;\n",
              "\n",
              "          const docLinkHtml = 'Like what you see? Visit the ' +\n",
              "            '<a target=\"_blank\" href=https://colab.research.google.com/notebooks/data_table.ipynb>data table notebook</a>'\n",
              "            + ' to learn more about interactive tables.';\n",
              "          element.innerHTML = '';\n",
              "          dataTable['output_type'] = 'display_data';\n",
              "          await google.colab.output.renderOutput(dataTable, element);\n",
              "          const docLink = document.createElement('div');\n",
              "          docLink.innerHTML = docLinkHtml;\n",
              "          element.appendChild(docLink);\n",
              "        }\n",
              "      </script>\n",
              "    </div>\n",
              "  </div>\n",
              "  "
            ]
          },
          "metadata": {},
          "execution_count": 68
        }
      ],
      "source": [
        "df_worker = pd.read_csv('/ผู้มีงานทำ.csv')\n",
        "df_worker.info()\n",
        "df_worker"
      ]
    },
    {
      "cell_type": "code",
      "execution_count": null,
      "id": "b712b194",
      "metadata": {
        "colab": {
          "base_uri": "https://localhost:8080/"
        },
        "id": "b712b194",
        "outputId": "4cd1d32b-8e30-4272-96a4-93dcbb382faa"
      },
      "outputs": [
        {
          "output_type": "execute_result",
          "data": {
            "text/plain": [
              "year            0\n",
              "quarter         0\n",
              "region          0\n",
              "area            0\n",
              "level_of_edu    0\n",
              "value           0\n",
              "unit            0\n",
              "source          0\n",
              "dtype: int64"
            ]
          },
          "metadata": {},
          "execution_count": 5
        }
      ],
      "source": [
        "## check null value ##\n",
        "df_worker.isnull().sum()"
      ]
    },
    {
      "cell_type": "code",
      "execution_count": null,
      "id": "aab8c27d",
      "metadata": {
        "id": "aab8c27d",
        "outputId": "4ee02b6d-3276-4585-bcb5-0d25dd2b6ac8"
      },
      "outputs": [
        {
          "data": {
            "text/plain": [
              "0       False\n",
              "1       False\n",
              "2       False\n",
              "3       False\n",
              "4       False\n",
              "        ...  \n",
              "6494    False\n",
              "6495    False\n",
              "6496    False\n",
              "6497    False\n",
              "6498    False\n",
              "Name: region, Length: 6499, dtype: bool"
            ]
          },
          "execution_count": 4,
          "metadata": {},
          "output_type": "execute_result"
        }
      ],
      "source": [
        "df_worker['region'].isna()"
      ]
    },
    {
      "cell_type": "code",
      "execution_count": null,
      "id": "12112c34",
      "metadata": {
        "id": "12112c34",
        "outputId": "24ac09c8-2355-4ced-c5c5-815c61ad5c7d"
      },
      "outputs": [
        {
          "data": {
            "text/plain": [
              "0       False\n",
              "1       False\n",
              "2       False\n",
              "3       False\n",
              "4       False\n",
              "        ...  \n",
              "6494    False\n",
              "6495    False\n",
              "6496    False\n",
              "6497    False\n",
              "6498    False\n",
              "Name: level_of_edu, Length: 6499, dtype: bool"
            ]
          },
          "execution_count": 5,
          "metadata": {},
          "output_type": "execute_result"
        }
      ],
      "source": [
        "df_worker['level_of_edu'].isna()"
      ]
    },
    {
      "cell_type": "code",
      "execution_count": null,
      "id": "dd17e078",
      "metadata": {
        "id": "dd17e078",
        "outputId": "5009ccd8-aada-4a8e-d63a-adcba67ae71d"
      },
      "outputs": [
        {
          "data": {
            "text/plain": [
              "array(['ทั่วประเทศ', 'กรุงเทพมหานคร', 'ภาคกลาง', 'ภาคเหนือ',\n",
              "       'ภาคตะวันออกเฉียงเหนือ', 'ภาคใต้'], dtype=object)"
            ]
          },
          "execution_count": 6,
          "metadata": {},
          "output_type": "execute_result"
        }
      ],
      "source": [
        "## check ข้อมูลในตัวแปร ##\n",
        "df_worker['region'].unique()"
      ]
    },
    {
      "cell_type": "code",
      "execution_count": null,
      "id": "7992f0d6",
      "metadata": {
        "id": "7992f0d6",
        "outputId": "912828a6-9248-4cd3-f8e6-8d884b6c783a"
      },
      "outputs": [
        {
          "data": {
            "text/plain": [
              "ทั่วประเทศ               1247\n",
              "ภาคกลาง                  1243\n",
              "ภาคเหนือ                 1238\n",
              "ภาคใต้                   1228\n",
              "ภาคตะวันออกเฉียงเหนือ    1167\n",
              "กรุงเทพมหานคร             376\n",
              "Name: region, dtype: int64"
            ]
          },
          "execution_count": 7,
          "metadata": {},
          "output_type": "execute_result"
        }
      ],
      "source": [
        "df_worker['region'].value_counts()"
      ]
    },
    {
      "cell_type": "code",
      "execution_count": null,
      "id": "16a5e8c2",
      "metadata": {
        "id": "16a5e8c2",
        "outputId": "bfce448c-5be9-45f1-c12c-d614151c4e9b"
      },
      "outputs": [
        {
          "data": {
            "text/plain": [
              "array(['รวม', 'ไม่มีการศึกษา', 'ต่ำกว่าประถมศึกษา', 'ประถมศึกษา',\n",
              "       'มัธยมศึกษาตอนต้น', 'มัธยมศึกษาตอนปลาย (สายสามัญ)',\n",
              "       'มัธยมศึกษาตอนปลาย (สายอาชีวศึกษา)',\n",
              "       'มัธยมศึกษาตอนปลาย (สายวิชาการศึกษา)', 'อุดมศึกษา (สายวิชาการ)',\n",
              "       'อุดมศึกษา (สายวิชาชีพ)', 'อุดมศึกษา (สายวิชาการศึกษา)', 'อื่นๆ',\n",
              "       'ไม่ทราบ', 'ต่ำกว่าประถม ศึกษา', 'ประถม ศึกษา'], dtype=object)"
            ]
          },
          "execution_count": 8,
          "metadata": {},
          "output_type": "execute_result"
        }
      ],
      "source": [
        "df_worker['level_of_edu'].unique()"
      ]
    },
    {
      "cell_type": "code",
      "execution_count": null,
      "id": "fb119ef3",
      "metadata": {
        "id": "fb119ef3",
        "outputId": "16a2e99d-c2f5-4c68-ca51-4ad60aef9451"
      },
      "outputs": [
        {
          "data": {
            "text/plain": [
              "รวม                                    512\n",
              "ไม่มีการศึกษา                          512\n",
              "มัธยมศึกษาตอนต้น                       512\n",
              "มัธยมศึกษาตอนปลาย (สายสามัญ)           512\n",
              "มัธยมศึกษาตอนปลาย (สายอาชีวศึกษา)      512\n",
              "อุดมศึกษา (สายวิชาการ)                 512\n",
              "อุดมศึกษา (สายวิชาชีพ)                 512\n",
              "อุดมศึกษา (สายวิชาการศึกษา)            512\n",
              "ไม่ทราบ                                507\n",
              "มัธยมศึกษาตอนปลาย (สายวิชาการศึกษา)    446\n",
              "อื่นๆ                                  426\n",
              "ต่ำกว่าประถมศึกษา                      384\n",
              "ประถมศึกษา                             384\n",
              "ต่ำกว่าประถม ศึกษา                     128\n",
              "ประถม ศึกษา                            128\n",
              "Name: level_of_edu, dtype: int64"
            ]
          },
          "execution_count": 9,
          "metadata": {},
          "output_type": "execute_result"
        }
      ],
      "source": [
        "df_worker['level_of_edu'].value_counts()"
      ]
    },
    {
      "cell_type": "code",
      "execution_count": null,
      "id": "91a09a99",
      "metadata": {
        "id": "91a09a99",
        "outputId": "578dc04d-ff96-4774-954f-93ccc678c116"
      },
      "outputs": [
        {
          "data": {
            "text/html": [
              "<div>\n",
              "<style scoped>\n",
              "    .dataframe tbody tr th:only-of-type {\n",
              "        vertical-align: middle;\n",
              "    }\n",
              "\n",
              "    .dataframe tbody tr th {\n",
              "        vertical-align: top;\n",
              "    }\n",
              "\n",
              "    .dataframe thead th {\n",
              "        text-align: right;\n",
              "    }\n",
              "</style>\n",
              "<table border=\"1\" class=\"dataframe\">\n",
              "  <thead>\n",
              "    <tr style=\"text-align: right;\">\n",
              "      <th></th>\n",
              "      <th>year</th>\n",
              "      <th>quarter</th>\n",
              "      <th>level_of_edu</th>\n",
              "      <th>value</th>\n",
              "    </tr>\n",
              "  </thead>\n",
              "  <tbody>\n",
              "    <tr>\n",
              "      <th>1</th>\n",
              "      <td>2556</td>\n",
              "      <td>ไตรมาสที่ 1</td>\n",
              "      <td>ไม่มีการศึกษา</td>\n",
              "      <td>1289.97</td>\n",
              "    </tr>\n",
              "    <tr>\n",
              "      <th>53</th>\n",
              "      <td>2557</td>\n",
              "      <td>ไตรมาสที่ 1</td>\n",
              "      <td>ไม่มีการศึกษา</td>\n",
              "      <td>1351.39</td>\n",
              "    </tr>\n",
              "    <tr>\n",
              "      <th>105</th>\n",
              "      <td>2558</td>\n",
              "      <td>ไตรมาสที่ 1</td>\n",
              "      <td>ไม่มีการศึกษา</td>\n",
              "      <td>1247.58</td>\n",
              "    </tr>\n",
              "    <tr>\n",
              "      <th>157</th>\n",
              "      <td>2559</td>\n",
              "      <td>ไตรมาสที่ 1</td>\n",
              "      <td>ไม่มีการศึกษา</td>\n",
              "      <td>1236.80</td>\n",
              "    </tr>\n",
              "    <tr>\n",
              "      <th>209</th>\n",
              "      <td>2560</td>\n",
              "      <td>ไตรมาสที่ 1</td>\n",
              "      <td>ไม่มีการศึกษา</td>\n",
              "      <td>1199.30</td>\n",
              "    </tr>\n",
              "    <tr>\n",
              "      <th>...</th>\n",
              "      <td>...</td>\n",
              "      <td>...</td>\n",
              "      <td>...</td>\n",
              "      <td>...</td>\n",
              "    </tr>\n",
              "    <tr>\n",
              "      <th>6249</th>\n",
              "      <td>2559</td>\n",
              "      <td>ไตรมาสที่ 1</td>\n",
              "      <td>ไม่มีการศึกษา</td>\n",
              "      <td>110.31</td>\n",
              "    </tr>\n",
              "    <tr>\n",
              "      <th>6300</th>\n",
              "      <td>2560</td>\n",
              "      <td>ไตรมาสที่ 1</td>\n",
              "      <td>ไม่มีการศึกษา</td>\n",
              "      <td>116.70</td>\n",
              "    </tr>\n",
              "    <tr>\n",
              "      <th>6349</th>\n",
              "      <td>2561</td>\n",
              "      <td>ไตรมาสที่ 1</td>\n",
              "      <td>ไม่มีการศึกษา</td>\n",
              "      <td>112.38</td>\n",
              "    </tr>\n",
              "    <tr>\n",
              "      <th>6398</th>\n",
              "      <td>2562</td>\n",
              "      <td>ไตรมาสที่ 1</td>\n",
              "      <td>ไม่มีการศึกษา</td>\n",
              "      <td>104.66</td>\n",
              "    </tr>\n",
              "    <tr>\n",
              "      <th>6449</th>\n",
              "      <td>2563</td>\n",
              "      <td>ไตรมาสที่ 1</td>\n",
              "      <td>ไม่มีการศึกษา</td>\n",
              "      <td>115.09</td>\n",
              "    </tr>\n",
              "  </tbody>\n",
              "</table>\n",
              "<p>128 rows × 4 columns</p>\n",
              "</div>"
            ],
            "text/plain": [
              "      year      quarter   level_of_edu    value\n",
              "1     2556  ไตรมาสที่ 1  ไม่มีการศึกษา  1289.97\n",
              "53    2557  ไตรมาสที่ 1  ไม่มีการศึกษา  1351.39\n",
              "105   2558  ไตรมาสที่ 1  ไม่มีการศึกษา  1247.58\n",
              "157   2559  ไตรมาสที่ 1  ไม่มีการศึกษา  1236.80\n",
              "209   2560  ไตรมาสที่ 1  ไม่มีการศึกษา  1199.30\n",
              "...    ...          ...            ...      ...\n",
              "6249  2559  ไตรมาสที่ 1  ไม่มีการศึกษา   110.31\n",
              "6300  2560  ไตรมาสที่ 1  ไม่มีการศึกษา   116.70\n",
              "6349  2561  ไตรมาสที่ 1  ไม่มีการศึกษา   112.38\n",
              "6398  2562  ไตรมาสที่ 1  ไม่มีการศึกษา   104.66\n",
              "6449  2563  ไตรมาสที่ 1  ไม่มีการศึกษา   115.09\n",
              "\n",
              "[128 rows x 4 columns]"
            ]
          },
          "execution_count": 10,
          "metadata": {},
          "output_type": "execute_result"
        }
      ],
      "source": [
        "df_worker[(df_worker['quarter'] == 'ไตรมาสที่ 1') & (df_worker['level_of_edu'] == 'ไม่มีการศึกษา')][['year', 'quarter', 'level_of_edu', 'value']]"
      ]
    },
    {
      "cell_type": "code",
      "execution_count": null,
      "id": "2e4aaa18",
      "metadata": {
        "id": "2e4aaa18",
        "outputId": "fee268ba-38af-4a48-f817-142539c2dbab"
      },
      "outputs": [
        {
          "data": {
            "text/html": [
              "<div>\n",
              "<style scoped>\n",
              "    .dataframe tbody tr th:only-of-type {\n",
              "        vertical-align: middle;\n",
              "    }\n",
              "\n",
              "    .dataframe tbody tr th {\n",
              "        vertical-align: top;\n",
              "    }\n",
              "\n",
              "    .dataframe thead th {\n",
              "        text-align: right;\n",
              "    }\n",
              "</style>\n",
              "<table border=\"1\" class=\"dataframe\">\n",
              "  <thead>\n",
              "    <tr style=\"text-align: right;\">\n",
              "      <th></th>\n",
              "      <th>year</th>\n",
              "      <th>region</th>\n",
              "      <th>level_of_edu</th>\n",
              "      <th>value</th>\n",
              "    </tr>\n",
              "  </thead>\n",
              "  <tbody>\n",
              "    <tr>\n",
              "      <th>1255</th>\n",
              "      <td>2556</td>\n",
              "      <td>กรุงเทพมหานคร</td>\n",
              "      <td>อุดมศึกษา (สายวิชาการ)</td>\n",
              "      <td>1290.23</td>\n",
              "    </tr>\n",
              "    <tr>\n",
              "      <th>1267</th>\n",
              "      <td>2556</td>\n",
              "      <td>กรุงเทพมหานคร</td>\n",
              "      <td>อุดมศึกษา (สายวิชาการ)</td>\n",
              "      <td>1306.35</td>\n",
              "    </tr>\n",
              "    <tr>\n",
              "      <th>1278</th>\n",
              "      <td>2556</td>\n",
              "      <td>กรุงเทพมหานคร</td>\n",
              "      <td>อุดมศึกษา (สายวิชาการ)</td>\n",
              "      <td>1306.87</td>\n",
              "    </tr>\n",
              "    <tr>\n",
              "      <th>1289</th>\n",
              "      <td>2556</td>\n",
              "      <td>กรุงเทพมหานคร</td>\n",
              "      <td>อุดมศึกษา (สายวิชาการ)</td>\n",
              "      <td>1282.14</td>\n",
              "    </tr>\n",
              "    <tr>\n",
              "      <th>1301</th>\n",
              "      <td>2557</td>\n",
              "      <td>กรุงเทพมหานคร</td>\n",
              "      <td>อุดมศึกษา (สายวิชาการ)</td>\n",
              "      <td>1704.83</td>\n",
              "    </tr>\n",
              "    <tr>\n",
              "      <th>...</th>\n",
              "      <td>...</td>\n",
              "      <td>...</td>\n",
              "      <td>...</td>\n",
              "      <td>...</td>\n",
              "    </tr>\n",
              "    <tr>\n",
              "      <th>6443</th>\n",
              "      <td>2562</td>\n",
              "      <td>ภาคใต้</td>\n",
              "      <td>อุดมศึกษา (สายวิชาการ)</td>\n",
              "      <td>294.03</td>\n",
              "    </tr>\n",
              "    <tr>\n",
              "      <th>6456</th>\n",
              "      <td>2563</td>\n",
              "      <td>ภาคใต้</td>\n",
              "      <td>อุดมศึกษา (สายวิชาการ)</td>\n",
              "      <td>330.60</td>\n",
              "    </tr>\n",
              "    <tr>\n",
              "      <th>6468</th>\n",
              "      <td>2563</td>\n",
              "      <td>ภาคใต้</td>\n",
              "      <td>อุดมศึกษา (สายวิชาการ)</td>\n",
              "      <td>313.91</td>\n",
              "    </tr>\n",
              "    <tr>\n",
              "      <th>6481</th>\n",
              "      <td>2563</td>\n",
              "      <td>ภาคใต้</td>\n",
              "      <td>อุดมศึกษา (สายวิชาการ)</td>\n",
              "      <td>327.65</td>\n",
              "    </tr>\n",
              "    <tr>\n",
              "      <th>6494</th>\n",
              "      <td>2563</td>\n",
              "      <td>ภาคใต้</td>\n",
              "      <td>อุดมศึกษา (สายวิชาการ)</td>\n",
              "      <td>307.09</td>\n",
              "    </tr>\n",
              "  </tbody>\n",
              "</table>\n",
              "<p>416 rows × 4 columns</p>\n",
              "</div>"
            ],
            "text/plain": [
              "      year         region            level_of_edu    value\n",
              "1255  2556  กรุงเทพมหานคร  อุดมศึกษา (สายวิชาการ)  1290.23\n",
              "1267  2556  กรุงเทพมหานคร  อุดมศึกษา (สายวิชาการ)  1306.35\n",
              "1278  2556  กรุงเทพมหานคร  อุดมศึกษา (สายวิชาการ)  1306.87\n",
              "1289  2556  กรุงเทพมหานคร  อุดมศึกษา (สายวิชาการ)  1282.14\n",
              "1301  2557  กรุงเทพมหานคร  อุดมศึกษา (สายวิชาการ)  1704.83\n",
              "...    ...            ...                     ...      ...\n",
              "6443  2562         ภาคใต้  อุดมศึกษา (สายวิชาการ)   294.03\n",
              "6456  2563         ภาคใต้  อุดมศึกษา (สายวิชาการ)   330.60\n",
              "6468  2563         ภาคใต้  อุดมศึกษา (สายวิชาการ)   313.91\n",
              "6481  2563         ภาคใต้  อุดมศึกษา (สายวิชาการ)   327.65\n",
              "6494  2563         ภาคใต้  อุดมศึกษา (สายวิชาการ)   307.09\n",
              "\n",
              "[416 rows x 4 columns]"
            ]
          },
          "execution_count": 11,
          "metadata": {},
          "output_type": "execute_result"
        }
      ],
      "source": [
        "df_worker[(df_worker['level_of_edu'] == 'อุดมศึกษา (สายวิชาการ)') & (df_worker['region'] != 'ทั่วประเทศ')][['year', 'region', 'level_of_edu', 'value']]"
      ]
    },
    {
      "cell_type": "code",
      "execution_count": null,
      "id": "c8db2fa9",
      "metadata": {
        "id": "c8db2fa9",
        "outputId": "ac47ef58-a673-4ae2-9b18-4a6f6c80bb60"
      },
      "outputs": [
        {
          "data": {
            "text/plain": [
              "8"
            ]
          },
          "execution_count": 12,
          "metadata": {},
          "output_type": "execute_result"
        }
      ],
      "source": [
        "group_year = df_worker.groupby(['year'])\n",
        "group_year.ngroups"
      ]
    },
    {
      "cell_type": "code",
      "execution_count": null,
      "id": "27d22353",
      "metadata": {
        "id": "27d22353",
        "outputId": "d09690bb-27a3-4bf2-c263-513d02769323"
      },
      "outputs": [
        {
          "data": {
            "text/html": [
              "<div>\n",
              "<style scoped>\n",
              "    .dataframe tbody tr th:only-of-type {\n",
              "        vertical-align: middle;\n",
              "    }\n",
              "\n",
              "    .dataframe tbody tr th {\n",
              "        vertical-align: top;\n",
              "    }\n",
              "\n",
              "    .dataframe thead th {\n",
              "        text-align: right;\n",
              "    }\n",
              "</style>\n",
              "<table border=\"1\" class=\"dataframe\">\n",
              "  <thead>\n",
              "    <tr style=\"text-align: right;\">\n",
              "      <th></th>\n",
              "      <th>year</th>\n",
              "      <th>region</th>\n",
              "      <th>level_of_edu</th>\n",
              "      <th>value</th>\n",
              "    </tr>\n",
              "  </thead>\n",
              "  <tbody>\n",
              "    <tr>\n",
              "      <th>2047</th>\n",
              "      <td>2556</td>\n",
              "      <td>ภาคกลาง</td>\n",
              "      <td>อุดมศึกษา (สายวิชาการ)</td>\n",
              "      <td>504.86</td>\n",
              "    </tr>\n",
              "    <tr>\n",
              "      <th>2060</th>\n",
              "      <td>2556</td>\n",
              "      <td>ภาคกลาง</td>\n",
              "      <td>อุดมศึกษา (สายวิชาการ)</td>\n",
              "      <td>514.26</td>\n",
              "    </tr>\n",
              "    <tr>\n",
              "      <th>2073</th>\n",
              "      <td>2556</td>\n",
              "      <td>ภาคกลาง</td>\n",
              "      <td>อุดมศึกษา (สายวิชาการ)</td>\n",
              "      <td>504.11</td>\n",
              "    </tr>\n",
              "    <tr>\n",
              "      <th>2086</th>\n",
              "      <td>2556</td>\n",
              "      <td>ภาคกลาง</td>\n",
              "      <td>อุดมศึกษา (สายวิชาการ)</td>\n",
              "      <td>510.31</td>\n",
              "    </tr>\n",
              "    <tr>\n",
              "      <th>2099</th>\n",
              "      <td>2557</td>\n",
              "      <td>ภาคกลาง</td>\n",
              "      <td>อุดมศึกษา (สายวิชาการ)</td>\n",
              "      <td>848.79</td>\n",
              "    </tr>\n",
              "    <tr>\n",
              "      <th>...</th>\n",
              "      <td>...</td>\n",
              "      <td>...</td>\n",
              "      <td>...</td>\n",
              "      <td>...</td>\n",
              "    </tr>\n",
              "    <tr>\n",
              "      <th>2809</th>\n",
              "      <td>2562</td>\n",
              "      <td>ภาคกลาง</td>\n",
              "      <td>อุดมศึกษา (สายวิชาการ)</td>\n",
              "      <td>676.93</td>\n",
              "    </tr>\n",
              "    <tr>\n",
              "      <th>2822</th>\n",
              "      <td>2563</td>\n",
              "      <td>ภาคกลาง</td>\n",
              "      <td>อุดมศึกษา (สายวิชาการ)</td>\n",
              "      <td>759.70</td>\n",
              "    </tr>\n",
              "    <tr>\n",
              "      <th>2835</th>\n",
              "      <td>2563</td>\n",
              "      <td>ภาคกลาง</td>\n",
              "      <td>อุดมศึกษา (สายวิชาการ)</td>\n",
              "      <td>748.90</td>\n",
              "    </tr>\n",
              "    <tr>\n",
              "      <th>2848</th>\n",
              "      <td>2563</td>\n",
              "      <td>ภาคกลาง</td>\n",
              "      <td>อุดมศึกษา (สายวิชาการ)</td>\n",
              "      <td>746.43</td>\n",
              "    </tr>\n",
              "    <tr>\n",
              "      <th>2861</th>\n",
              "      <td>2563</td>\n",
              "      <td>ภาคกลาง</td>\n",
              "      <td>อุดมศึกษา (สายวิชาการ)</td>\n",
              "      <td>754.95</td>\n",
              "    </tr>\n",
              "  </tbody>\n",
              "</table>\n",
              "<p>64 rows × 4 columns</p>\n",
              "</div>"
            ],
            "text/plain": [
              "      year   region            level_of_edu   value\n",
              "2047  2556  ภาคกลาง  อุดมศึกษา (สายวิชาการ)  504.86\n",
              "2060  2556  ภาคกลาง  อุดมศึกษา (สายวิชาการ)  514.26\n",
              "2073  2556  ภาคกลาง  อุดมศึกษา (สายวิชาการ)  504.11\n",
              "2086  2556  ภาคกลาง  อุดมศึกษา (สายวิชาการ)  510.31\n",
              "2099  2557  ภาคกลาง  อุดมศึกษา (สายวิชาการ)  848.79\n",
              "...    ...      ...                     ...     ...\n",
              "2809  2562  ภาคกลาง  อุดมศึกษา (สายวิชาการ)  676.93\n",
              "2822  2563  ภาคกลาง  อุดมศึกษา (สายวิชาการ)  759.70\n",
              "2835  2563  ภาคกลาง  อุดมศึกษา (สายวิชาการ)  748.90\n",
              "2848  2563  ภาคกลาง  อุดมศึกษา (สายวิชาการ)  746.43\n",
              "2861  2563  ภาคกลาง  อุดมศึกษา (สายวิชาการ)  754.95\n",
              "\n",
              "[64 rows x 4 columns]"
            ]
          },
          "execution_count": 13,
          "metadata": {},
          "output_type": "execute_result"
        }
      ],
      "source": [
        "df_worker[(df_worker['region'] == 'ภาคกลาง') & (df_worker['level_of_edu'] == 'อุดมศึกษา (สายวิชาการ)') & (df_worker['area'] != 'รวม')][['year', 'region', 'level_of_edu', 'value']]"
      ]
    },
    {
      "cell_type": "code",
      "execution_count": null,
      "id": "3f051664",
      "metadata": {
        "id": "3f051664",
        "outputId": "bdf4e66f-eec4-4325-bace-dc16bce25f91"
      },
      "outputs": [
        {
          "data": {
            "text/plain": [
              "year\n",
              "2556    4094.56\n",
              "2557    5871.26\n",
              "2558    6053.53\n",
              "2559    5865.68\n",
              "2560    6232.70\n",
              "2561    6275.51\n",
              "2562    6373.38\n",
              "2563    6908.52\n",
              "Name: value, dtype: float64"
            ]
          },
          "execution_count": 14,
          "metadata": {},
          "output_type": "execute_result"
        }
      ],
      "source": [
        "## จำนวนผู้มีงานทำที่จบระดับปริญญาตรีขึ้นไปที่อยู่ภาคกลาง groubyตามปี แล้วรวมจำนวนคนจากทุกไตรมาส ##\n",
        "group_1 = df_worker[(df_worker['region'] == 'ภาคกลาง') & (df_worker['level_of_edu'] == 'อุดมศึกษา (สายวิชาการ)') & (df_worker['area'] != 'รวม')][['year', 'region', 'level_of_edu', 'value']]\n",
        "group_new_1 = group_1.groupby(['year'])\n",
        "#group_new_1.size()\n",
        "group_new_1['value'].sum()"
      ]
    },
    {
      "cell_type": "code",
      "execution_count": null,
      "id": "514bc9fd",
      "metadata": {
        "id": "514bc9fd",
        "outputId": "9744809a-a79d-46d0-f8bf-ec2c0c69e415"
      },
      "outputs": [
        {
          "data": {
            "text/html": [
              "<div>\n",
              "<style scoped>\n",
              "    .dataframe tbody tr th:only-of-type {\n",
              "        vertical-align: middle;\n",
              "    }\n",
              "\n",
              "    .dataframe tbody tr th {\n",
              "        vertical-align: top;\n",
              "    }\n",
              "\n",
              "    .dataframe thead th {\n",
              "        text-align: right;\n",
              "    }\n",
              "</style>\n",
              "<table border=\"1\" class=\"dataframe\">\n",
              "  <thead>\n",
              "    <tr style=\"text-align: right;\">\n",
              "      <th></th>\n",
              "      <th>year</th>\n",
              "      <th>region</th>\n",
              "      <th>level_of_edu</th>\n",
              "      <th>value</th>\n",
              "    </tr>\n",
              "  </thead>\n",
              "  <tbody>\n",
              "    <tr>\n",
              "      <th>3290</th>\n",
              "      <td>2556</td>\n",
              "      <td>ภาคเหนือ</td>\n",
              "      <td>อุดมศึกษา (สายวิชาการ)</td>\n",
              "      <td>249.31</td>\n",
              "    </tr>\n",
              "    <tr>\n",
              "      <th>3303</th>\n",
              "      <td>2556</td>\n",
              "      <td>ภาคเหนือ</td>\n",
              "      <td>อุดมศึกษา (สายวิชาการ)</td>\n",
              "      <td>261.42</td>\n",
              "    </tr>\n",
              "    <tr>\n",
              "      <th>3316</th>\n",
              "      <td>2556</td>\n",
              "      <td>ภาคเหนือ</td>\n",
              "      <td>อุดมศึกษา (สายวิชาการ)</td>\n",
              "      <td>250.47</td>\n",
              "    </tr>\n",
              "    <tr>\n",
              "      <th>3329</th>\n",
              "      <td>2556</td>\n",
              "      <td>ภาคเหนือ</td>\n",
              "      <td>อุดมศึกษา (สายวิชาการ)</td>\n",
              "      <td>266.53</td>\n",
              "    </tr>\n",
              "    <tr>\n",
              "      <th>3342</th>\n",
              "      <td>2557</td>\n",
              "      <td>ภาคเหนือ</td>\n",
              "      <td>อุดมศึกษา (สายวิชาการ)</td>\n",
              "      <td>307.00</td>\n",
              "    </tr>\n",
              "    <tr>\n",
              "      <th>...</th>\n",
              "      <td>...</td>\n",
              "      <td>...</td>\n",
              "      <td>...</td>\n",
              "      <td>...</td>\n",
              "    </tr>\n",
              "    <tr>\n",
              "      <th>4048</th>\n",
              "      <td>2562</td>\n",
              "      <td>ภาคเหนือ</td>\n",
              "      <td>อุดมศึกษา (สายวิชาการ)</td>\n",
              "      <td>265.01</td>\n",
              "    </tr>\n",
              "    <tr>\n",
              "      <th>4061</th>\n",
              "      <td>2563</td>\n",
              "      <td>ภาคเหนือ</td>\n",
              "      <td>อุดมศึกษา (สายวิชาการ)</td>\n",
              "      <td>310.75</td>\n",
              "    </tr>\n",
              "    <tr>\n",
              "      <th>4074</th>\n",
              "      <td>2563</td>\n",
              "      <td>ภาคเหนือ</td>\n",
              "      <td>อุดมศึกษา (สายวิชาการ)</td>\n",
              "      <td>313.98</td>\n",
              "    </tr>\n",
              "    <tr>\n",
              "      <th>4087</th>\n",
              "      <td>2563</td>\n",
              "      <td>ภาคเหนือ</td>\n",
              "      <td>อุดมศึกษา (สายวิชาการ)</td>\n",
              "      <td>298.63</td>\n",
              "    </tr>\n",
              "    <tr>\n",
              "      <th>4099</th>\n",
              "      <td>2563</td>\n",
              "      <td>ภาคเหนือ</td>\n",
              "      <td>อุดมศึกษา (สายวิชาการ)</td>\n",
              "      <td>304.73</td>\n",
              "    </tr>\n",
              "  </tbody>\n",
              "</table>\n",
              "<p>64 rows × 4 columns</p>\n",
              "</div>"
            ],
            "text/plain": [
              "      year    region            level_of_edu   value\n",
              "3290  2556  ภาคเหนือ  อุดมศึกษา (สายวิชาการ)  249.31\n",
              "3303  2556  ภาคเหนือ  อุดมศึกษา (สายวิชาการ)  261.42\n",
              "3316  2556  ภาคเหนือ  อุดมศึกษา (สายวิชาการ)  250.47\n",
              "3329  2556  ภาคเหนือ  อุดมศึกษา (สายวิชาการ)  266.53\n",
              "3342  2557  ภาคเหนือ  อุดมศึกษา (สายวิชาการ)  307.00\n",
              "...    ...       ...                     ...     ...\n",
              "4048  2562  ภาคเหนือ  อุดมศึกษา (สายวิชาการ)  265.01\n",
              "4061  2563  ภาคเหนือ  อุดมศึกษา (สายวิชาการ)  310.75\n",
              "4074  2563  ภาคเหนือ  อุดมศึกษา (สายวิชาการ)  313.98\n",
              "4087  2563  ภาคเหนือ  อุดมศึกษา (สายวิชาการ)  298.63\n",
              "4099  2563  ภาคเหนือ  อุดมศึกษา (สายวิชาการ)  304.73\n",
              "\n",
              "[64 rows x 4 columns]"
            ]
          },
          "execution_count": 15,
          "metadata": {},
          "output_type": "execute_result"
        }
      ],
      "source": [
        "df_worker[(df_worker['region'] == 'ภาคเหนือ') & (df_worker['level_of_edu'] == 'อุดมศึกษา (สายวิชาการ)') & (df_worker['area'] != 'รวม')][['year', 'region', 'level_of_edu', 'value']]"
      ]
    },
    {
      "cell_type": "code",
      "execution_count": null,
      "id": "595fc5e5",
      "metadata": {
        "id": "595fc5e5",
        "outputId": "14c0086a-a8ea-4b22-cf2b-629bee4359eb"
      },
      "outputs": [
        {
          "data": {
            "text/plain": [
              "year\n",
              "2556    2203.92\n",
              "2557    2047.46\n",
              "2558    2362.16\n",
              "2559    2424.20\n",
              "2560    2455.90\n",
              "2561    2483.45\n",
              "2562    2530.07\n",
              "2563    2686.37\n",
              "Name: value, dtype: float64"
            ]
          },
          "execution_count": 16,
          "metadata": {},
          "output_type": "execute_result"
        }
      ],
      "source": [
        "## จำนวนผู้มีงานทำที่จบระดับปริญญาตรีขึ้นไปที่อยู่ภาคเหนือ groubyตามปี แล้วรวมจำนวนคนจากทุกไตรมาส ##\n",
        "group_2 = df_worker[(df_worker['region'] == 'ภาคเหนือ') & (df_worker['level_of_edu'] == 'อุดมศึกษา (สายวิชาการ)') & (df_worker['area'] != 'รวม')][['year', 'region', 'level_of_edu', 'value']]\n",
        "group_new_2 = group_2.groupby(['year'])\n",
        "group_new_2['value'].sum()"
      ]
    },
    {
      "cell_type": "code",
      "execution_count": null,
      "id": "a9d2b09d",
      "metadata": {
        "id": "a9d2b09d",
        "outputId": "dbd4d6e2-aa18-4e23-bd4e-02ec07384e4b"
      },
      "outputs": [
        {
          "data": {
            "text/html": [
              "<div>\n",
              "<style scoped>\n",
              "    .dataframe tbody tr th:only-of-type {\n",
              "        vertical-align: middle;\n",
              "    }\n",
              "\n",
              "    .dataframe tbody tr th {\n",
              "        vertical-align: top;\n",
              "    }\n",
              "\n",
              "    .dataframe thead th {\n",
              "        text-align: right;\n",
              "    }\n",
              "</style>\n",
              "<table border=\"1\" class=\"dataframe\">\n",
              "  <thead>\n",
              "    <tr style=\"text-align: right;\">\n",
              "      <th></th>\n",
              "      <th>year</th>\n",
              "      <th>region</th>\n",
              "      <th>level_of_edu</th>\n",
              "      <th>value</th>\n",
              "    </tr>\n",
              "  </thead>\n",
              "  <tbody>\n",
              "    <tr>\n",
              "      <th>5692</th>\n",
              "      <td>2556</td>\n",
              "      <td>ภาคใต้</td>\n",
              "      <td>อุดมศึกษา (สายวิชาการ)</td>\n",
              "      <td>251.14</td>\n",
              "    </tr>\n",
              "    <tr>\n",
              "      <th>5705</th>\n",
              "      <td>2556</td>\n",
              "      <td>ภาคใต้</td>\n",
              "      <td>อุดมศึกษา (สายวิชาการ)</td>\n",
              "      <td>241.69</td>\n",
              "    </tr>\n",
              "    <tr>\n",
              "      <th>5718</th>\n",
              "      <td>2556</td>\n",
              "      <td>ภาคใต้</td>\n",
              "      <td>อุดมศึกษา (สายวิชาการ)</td>\n",
              "      <td>219.70</td>\n",
              "    </tr>\n",
              "    <tr>\n",
              "      <th>5731</th>\n",
              "      <td>2556</td>\n",
              "      <td>ภาคใต้</td>\n",
              "      <td>อุดมศึกษา (สายวิชาการ)</td>\n",
              "      <td>246.28</td>\n",
              "    </tr>\n",
              "    <tr>\n",
              "      <th>5744</th>\n",
              "      <td>2557</td>\n",
              "      <td>ภาคใต้</td>\n",
              "      <td>อุดมศึกษา (สายวิชาการ)</td>\n",
              "      <td>304.11</td>\n",
              "    </tr>\n",
              "    <tr>\n",
              "      <th>...</th>\n",
              "      <td>...</td>\n",
              "      <td>...</td>\n",
              "      <td>...</td>\n",
              "      <td>...</td>\n",
              "    </tr>\n",
              "    <tr>\n",
              "      <th>6443</th>\n",
              "      <td>2562</td>\n",
              "      <td>ภาคใต้</td>\n",
              "      <td>อุดมศึกษา (สายวิชาการ)</td>\n",
              "      <td>294.03</td>\n",
              "    </tr>\n",
              "    <tr>\n",
              "      <th>6456</th>\n",
              "      <td>2563</td>\n",
              "      <td>ภาคใต้</td>\n",
              "      <td>อุดมศึกษา (สายวิชาการ)</td>\n",
              "      <td>330.60</td>\n",
              "    </tr>\n",
              "    <tr>\n",
              "      <th>6468</th>\n",
              "      <td>2563</td>\n",
              "      <td>ภาคใต้</td>\n",
              "      <td>อุดมศึกษา (สายวิชาการ)</td>\n",
              "      <td>313.91</td>\n",
              "    </tr>\n",
              "    <tr>\n",
              "      <th>6481</th>\n",
              "      <td>2563</td>\n",
              "      <td>ภาคใต้</td>\n",
              "      <td>อุดมศึกษา (สายวิชาการ)</td>\n",
              "      <td>327.65</td>\n",
              "    </tr>\n",
              "    <tr>\n",
              "      <th>6494</th>\n",
              "      <td>2563</td>\n",
              "      <td>ภาคใต้</td>\n",
              "      <td>อุดมศึกษา (สายวิชาการ)</td>\n",
              "      <td>307.09</td>\n",
              "    </tr>\n",
              "  </tbody>\n",
              "</table>\n",
              "<p>64 rows × 4 columns</p>\n",
              "</div>"
            ],
            "text/plain": [
              "      year  region            level_of_edu   value\n",
              "5692  2556  ภาคใต้  อุดมศึกษา (สายวิชาการ)  251.14\n",
              "5705  2556  ภาคใต้  อุดมศึกษา (สายวิชาการ)  241.69\n",
              "5718  2556  ภาคใต้  อุดมศึกษา (สายวิชาการ)  219.70\n",
              "5731  2556  ภาคใต้  อุดมศึกษา (สายวิชาการ)  246.28\n",
              "5744  2557  ภาคใต้  อุดมศึกษา (สายวิชาการ)  304.11\n",
              "...    ...     ...                     ...     ...\n",
              "6443  2562  ภาคใต้  อุดมศึกษา (สายวิชาการ)  294.03\n",
              "6456  2563  ภาคใต้  อุดมศึกษา (สายวิชาการ)  330.60\n",
              "6468  2563  ภาคใต้  อุดมศึกษา (สายวิชาการ)  313.91\n",
              "6481  2563  ภาคใต้  อุดมศึกษา (สายวิชาการ)  327.65\n",
              "6494  2563  ภาคใต้  อุดมศึกษา (สายวิชาการ)  307.09\n",
              "\n",
              "[64 rows x 4 columns]"
            ]
          },
          "execution_count": 17,
          "metadata": {},
          "output_type": "execute_result"
        }
      ],
      "source": [
        "df_worker[(df_worker['region'] == 'ภาคใต้') & (df_worker['level_of_edu'] == 'อุดมศึกษา (สายวิชาการ)') & (df_worker['area'] != 'รวม')][['year', 'region', 'level_of_edu', 'value']]"
      ]
    },
    {
      "cell_type": "code",
      "execution_count": null,
      "id": "e877b6f2",
      "metadata": {
        "id": "e877b6f2",
        "outputId": "94bd0e63-f3fe-48f6-97bb-960a4d94108a"
      },
      "outputs": [
        {
          "data": {
            "text/plain": [
              "year\n",
              "2556    1996.42\n",
              "2557    2187.07\n",
              "2558    2211.68\n",
              "2559    2255.14\n",
              "2560    2442.90\n",
              "2561    2383.39\n",
              "2562    2320.51\n",
              "2563    2471.54\n",
              "Name: value, dtype: float64"
            ]
          },
          "execution_count": 18,
          "metadata": {},
          "output_type": "execute_result"
        }
      ],
      "source": [
        "## จำนวนผู้มีงานทำที่จบระดับปริญญาตรีขึ้นไปที่อยู่ภาคใต้ groubyตามปี แล้วรวมจำนวนคนจากทุกไตรมาส ##\n",
        "group_3 = df_worker[(df_worker['region'] == 'ภาคใต้') & (df_worker['level_of_edu'] == 'อุดมศึกษา (สายวิชาการ)') & (df_worker['area'] != 'รวม')][['year', 'region', 'level_of_edu', 'value']]\n",
        "group_new_3 = group_3.groupby(['year'])\n",
        "group_new_3['value'].sum()"
      ]
    },
    {
      "cell_type": "code",
      "execution_count": null,
      "id": "4cec136d",
      "metadata": {
        "id": "4cec136d",
        "outputId": "8858cb00-b601-4f34-c4ba-ba5113621787"
      },
      "outputs": [
        {
          "data": {
            "text/html": [
              "<div>\n",
              "<style scoped>\n",
              "    .dataframe tbody tr th:only-of-type {\n",
              "        vertical-align: middle;\n",
              "    }\n",
              "\n",
              "    .dataframe tbody tr th {\n",
              "        vertical-align: top;\n",
              "    }\n",
              "\n",
              "    .dataframe thead th {\n",
              "        text-align: right;\n",
              "    }\n",
              "</style>\n",
              "<table border=\"1\" class=\"dataframe\">\n",
              "  <thead>\n",
              "    <tr style=\"text-align: right;\">\n",
              "      <th></th>\n",
              "      <th>year</th>\n",
              "      <th>region</th>\n",
              "      <th>level_of_edu</th>\n",
              "      <th>value</th>\n",
              "    </tr>\n",
              "  </thead>\n",
              "  <tbody>\n",
              "    <tr>\n",
              "      <th>4511</th>\n",
              "      <td>2556</td>\n",
              "      <td>ภาคตะวันออกเฉียงเหนือ</td>\n",
              "      <td>อุดมศึกษา (สายวิชาการ)</td>\n",
              "      <td>314.92</td>\n",
              "    </tr>\n",
              "    <tr>\n",
              "      <th>4524</th>\n",
              "      <td>2556</td>\n",
              "      <td>ภาคตะวันออกเฉียงเหนือ</td>\n",
              "      <td>อุดมศึกษา (สายวิชาการ)</td>\n",
              "      <td>294.91</td>\n",
              "    </tr>\n",
              "    <tr>\n",
              "      <th>4537</th>\n",
              "      <td>2556</td>\n",
              "      <td>ภาคตะวันออกเฉียงเหนือ</td>\n",
              "      <td>อุดมศึกษา (สายวิชาการ)</td>\n",
              "      <td>271.64</td>\n",
              "    </tr>\n",
              "    <tr>\n",
              "      <th>4550</th>\n",
              "      <td>2556</td>\n",
              "      <td>ภาคตะวันออกเฉียงเหนือ</td>\n",
              "      <td>อุดมศึกษา (สายวิชาการ)</td>\n",
              "      <td>303.96</td>\n",
              "    </tr>\n",
              "    <tr>\n",
              "      <th>4562</th>\n",
              "      <td>2557</td>\n",
              "      <td>ภาคตะวันออกเฉียงเหนือ</td>\n",
              "      <td>อุดมศึกษา (สายวิชาการ)</td>\n",
              "      <td>327.56</td>\n",
              "    </tr>\n",
              "    <tr>\n",
              "      <th>...</th>\n",
              "      <td>...</td>\n",
              "      <td>...</td>\n",
              "      <td>...</td>\n",
              "      <td>...</td>\n",
              "    </tr>\n",
              "    <tr>\n",
              "      <th>5221</th>\n",
              "      <td>2562</td>\n",
              "      <td>ภาคตะวันออกเฉียงเหนือ</td>\n",
              "      <td>อุดมศึกษา (สายวิชาการ)</td>\n",
              "      <td>290.28</td>\n",
              "    </tr>\n",
              "    <tr>\n",
              "      <th>5232</th>\n",
              "      <td>2563</td>\n",
              "      <td>ภาคตะวันออกเฉียงเหนือ</td>\n",
              "      <td>อุดมศึกษา (สายวิชาการ)</td>\n",
              "      <td>324.04</td>\n",
              "    </tr>\n",
              "    <tr>\n",
              "      <th>5243</th>\n",
              "      <td>2563</td>\n",
              "      <td>ภาคตะวันออกเฉียงเหนือ</td>\n",
              "      <td>อุดมศึกษา (สายวิชาการ)</td>\n",
              "      <td>313.14</td>\n",
              "    </tr>\n",
              "    <tr>\n",
              "      <th>5255</th>\n",
              "      <td>2563</td>\n",
              "      <td>ภาคตะวันออกเฉียงเหนือ</td>\n",
              "      <td>อุดมศึกษา (สายวิชาการ)</td>\n",
              "      <td>305.08</td>\n",
              "    </tr>\n",
              "    <tr>\n",
              "      <th>5267</th>\n",
              "      <td>2563</td>\n",
              "      <td>ภาคตะวันออกเฉียงเหนือ</td>\n",
              "      <td>อุดมศึกษา (สายวิชาการ)</td>\n",
              "      <td>317.58</td>\n",
              "    </tr>\n",
              "  </tbody>\n",
              "</table>\n",
              "<p>64 rows × 4 columns</p>\n",
              "</div>"
            ],
            "text/plain": [
              "      year                 region            level_of_edu   value\n",
              "4511  2556  ภาคตะวันออกเฉียงเหนือ  อุดมศึกษา (สายวิชาการ)  314.92\n",
              "4524  2556  ภาคตะวันออกเฉียงเหนือ  อุดมศึกษา (สายวิชาการ)  294.91\n",
              "4537  2556  ภาคตะวันออกเฉียงเหนือ  อุดมศึกษา (สายวิชาการ)  271.64\n",
              "4550  2556  ภาคตะวันออกเฉียงเหนือ  อุดมศึกษา (สายวิชาการ)  303.96\n",
              "4562  2557  ภาคตะวันออกเฉียงเหนือ  อุดมศึกษา (สายวิชาการ)  327.56\n",
              "...    ...                    ...                     ...     ...\n",
              "5221  2562  ภาคตะวันออกเฉียงเหนือ  อุดมศึกษา (สายวิชาการ)  290.28\n",
              "5232  2563  ภาคตะวันออกเฉียงเหนือ  อุดมศึกษา (สายวิชาการ)  324.04\n",
              "5243  2563  ภาคตะวันออกเฉียงเหนือ  อุดมศึกษา (สายวิชาการ)  313.14\n",
              "5255  2563  ภาคตะวันออกเฉียงเหนือ  อุดมศึกษา (สายวิชาการ)  305.08\n",
              "5267  2563  ภาคตะวันออกเฉียงเหนือ  อุดมศึกษา (สายวิชาการ)  317.58\n",
              "\n",
              "[64 rows x 4 columns]"
            ]
          },
          "execution_count": 19,
          "metadata": {},
          "output_type": "execute_result"
        }
      ],
      "source": [
        "df_worker[(df_worker['region'] == 'ภาคตะวันออกเฉียงเหนือ') & (df_worker['level_of_edu'] == 'อุดมศึกษา (สายวิชาการ)') & (df_worker['area'] != 'รวม')][['year', 'region', 'level_of_edu', 'value']]"
      ]
    },
    {
      "cell_type": "code",
      "execution_count": null,
      "id": "4be1432f",
      "metadata": {
        "id": "4be1432f",
        "outputId": "ef6de8ce-bbd5-4dd5-a9cf-b29f3923dafa"
      },
      "outputs": [
        {
          "data": {
            "text/plain": [
              "year\n",
              "2556    2753.90\n",
              "2557    2383.64\n",
              "2558    2371.29\n",
              "2559    2414.54\n",
              "2560    2332.40\n",
              "2561    2421.35\n",
              "2562    2393.51\n",
              "2563    2518.27\n",
              "Name: value, dtype: float64"
            ]
          },
          "execution_count": 20,
          "metadata": {},
          "output_type": "execute_result"
        }
      ],
      "source": [
        "## จำนวนผู้มีงานทำที่จบระดับปริญญาตรีขึ้นไปที่อยู่ภาคตะวันออกเฉียงเหนือ groubyตามปี แล้วรวมจำนวนคนจากทุกไตรมาส ##\n",
        "group_4 = df_worker[(df_worker['region'] == 'ภาคตะวันออกเฉียงเหนือ') & (df_worker['level_of_edu'] == 'อุดมศึกษา (สายวิชาการ)') & (df_worker['area'] != 'รวม')][['year', 'region', 'level_of_edu', 'value']]\n",
        "group_new_4 = group_4.groupby(['year'])\n",
        "group_new_4['value'].sum()"
      ]
    },
    {
      "cell_type": "code",
      "execution_count": null,
      "id": "351070c2",
      "metadata": {
        "id": "351070c2",
        "outputId": "96f031a4-7f35-457b-e448-b3bf9f4210af"
      },
      "outputs": [
        {
          "data": {
            "text/plain": [
              "year\n",
              "2556    5185.59\n",
              "2557    7051.19\n",
              "2558    7187.12\n",
              "2559    7384.47\n",
              "2560    7249.40\n",
              "2561    7308.37\n",
              "2562    7243.30\n",
              "2563    7416.68\n",
              "Name: value, dtype: float64"
            ]
          },
          "execution_count": 21,
          "metadata": {},
          "output_type": "execute_result"
        }
      ],
      "source": [
        "## จำนวนผู้มีงานทำที่จบระดับปริญญาตรีขึ้นไปที่อยู่กรุงเทพมหานคร groubyตามปี แล้วรวมจำนวนคนจากทุกไตรมาส ##\n",
        "group_bangkok = df_worker[(df_worker['region'] == 'กรุงเทพมหานคร') & (df_worker['level_of_edu'] == 'อุดมศึกษา (สายวิชาการ)')][['year', 'region', 'level_of_edu', 'value']]\n",
        "group_new_bangkok = group_bangkok.groupby(['year'])\n",
        "group_new_bangkok['value'].sum()"
      ]
    },
    {
      "cell_type": "code",
      "execution_count": null,
      "id": "cd83954e",
      "metadata": {
        "id": "cd83954e",
        "outputId": "ae576986-d863-4ba4-b00e-e53ff911d193"
      },
      "outputs": [
        {
          "data": {
            "text/html": [
              "<div>\n",
              "<style scoped>\n",
              "    .dataframe tbody tr th:only-of-type {\n",
              "        vertical-align: middle;\n",
              "    }\n",
              "\n",
              "    .dataframe tbody tr th {\n",
              "        vertical-align: top;\n",
              "    }\n",
              "\n",
              "    .dataframe thead th {\n",
              "        text-align: right;\n",
              "    }\n",
              "</style>\n",
              "<table border=\"1\" class=\"dataframe\">\n",
              "  <thead>\n",
              "    <tr style=\"text-align: right;\">\n",
              "      <th></th>\n",
              "      <th>year</th>\n",
              "      <th>quarter</th>\n",
              "      <th>region</th>\n",
              "      <th>area</th>\n",
              "      <th>level_of_edu</th>\n",
              "      <th>value</th>\n",
              "    </tr>\n",
              "  </thead>\n",
              "  <tbody>\n",
              "    <tr>\n",
              "      <th>1</th>\n",
              "      <td>2556</td>\n",
              "      <td>ไตรมาสที่ 1</td>\n",
              "      <td>ทั่วประเทศ</td>\n",
              "      <td>รวม</td>\n",
              "      <td>ไม่มีการศึกษา</td>\n",
              "      <td>1289.97</td>\n",
              "    </tr>\n",
              "    <tr>\n",
              "      <th>2</th>\n",
              "      <td>2556</td>\n",
              "      <td>ไตรมาสที่ 1</td>\n",
              "      <td>ทั่วประเทศ</td>\n",
              "      <td>รวม</td>\n",
              "      <td>ต่ำกว่าประถมศึกษา</td>\n",
              "      <td>9358.57</td>\n",
              "    </tr>\n",
              "    <tr>\n",
              "      <th>3</th>\n",
              "      <td>2556</td>\n",
              "      <td>ไตรมาสที่ 1</td>\n",
              "      <td>ทั่วประเทศ</td>\n",
              "      <td>รวม</td>\n",
              "      <td>ประถมศึกษา</td>\n",
              "      <td>8963.54</td>\n",
              "    </tr>\n",
              "    <tr>\n",
              "      <th>4</th>\n",
              "      <td>2556</td>\n",
              "      <td>ไตรมาสที่ 1</td>\n",
              "      <td>ทั่วประเทศ</td>\n",
              "      <td>รวม</td>\n",
              "      <td>มัธยมศึกษาตอนต้น</td>\n",
              "      <td>6256.64</td>\n",
              "    </tr>\n",
              "    <tr>\n",
              "      <th>5</th>\n",
              "      <td>2556</td>\n",
              "      <td>ไตรมาสที่ 1</td>\n",
              "      <td>ทั่วประเทศ</td>\n",
              "      <td>รวม</td>\n",
              "      <td>มัธยมศึกษาตอนปลาย (สายสามัญ)</td>\n",
              "      <td>4372.65</td>\n",
              "    </tr>\n",
              "    <tr>\n",
              "      <th>...</th>\n",
              "      <td>...</td>\n",
              "      <td>...</td>\n",
              "      <td>...</td>\n",
              "      <td>...</td>\n",
              "      <td>...</td>\n",
              "      <td>...</td>\n",
              "    </tr>\n",
              "    <tr>\n",
              "      <th>411</th>\n",
              "      <td>2563</td>\n",
              "      <td>ไตรมาสที่ 4</td>\n",
              "      <td>ทั่วประเทศ</td>\n",
              "      <td>รวม</td>\n",
              "      <td>อุดมศึกษา (สายวิชาการ)</td>\n",
              "      <td>5546.86</td>\n",
              "    </tr>\n",
              "    <tr>\n",
              "      <th>412</th>\n",
              "      <td>2563</td>\n",
              "      <td>ไตรมาสที่ 4</td>\n",
              "      <td>ทั่วประเทศ</td>\n",
              "      <td>รวม</td>\n",
              "      <td>อุดมศึกษา (สายวิชาชีพ)</td>\n",
              "      <td>2376.41</td>\n",
              "    </tr>\n",
              "    <tr>\n",
              "      <th>413</th>\n",
              "      <td>2563</td>\n",
              "      <td>ไตรมาสที่ 4</td>\n",
              "      <td>ทั่วประเทศ</td>\n",
              "      <td>รวม</td>\n",
              "      <td>อุดมศึกษา (สายวิชาการศึกษา)</td>\n",
              "      <td>804.23</td>\n",
              "    </tr>\n",
              "    <tr>\n",
              "      <th>414</th>\n",
              "      <td>2563</td>\n",
              "      <td>ไตรมาสที่ 4</td>\n",
              "      <td>ทั่วประเทศ</td>\n",
              "      <td>รวม</td>\n",
              "      <td>อื่นๆ</td>\n",
              "      <td>152.16</td>\n",
              "    </tr>\n",
              "    <tr>\n",
              "      <th>415</th>\n",
              "      <td>2563</td>\n",
              "      <td>ไตรมาสที่ 4</td>\n",
              "      <td>ทั่วประเทศ</td>\n",
              "      <td>รวม</td>\n",
              "      <td>ไม่ทราบ</td>\n",
              "      <td>164.32</td>\n",
              "    </tr>\n",
              "  </tbody>\n",
              "</table>\n",
              "<p>384 rows × 6 columns</p>\n",
              "</div>"
            ],
            "text/plain": [
              "     year      quarter      region area                  level_of_edu    value\n",
              "1    2556  ไตรมาสที่ 1  ทั่วประเทศ  รวม                 ไม่มีการศึกษา  1289.97\n",
              "2    2556  ไตรมาสที่ 1  ทั่วประเทศ  รวม             ต่ำกว่าประถมศึกษา  9358.57\n",
              "3    2556  ไตรมาสที่ 1  ทั่วประเทศ  รวม                    ประถมศึกษา  8963.54\n",
              "4    2556  ไตรมาสที่ 1  ทั่วประเทศ  รวม              มัธยมศึกษาตอนต้น  6256.64\n",
              "5    2556  ไตรมาสที่ 1  ทั่วประเทศ  รวม  มัธยมศึกษาตอนปลาย (สายสามัญ)  4372.65\n",
              "..    ...          ...         ...  ...                           ...      ...\n",
              "411  2563  ไตรมาสที่ 4  ทั่วประเทศ  รวม        อุดมศึกษา (สายวิชาการ)  5546.86\n",
              "412  2563  ไตรมาสที่ 4  ทั่วประเทศ  รวม        อุดมศึกษา (สายวิชาชีพ)  2376.41\n",
              "413  2563  ไตรมาสที่ 4  ทั่วประเทศ  รวม   อุดมศึกษา (สายวิชาการศึกษา)   804.23\n",
              "414  2563  ไตรมาสที่ 4  ทั่วประเทศ  รวม                         อื่นๆ   152.16\n",
              "415  2563  ไตรมาสที่ 4  ทั่วประเทศ  รวม                       ไม่ทราบ   164.32\n",
              "\n",
              "[384 rows x 6 columns]"
            ]
          },
          "execution_count": 22,
          "metadata": {},
          "output_type": "execute_result"
        }
      ],
      "source": [
        "df_worker[(df_worker['region'] == 'ทั่วประเทศ') & (df_worker['area'] == 'รวม') & ~(df_worker['level_of_edu'] == 'รวม')][['year', 'quarter', 'region', 'area', 'level_of_edu', 'value']]"
      ]
    },
    {
      "cell_type": "code",
      "execution_count": null,
      "id": "7382dd2a",
      "metadata": {
        "id": "7382dd2a",
        "outputId": "acd4918d-7373-4432-ccb8-a57d2ca207bf"
      },
      "outputs": [
        {
          "data": {
            "text/plain": [
              "level_of_edu\n",
              "ต่ำกว่าประถม ศึกษา                      59437.66\n",
              "ต่ำกว่าประถมศึกษา                      184549.37\n",
              "ประถม ศึกษา                             67909.80\n",
              "ประถมศึกษา                             205707.60\n",
              "มัธยมศึกษาตอนต้น                       199771.54\n",
              "มัธยมศึกษาตอนปลาย (สายวิชาการศึกษา)       178.44\n",
              "มัธยมศึกษาตอนปลาย (สายสามัญ)           152893.18\n",
              "มัธยมศึกษาตอนปลาย (สายอาชีวศึกษา)       43188.29\n",
              "อื่นๆ                                    3670.47\n",
              "อุดมศึกษา (สายวิชาการ)                 160751.92\n",
              "อุดมศึกษา (สายวิชาการศึกษา)             24355.52\n",
              "อุดมศึกษา (สายวิชาชีพ)                  66837.08\n",
              "ไม่ทราบ                                  5960.32\n",
              "ไม่มีการศึกษา                           38027.01\n",
              "Name: value, dtype: float64"
            ]
          },
          "execution_count": 23,
          "metadata": {},
          "output_type": "execute_result"
        }
      ],
      "source": [
        "## เกิดปัญหา ข้อมูลที่ได้มาเป็นข้อมูลเดียวกัน แต่การบันทึกข้อมูลคนละแบบ ##\n",
        "group_level_edu = df_worker[(df_worker['region'] == 'ทั่วประเทศ') & (df_worker['area'] == 'รวม') & ~(df_worker['level_of_edu'] == 'รวม')][['year', 'quarter', 'region', 'area', 'level_of_edu', 'value']]\n",
        "group_new_level_edu = group_level_edu.groupby(['level_of_edu'])\n",
        "group_new_level_edu['value'].sum()"
      ]
    },
    {
      "cell_type": "code",
      "execution_count": null,
      "id": "85ac946f",
      "metadata": {
        "colab": {
          "base_uri": "https://localhost:8080/",
          "height": 208
        },
        "id": "85ac946f",
        "outputId": "f3f4302a-92af-4aeb-bfda-67853f1b27e6"
      },
      "outputs": [
        {
          "output_type": "display_data",
          "data": {
            "text/plain": [
              "level_of_edu\n",
              "ต่ำกว่าประถมศึกษา                    243987.03\n",
              "ประถมศึกษา                           273617.40\n",
              "มัธยมศึกษาตอนต้น                     199771.54\n",
              "มัธยมศึกษาตอนปลาย (สายสามัญ)         153071.62\n",
              "มัธยมศึกษาตอนปลาย (สายอาชีวศึกษา)     43188.29\n",
              "อื่นๆ                                  3670.47\n",
              "อุดมศึกษา (สายวิชาการ)               185107.44\n",
              "อุดมศึกษา (สายวิชาชีพ)                66837.08\n",
              "ไม่มีการศึกษา                         38027.01\n",
              "Name: value, dtype: float64"
            ]
          },
          "metadata": {}
        }
      ],
      "source": [
        "## จำนวนคนทั้งหมดตามระดับการศึกษา ตั้งแต่ปี พ.ศ.2556-2563 ##\n",
        "df_worker.loc[df_worker['level_of_edu'] == 'ต่ำกว่าประถม ศึกษา', 'level_of_edu'] = 'ต่ำกว่าประถมศึกษา'\n",
        "df_worker.loc[df_worker['level_of_edu'] == 'ประถม ศึกษา', 'level_of_edu'] = 'ประถมศึกษา'\n",
        "df_worker.loc[df_worker['level_of_edu'] == 'มัธยมศึกษาตอนปลาย (สายวิชาการศึกษา)', 'level_of_edu'] = 'มัธยมศึกษาตอนปลาย (สายสามัญ)'\n",
        "df_worker.loc[df_worker['level_of_edu'] == 'อุดมศึกษา (สายวิชาการศึกษา)', 'level_of_edu'] = 'อุดมศึกษา (สายวิชาการ)'\n",
        "\n",
        "group_level_edu = df_worker[(df_worker['region'] == 'ทั่วประเทศ') & (df_worker['area'] == 'รวม') & ~(df_worker['level_of_edu'] == 'รวม') & ~(df_worker['level_of_edu'] == 'ไม่ทราบ')][['year', 'quarter', 'region', 'area', 'level_of_edu', 'value']]\n",
        "group_new_level_edu = group_level_edu.groupby(['level_of_edu'])\n",
        "group_new_level_edu['value'].sum()\n"
      ]
    },
    {
      "cell_type": "code",
      "execution_count": null,
      "id": "247962cc",
      "metadata": {
        "colab": {
          "base_uri": "https://localhost:8080/"
        },
        "id": "247962cc",
        "outputId": "86a0e1bd-ad2d-479f-d751-65b7d4e0dadd"
      },
      "outputs": [
        {
          "output_type": "stream",
          "name": "stdout",
          "text": [
            "[25826, 32933, 25290, 20784, 5630, 559, 25261, 9326, 4235]\n"
          ]
        }
      ],
      "source": [
        "## ระดับการศึกษาทั้งหมด ในปี พ.ศ.2563 ##\n",
        "df_worker.loc[df_worker['level_of_edu'] == 'ต่ำกว่าประถม ศึกษา', 'level_of_edu'] = 'ต่ำกว่าประถมศึกษา'\n",
        "df_worker.loc[df_worker['level_of_edu'] == 'ประถม ศึกษา', 'level_of_edu'] = 'ประถมศึกษา'\n",
        "df_worker.loc[df_worker['level_of_edu'] == 'มัธยมศึกษาตอนปลาย (สายวิชาการศึกษา)', 'level_of_edu'] = 'มัธยมศึกษาตอนปลาย (สายสามัญ)'\n",
        "df_worker.loc[df_worker['level_of_edu'] == 'อุดมศึกษา (สายวิชาการศึกษา)', 'level_of_edu'] = 'อุดมศึกษา (สายวิชาการ)'\n",
        "\n",
        "group_level_edu = df_worker[(df_worker['year'] == 2563 ) & (df_worker['region'] == 'ทั่วประเทศ') & (df_worker['area'] == 'รวม') & ~(df_worker['level_of_edu'] == 'รวม') & ~(df_worker['level_of_edu'] == 'ไม่ทราบ')][['year', 'quarter', 'region', 'area', 'level_of_edu', 'value']]\n",
        "group_new_level_edu = group_level_edu.groupby(['level_of_edu'])\n",
        "test_new = group_new_level_edu['value'].sum()\n",
        "lst_sum = []\n",
        "for i in range(len(test_new)) : \n",
        "    new_vari = int(test_new[i])\n",
        "    #print(new_vari)\n",
        "    lst_sum.append(new_vari)\n",
        "print(lst_sum)"
      ]
    },
    {
      "cell_type": "code",
      "execution_count": null,
      "id": "d854e8cb",
      "metadata": {
        "colab": {
          "base_uri": "https://localhost:8080/",
          "height": 473
        },
        "id": "d854e8cb",
        "outputId": "e20ae578-96c9-4453-8127-3d3c2fca989f"
      },
      "outputs": [
        {
          "output_type": "stream",
          "name": "stdout",
          "text": [
            "[0 1 2 3 4 5 6 7 8]\n",
            "[25826, 32933, 25290, 20784, 5630, 559, 25261, 9326, 4235]\n"
          ]
        },
        {
          "output_type": "display_data",
          "data": {
            "text/plain": [
              "<Figure size 432x288 with 1 Axes>"
            ],
            "image/png": "[encoded data removed]"
          },
          "metadata": {}
        }
      ],
      "source": [
        "x = ['Under Primary Education', 'Primary Education', 'Junior High School', 'Senior High School', 'Senior High School(Technical)', 'Other', 'Bachelor Degree', 'High Vocational Certificate','No Education']\n",
        "X_len = np.arange(len(x))\n",
        "print(X_len)\n",
        "print(lst_sum)\n",
        "plt.figure()\n",
        "\n",
        "plt.title('Amount of Level of education in 2020')\n",
        "plt.bar(X_len-0.1,lst_sum,width = 0.5,label = 'value (unit : 1000)')\n",
        "plt.xticks(X_len,x)\n",
        "plt.xticks(rotation = 90)\n",
        "plt.legend()\n",
        "plt.show()\n",
        "sns.set()"
      ]
    },
    {
      "cell_type": "code",
      "execution_count": null,
      "id": "c727fc18",
      "metadata": {
        "colab": {
          "base_uri": "https://localhost:8080/",
          "height": 473
        },
        "id": "c727fc18",
        "outputId": "67b1f322-ba76-4684-9098-909d33fa60f3"
      },
      "outputs": [
        {
          "output_type": "stream",
          "name": "stdout",
          "text": [
            "[0 1 2 3 4 5 6 7 8]\n",
            "[26820, 33624, 25707, 20139, 5420, 642, 23958, 8828, 4413]\n"
          ]
        },
        {
          "output_type": "display_data",
          "data": {
            "text/plain": [
              "<Figure size 432x288 with 1 Axes>"
            ],
            "image/png": "[encoded data removed]"
          },
          "metadata": {}
        }
      ],
      "source": [
        "## ระดับการศึกษาทั้งหมด ในปี พ.ศ.2562 ##\n",
        "df_worker.loc[df_worker['level_of_edu'] == 'ต่ำกว่าประถม ศึกษา', 'level_of_edu'] = 'ต่ำกว่าประถมศึกษา'\n",
        "df_worker.loc[df_worker['level_of_edu'] == 'ประถม ศึกษา', 'level_of_edu'] = 'ประถมศึกษา'\n",
        "df_worker.loc[df_worker['level_of_edu'] == 'มัธยมศึกษาตอนปลาย (สายวิชาการศึกษา)', 'level_of_edu'] = 'มัธยมศึกษาตอนปลาย (สายสามัญ)'\n",
        "df_worker.loc[df_worker['level_of_edu'] == 'อุดมศึกษา (สายวิชาการศึกษา)', 'level_of_edu'] = 'อุดมศึกษา (สายวิชาการ)'\n",
        "\n",
        "group_level_edu = df_worker[(df_worker['year'] == 2562 ) & (df_worker['region'] == 'ทั่วประเทศ') & (df_worker['area'] == 'รวม') & ~(df_worker['level_of_edu'] == 'รวม') & ~(df_worker['level_of_edu'] == 'ไม่ทราบ')][['year', 'quarter', 'region', 'area', 'level_of_edu', 'value']]\n",
        "group_new_level_edu = group_level_edu.groupby(['level_of_edu'])\n",
        "group_new_level_edu['value'].sum()\n",
        "\n",
        "test_new = group_new_level_edu['value'].sum()\n",
        "lst_sum = []\n",
        "for i in range(len(test_new)) : \n",
        "    new_vari = int(test_new[i])\n",
        "    #print(new_vari)\n",
        "    lst_sum.append(new_vari)\n",
        "\n",
        "x = ['Under Primary Education', 'Primary Education', 'Junior High School', 'Senior High School', 'Senior High School(Technical)', 'Other', 'Bachelor Degree', 'High Vocational Certificate','No Education']\n",
        "X_len = np.arange(len(x))\n",
        "print(X_len)\n",
        "print(lst_sum)\n",
        "plt.figure()\n",
        "\n",
        "plt.title('Amount of Level of education in 2019')\n",
        "plt.bar(X_len-0.1,lst_sum,width = 0.5,label = 'value (unit : 1000)')\n",
        "plt.xticks(X_len,x)\n",
        "plt.xticks(rotation = 90)\n",
        "plt.legend()\n",
        "plt.show()\n",
        "sns.set()"
      ]
    },
    {
      "cell_type": "code",
      "execution_count": null,
      "id": "c2c50701",
      "metadata": {
        "colab": {
          "base_uri": "https://localhost:8080/",
          "height": 473
        },
        "id": "c2c50701",
        "outputId": "54fcc4df-5813-4ac7-ffed-639e462e13d7"
      },
      "outputs": [
        {
          "output_type": "stream",
          "name": "stdout",
          "text": [
            "[0 1 2 3 4 5 6 7 8]\n",
            "[28766, 33718, 25302, 19676, 5456, 585, 23980, 8478, 4701]\n"
          ]
        },
        {
          "output_type": "display_data",
          "data": {
            "text/plain": [
              "<Figure size 432x288 with 1 Axes>"
            ],
            "image/png": "[encoded data removed]"
          },
          "metadata": {}
        }
      ],
      "source": [
        "## ระดับการศึกษาทั้งหมด ในปี พ.ศ.2561 ##\n",
        "df_worker.loc[df_worker['level_of_edu'] == 'ต่ำกว่าประถม ศึกษา', 'level_of_edu'] = 'ต่ำกว่าประถมศึกษา'\n",
        "df_worker.loc[df_worker['level_of_edu'] == 'ประถม ศึกษา', 'level_of_edu'] = 'ประถมศึกษา'\n",
        "df_worker.loc[df_worker['level_of_edu'] == 'มัธยมศึกษาตอนปลาย (สายวิชาการศึกษา)', 'level_of_edu'] = 'มัธยมศึกษาตอนปลาย (สายสามัญ)'\n",
        "df_worker.loc[df_worker['level_of_edu'] == 'อุดมศึกษา (สายวิชาการศึกษา)', 'level_of_edu'] = 'อุดมศึกษา (สายวิชาการ)'\n",
        "\n",
        "group_level_edu = df_worker[(df_worker['year'] == 2561 ) & (df_worker['region'] == 'ทั่วประเทศ') & (df_worker['area'] == 'รวม') & ~(df_worker['level_of_edu'] == 'รวม') & ~(df_worker['level_of_edu'] == 'ไม่ทราบ')][['year', 'quarter', 'region', 'area', 'level_of_edu', 'value']]\n",
        "group_new_level_edu = group_level_edu.groupby(['level_of_edu'])\n",
        "group_new_level_edu['value'].sum()\n",
        "\n",
        "test_new = group_new_level_edu['value'].sum()\n",
        "lst_sum = []\n",
        "for i in range(len(test_new)) : \n",
        "    new_vari = int(test_new[i])\n",
        "    #print(new_vari)\n",
        "    lst_sum.append(new_vari)\n",
        "\n",
        "x = ['Under Primary Education', 'Primary Education', 'Junior High School', 'Senior High School', 'Senior High School(Technical)', 'Other', 'Bachelor Degree', 'High Vocational Certificate','No Education']\n",
        "X_len = np.arange(len(x))\n",
        "print(X_len)\n",
        "print(lst_sum)\n",
        "plt.figure()\n",
        "\n",
        "plt.title('Amount of Level of education in 2018')\n",
        "plt.bar(X_len-0.1,lst_sum,width = 0.5,label = 'value (unit : 1000)')\n",
        "plt.xticks(X_len,x)\n",
        "plt.xticks(rotation = 90)\n",
        "plt.legend()\n",
        "plt.show()\n",
        "sns.set()"
      ]
    },
    {
      "cell_type": "code",
      "execution_count": null,
      "id": "f75f4b79",
      "metadata": {
        "colab": {
          "base_uri": "https://localhost:8080/",
          "height": 473
        },
        "id": "f75f4b79",
        "outputId": "2226ed8c-f114-4f51-96be-757b71512c11"
      },
      "outputs": [
        {
          "output_type": "stream",
          "name": "stdout",
          "text": [
            "[0 1 2 3 4 5 6 7 8]\n",
            "[29414, 33179, 24876, 19012, 5482, 469, 23923, 8223, 4566]\n"
          ]
        },
        {
          "output_type": "display_data",
          "data": {
            "text/plain": [
              "<Figure size 432x288 with 1 Axes>"
            ],
            "image/png": "[encoded data removed]"
          },
          "metadata": {}
        }
      ],
      "source": [
        "## ระดับการศึกษาทั้งหมด ในปี พ.ศ.2560 ##\n",
        "df_worker.loc[df_worker['level_of_edu'] == 'ต่ำกว่าประถม ศึกษา', 'level_of_edu'] = 'ต่ำกว่าประถมศึกษา'\n",
        "df_worker.loc[df_worker['level_of_edu'] == 'ประถม ศึกษา', 'level_of_edu'] = 'ประถมศึกษา'\n",
        "df_worker.loc[df_worker['level_of_edu'] == 'มัธยมศึกษาตอนปลาย (สายวิชาการศึกษา)', 'level_of_edu'] = 'มัธยมศึกษาตอนปลาย (สายสามัญ)'\n",
        "df_worker.loc[df_worker['level_of_edu'] == 'อุดมศึกษา (สายวิชาการศึกษา)', 'level_of_edu'] = 'อุดมศึกษา (สายวิชาการ)'\n",
        "\n",
        "group_level_edu = df_worker[(df_worker['year'] == 2560 ) & (df_worker['region'] == 'ทั่วประเทศ') & (df_worker['area'] == 'รวม') & ~(df_worker['level_of_edu'] == 'รวม') & ~(df_worker['level_of_edu'] == 'ไม่ทราบ')][['year', 'quarter', 'region', 'area', 'level_of_edu', 'value']]\n",
        "group_new_level_edu = group_level_edu.groupby(['level_of_edu'])\n",
        "group_new_level_edu['value'].sum()\n",
        "\n",
        "test_new = group_new_level_edu['value'].sum()\n",
        "lst_sum = []\n",
        "for i in range(len(test_new)) : \n",
        "    new_vari = int(test_new[i])\n",
        "    #print(new_vari)\n",
        "    lst_sum.append(new_vari)\n",
        "\n",
        "x = ['Under Primary Education', 'Primary Education', 'Junior High School', 'Senior High School', 'Senior High School(Technical)', 'Other', 'Bachelor Degree', 'High Vocational Certificate','No Education']\n",
        "X_len = np.arange(len(x))\n",
        "print(X_len)\n",
        "print(lst_sum)\n",
        "plt.figure()\n",
        "\n",
        "plt.title('Amount of Level of education in 2017')\n",
        "plt.bar(X_len-0.1,lst_sum,width = 0.5,label = 'value (unit : 1000)')\n",
        "plt.xticks(X_len,x)\n",
        "plt.xticks(rotation = 90)\n",
        "plt.legend()\n",
        "plt.show()\n",
        "sns.set()"
      ]
    },
    {
      "cell_type": "code",
      "execution_count": null,
      "id": "d9f67f14",
      "metadata": {
        "colab": {
          "base_uri": "https://localhost:8080/",
          "height": 473
        },
        "id": "d9f67f14",
        "outputId": "9cf0620d-83d1-47c9-e0ba-e2c4e3446c05"
      },
      "outputs": [
        {
          "output_type": "stream",
          "name": "stdout",
          "text": [
            "[0 1 2 3 4 5 6 7 8]\n",
            "[30905, 33617, 24433, 18990, 5480, 367, 23404, 8158, 4741]\n"
          ]
        },
        {
          "output_type": "display_data",
          "data": {
            "text/plain": [
              "<Figure size 432x288 with 1 Axes>"
            ],
            "image/png": "[encoded data removed]"
          },
          "metadata": {}
        }
      ],
      "source": [
        "## ระดับการศึกษาทั้งหมด ในปี พ.ศ.2559 ##\n",
        "df_worker.loc[df_worker['level_of_edu'] == 'ต่ำกว่าประถม ศึกษา', 'level_of_edu'] = 'ต่ำกว่าประถมศึกษา'\n",
        "df_worker.loc[df_worker['level_of_edu'] == 'ประถม ศึกษา', 'level_of_edu'] = 'ประถมศึกษา'\n",
        "df_worker.loc[df_worker['level_of_edu'] == 'มัธยมศึกษาตอนปลาย (สายวิชาการศึกษา)', 'level_of_edu'] = 'มัธยมศึกษาตอนปลาย (สายสามัญ)'\n",
        "df_worker.loc[df_worker['level_of_edu'] == 'อุดมศึกษา (สายวิชาการศึกษา)', 'level_of_edu'] = 'อุดมศึกษา (สายวิชาการ)'\n",
        "\n",
        "group_level_edu = df_worker[(df_worker['year'] == 2559 ) & (df_worker['region'] == 'ทั่วประเทศ') & (df_worker['area'] == 'รวม') & ~(df_worker['level_of_edu'] == 'รวม') & ~(df_worker['level_of_edu'] == 'ไม่ทราบ')][['year', 'quarter', 'region', 'area', 'level_of_edu', 'value']]\n",
        "group_new_level_edu = group_level_edu.groupby(['level_of_edu'])\n",
        "group_new_level_edu['value'].sum()\n",
        "\n",
        "test_new = group_new_level_edu['value'].sum()\n",
        "lst_sum = []\n",
        "for i in range(len(test_new)) : \n",
        "    new_vari = int(test_new[i])\n",
        "    #print(new_vari)\n",
        "    lst_sum.append(new_vari)\n",
        "\n",
        "x = ['Under Primary Education', 'Primary Education', 'Junior High School', 'Senior High School', 'Senior High School(Technical)', 'Other', 'Bachelor Degree', 'High Vocational Certificate','No Education']\n",
        "X_len = np.arange(len(x))\n",
        "print(X_len)\n",
        "print(lst_sum)\n",
        "plt.figure()\n",
        "\n",
        "plt.title('Amount of Level of education in 2016')\n",
        "plt.bar(X_len-0.1,lst_sum,width = 0.5,label = 'value (unit : 1000)')\n",
        "plt.xticks(X_len,x)\n",
        "plt.xticks(rotation = 90)\n",
        "plt.legend()\n",
        "plt.show()\n",
        "sns.set()"
      ]
    },
    {
      "cell_type": "code",
      "execution_count": null,
      "id": "623e95cb",
      "metadata": {
        "colab": {
          "base_uri": "https://localhost:8080/",
          "height": 473
        },
        "id": "623e95cb",
        "outputId": "dcf3ba9a-d1f1-4376-d7f7-771a5076fa9f"
      },
      "outputs": [
        {
          "output_type": "stream",
          "name": "stdout",
          "text": [
            "[0 1 2 3 4 5 6 7 8]\n",
            "[32453, 33991, 24023, 18677, 5392, 546, 23054, 8142, 5055]\n"
          ]
        },
        {
          "output_type": "display_data",
          "data": {
            "text/plain": [
              "<Figure size 432x288 with 1 Axes>"
            ],
            "image/png": "[encoded data removed]"
          },
          "metadata": {}
        }
      ],
      "source": [
        "## ระดับการศึกษาทั้งหมด ในปี พ.ศ.2558 ##\n",
        "df_worker.loc[df_worker['level_of_edu'] == 'ต่ำกว่าประถม ศึกษา', 'level_of_edu'] = 'ต่ำกว่าประถมศึกษา'\n",
        "df_worker.loc[df_worker['level_of_edu'] == 'ประถม ศึกษา', 'level_of_edu'] = 'ประถมศึกษา'\n",
        "df_worker.loc[df_worker['level_of_edu'] == 'มัธยมศึกษาตอนปลาย (สายวิชาการศึกษา)', 'level_of_edu'] = 'มัธยมศึกษาตอนปลาย (สายสามัญ)'\n",
        "df_worker.loc[df_worker['level_of_edu'] == 'อุดมศึกษา (สายวิชาการศึกษา)', 'level_of_edu'] = 'อุดมศึกษา (สายวิชาการ)'\n",
        "\n",
        "group_level_edu = df_worker[(df_worker['year'] == 2558 ) & (df_worker['region'] == 'ทั่วประเทศ') & (df_worker['area'] == 'รวม') & ~(df_worker['level_of_edu'] == 'รวม') & ~(df_worker['level_of_edu'] == 'ไม่ทราบ')][['year', 'quarter', 'region', 'area', 'level_of_edu', 'value']]\n",
        "group_new_level_edu = group_level_edu.groupby(['level_of_edu'])\n",
        "group_new_level_edu['value'].sum()\n",
        "\n",
        "test_new = group_new_level_edu['value'].sum()\n",
        "lst_sum = []\n",
        "for i in range(len(test_new)) : \n",
        "    new_vari = int(test_new[i])\n",
        "    #print(new_vari)\n",
        "    lst_sum.append(new_vari)\n",
        "\n",
        "x = ['Under Primary Education', 'Primary Education', 'Junior High School', 'Senior High School', 'Senior High School(Technical)', 'Other', 'Bachelor Degree', 'High Vocational Certificate','No Education']\n",
        "X_len = np.arange(len(x))\n",
        "print(X_len)\n",
        "print(lst_sum)\n",
        "plt.figure()\n",
        "\n",
        "plt.title('Amount of Level of education in 2015')\n",
        "plt.bar(X_len-0.1,lst_sum,width = 0.5,label = 'value (unit : 1000)')\n",
        "plt.xticks(X_len,x)\n",
        "plt.xticks(rotation = 90)\n",
        "plt.legend()\n",
        "plt.show()\n",
        "sns.set()"
      ]
    },
    {
      "cell_type": "code",
      "execution_count": null,
      "id": "241f31ac",
      "metadata": {
        "colab": {
          "base_uri": "https://localhost:8080/",
          "height": 473
        },
        "id": "241f31ac",
        "outputId": "71878760-0a19-468a-918d-79db7266688f"
      },
      "outputs": [
        {
          "output_type": "stream",
          "name": "stdout",
          "text": [
            "[0 1 2 3 4 5 6 7 8]\n",
            "[33460, 34918, 24384, 17791, 5300, 358, 22396, 7725, 5230]\n"
          ]
        },
        {
          "output_type": "display_data",
          "data": {
            "text/plain": [
              "<Figure size 432x288 with 1 Axes>"
            ],
            "image/png": "[encoded data removed]"
          },
          "metadata": {}
        }
      ],
      "source": [
        "## ระดับการศึกษาทั้งหมด ในปี พ.ศ.2557 ##\n",
        "df_worker.loc[df_worker['level_of_edu'] == 'ต่ำกว่าประถม ศึกษา', 'level_of_edu'] = 'ต่ำกว่าประถมศึกษา'\n",
        "df_worker.loc[df_worker['level_of_edu'] == 'ประถม ศึกษา', 'level_of_edu'] = 'ประถมศึกษา'\n",
        "df_worker.loc[df_worker['level_of_edu'] == 'มัธยมศึกษาตอนปลาย (สายวิชาการศึกษา)', 'level_of_edu'] = 'มัธยมศึกษาตอนปลาย (สายสามัญ)'\n",
        "df_worker.loc[df_worker['level_of_edu'] == 'อุดมศึกษา (สายวิชาการศึกษา)', 'level_of_edu'] = 'อุดมศึกษา (สายวิชาการ)'\n",
        "\n",
        "group_level_edu = df_worker[(df_worker['year'] == 2557 ) & (df_worker['region'] == 'ทั่วประเทศ') & (df_worker['area'] == 'รวม') & ~(df_worker['level_of_edu'] == 'รวม') & ~(df_worker['level_of_edu'] == 'ไม่ทราบ')][['year', 'quarter', 'region', 'area', 'level_of_edu', 'value']]\n",
        "group_new_level_edu = group_level_edu.groupby(['level_of_edu'])\n",
        "group_new_level_edu['value'].sum()\n",
        "\n",
        "test_new = group_new_level_edu['value'].sum()\n",
        "lst_sum = []\n",
        "for i in range(len(test_new)) : \n",
        "    new_vari = int(test_new[i])\n",
        "    #print(new_vari)\n",
        "    lst_sum.append(new_vari)\n",
        "\n",
        "x = ['Under Primary Education', 'Primary Education', 'Junior High School', 'Senior High School', 'Senior High School(Technical)', 'Other', 'Bachelor Degree', 'High Vocational Certificate','No Education']\n",
        "X_len = np.arange(len(x))\n",
        "print(X_len)\n",
        "print(lst_sum)\n",
        "plt.figure()\n",
        "\n",
        "plt.title('Amount of Level of education in 2014')\n",
        "plt.bar(X_len-0.1,lst_sum,width = 0.5,label = 'value (unit : 1000)')\n",
        "plt.xticks(X_len,x)\n",
        "plt.xticks(rotation = 90)\n",
        "plt.legend()\n",
        "plt.show()\n",
        "sns.set()"
      ]
    },
    {
      "cell_type": "code",
      "execution_count": null,
      "id": "d8c7e88e",
      "metadata": {
        "colab": {
          "base_uri": "https://localhost:8080/",
          "height": 473
        },
        "id": "d8c7e88e",
        "outputId": "393c6b46-2146-40b8-bdde-e059658e51ad"
      },
      "outputs": [
        {
          "output_type": "stream",
          "name": "stdout",
          "text": [
            "[0 1 2 3 4 5 6 7 8]\n",
            "[36337, 37634, 25752, 17998, 5024, 140, 19128, 7954, 5082]\n"
          ]
        },
        {
          "output_type": "display_data",
          "data": {
            "text/plain": [
              "<Figure size 432x288 with 1 Axes>"
            ],
            "image/png": "[encoded data removed]"
          },
          "metadata": {}
        }
      ],
      "source": [
        "## ระดับการศึกษาทั้งหมด ในปี พ.ศ.2556 ##\n",
        "df_worker.loc[df_worker['level_of_edu'] == 'ต่ำกว่าประถม ศึกษา', 'level_of_edu'] = 'ต่ำกว่าประถมศึกษา'\n",
        "df_worker.loc[df_worker['level_of_edu'] == 'ประถม ศึกษา', 'level_of_edu'] = 'ประถมศึกษา'\n",
        "df_worker.loc[df_worker['level_of_edu'] == 'มัธยมศึกษาตอนปลาย (สายวิชาการศึกษา)', 'level_of_edu'] = 'มัธยมศึกษาตอนปลาย (สายสามัญ)'\n",
        "df_worker.loc[df_worker['level_of_edu'] == 'อุดมศึกษา (สายวิชาการศึกษา)', 'level_of_edu'] = 'อุดมศึกษา (สายวิชาการ)'\n",
        "\n",
        "group_level_edu = df_worker[(df_worker['year'] == 2556 ) & (df_worker['region'] == 'ทั่วประเทศ') & (df_worker['area'] == 'รวม') & ~(df_worker['level_of_edu'] == 'รวม') & ~(df_worker['level_of_edu'] == 'ไม่ทราบ')][['year', 'quarter', 'region', 'area', 'level_of_edu', 'value']]\n",
        "group_new_level_edu = group_level_edu.groupby(['level_of_edu'])\n",
        "group_new_level_edu['value'].sum()\n",
        "\n",
        "test_new = group_new_level_edu['value'].sum()\n",
        "lst_sum = []\n",
        "for i in range(len(test_new)) : \n",
        "    new_vari = int(test_new[i])\n",
        "    #print(new_vari)\n",
        "    lst_sum.append(new_vari)\n",
        "\n",
        "x = ['Under Primary Education', 'Primary Education', 'Junior High School', 'Senior High School', 'Senior High School(Technical)', 'Other', 'Bachelor Degree', 'High Vocational Certificate','No Education']\n",
        "X_len = np.arange(len(x))\n",
        "print(X_len)\n",
        "print(lst_sum)\n",
        "plt.figure()\n",
        "\n",
        "plt.title('Amount of Level of education in 2013')\n",
        "plt.bar(X_len-0.1,lst_sum,width = 0.5,label = 'value (unit : 1000)')\n",
        "plt.xticks(X_len,x)\n",
        "plt.xticks(rotation = 90)\n",
        "plt.legend()\n",
        "plt.show()\n",
        "sns.set()"
      ]
    },
    {
      "cell_type": "code",
      "execution_count": null,
      "id": "7d10cd51",
      "metadata": {
        "colab": {
          "base_uri": "https://localhost:8080/"
        },
        "id": "7d10cd51",
        "outputId": "ab523b21-2546-447e-fffc-0472f02d616d"
      },
      "outputs": [
        {
          "output_type": "stream",
          "name": "stdout",
          "text": [
            "<class 'pandas.core.frame.DataFrame'>\n",
            "RangeIndex: 5832 entries, 0 to 5831\n",
            "Data columns (total 8 columns):\n",
            " #   Column     Non-Null Count  Dtype  \n",
            "---  ------     --------------  -----  \n",
            " 0   year       5832 non-null   int64  \n",
            " 1   quarter    5832 non-null   object \n",
            " 2   region     5832 non-null   object \n",
            " 3   age_group  5832 non-null   object \n",
            " 4   sex        5832 non-null   object \n",
            " 5   value      5832 non-null   float64\n",
            " 6   unit       5832 non-null   object \n",
            " 7   source     5832 non-null   object \n",
            "dtypes: float64(1), int64(1), object(6)\n",
            "memory usage: 364.6+ KB\n"
          ]
        }
      ],
      "source": [
        "df_age_sex = pd.read_csv('/ผู้มีงานทำแยกตามเพศ,อายุ.csv')\n",
        "df_age_sex.info()"
      ]
    },
    {
      "cell_type": "code",
      "execution_count": null,
      "id": "9f7488d8",
      "metadata": {
        "colab": {
          "base_uri": "https://localhost:8080/"
        },
        "id": "9f7488d8",
        "outputId": "5ba3106a-a6c2-4f52-b062-c328e2227374"
      },
      "outputs": [
        {
          "output_type": "execute_result",
          "data": {
            "text/plain": [
              "year         0\n",
              "quarter      0\n",
              "region       0\n",
              "age_group    0\n",
              "sex          0\n",
              "value        0\n",
              "unit         0\n",
              "source       0\n",
              "dtype: int64"
            ]
          },
          "metadata": {},
          "execution_count": 7
        }
      ],
      "source": [
        "## check null value ##\n",
        "df_age_sex.isna().sum()"
      ]
    },
    {
      "cell_type": "code",
      "execution_count": null,
      "id": "e5b59b6f",
      "metadata": {
        "id": "e5b59b6f",
        "outputId": "24d5c675-552e-4a9d-ae27-22ac84deffa2"
      },
      "outputs": [
        {
          "data": {
            "text/plain": [
              "array(['รวม', '15-19 ปี', '20-24 ปี', '25-29 ปี', '30-34 ปี', '35-39 ปี',\n",
              "       '40-49 ปี', '50-59 ปี', '60 ปีขึ้นไป'], dtype=object)"
            ]
          },
          "execution_count": 37,
          "metadata": {},
          "output_type": "execute_result"
        }
      ],
      "source": [
        "## check ข้อมูลในคอมลัมน์ ##\n",
        "df_age_sex['age_group'].unique()"
      ]
    },
    {
      "cell_type": "code",
      "source": [
        "df_age_sex['region'].unique()"
      ],
      "metadata": {
        "colab": {
          "base_uri": "https://localhost:8080/"
        },
        "id": "rKwi0oYE8K-V",
        "outputId": "b0101cbf-cb30-40a9-f5a1-41276f1e695d"
      },
      "id": "rKwi0oYE8K-V",
      "execution_count": null,
      "outputs": [
        {
          "output_type": "execute_result",
          "data": {
            "text/plain": [
              "array(['ทั่วประเทศ ', 'กรุงเทพมหานคร', 'ภาคกลาง', 'ภาคเหนือ',\n",
              "       'ภาคตะวันออกเฉียงเหนือ', 'ภาคใต้'], dtype=object)"
            ]
          },
          "metadata": {},
          "execution_count": 84
        }
      ]
    },
    {
      "cell_type": "code",
      "execution_count": 98,
      "id": "b7527540",
      "metadata": {
        "colab": {
          "base_uri": "https://localhost:8080/",
          "height": 373
        },
        "id": "b7527540",
        "outputId": "c42661bd-8f8e-4308-9c63-fb6a2bbe08a1"
      },
      "outputs": [
        {
          "output_type": "stream",
          "name": "stdout",
          "text": [
            "[0 1 2 3 4 5 6 7]\n",
            "[2481, 11616, 16537, 16051, 16616, 36367, 32842, 18208]\n"
          ]
        },
        {
          "output_type": "display_data",
          "data": {
            "text/plain": [
              "<Figure size 432x288 with 1 Axes>"
            ],
            "image/png": "[encoded data removed]"
          },
          "metadata": {}
        }
      ],
      "source": [
        "## จำนวนผู้มีงานทำตามช่วงอายุ ในปีพ.ศ.2563 ##\n",
        "df = df_age_sex[(df_age_sex['year'] == 2563) & (df_age_sex['region'] == 'ทั่วประเทศ ') & (df_age_sex['age_group'] != 'รวม') & (df_age_sex['sex'] == 'รวม')][['year', 'age_group', 'sex', 'value']]\n",
        "group_age = df.groupby(['age_group'])\n",
        "group_age['value'].sum()\n",
        "\n",
        "test_new = group_age['value'].sum()\n",
        "lst_sum = []\n",
        "for i in range(len(test_new)) : \n",
        "    new_vari = int(test_new[i])\n",
        "    #print(new_vari)\n",
        "    lst_sum.append(new_vari)\n",
        "\n",
        "x = ['Age : 15-19', 'Age : 20-24', 'Age : 25-29', 'Age : 30-34', 'Age : 35-39', 'Age : 40-49', 'Age : 50-59', 'Age : 60+']\n",
        "X_len = np.arange(len(x))\n",
        "print(X_len)\n",
        "print(lst_sum)\n",
        "plt.figure()\n",
        "\n",
        "plt.title('Amount of Employment in 2020')\n",
        "plt.bar(X_len-0.1,lst_sum,width = 0.5,label = 'value (unit : 1000)')\n",
        "plt.plot(X_len, lst_sum, marker = '*', linewidth = 2.0, color = 'saddlebrown')\n",
        "plt.xticks(X_len,x)\n",
        "plt.xticks(rotation = 90)\n",
        "plt.legend()\n",
        "plt.show()\n",
        "sns.set()"
      ]
    },
    {
      "cell_type": "code",
      "source": [
        "## จำนวนผู้มีงานทำตามช่วงอายุ ในปีพ.ศ.2562 ##\n",
        "df = df_age_sex[(df_age_sex['year'] == 2562) & (df_age_sex['region'] == 'ทั่วประเทศ ') & (df_age_sex['age_group'] != 'รวม') & (df_age_sex['sex'] == 'รวม')][['year', 'age_group', 'sex', 'value']]\n",
        "group_age = df.groupby(['age_group'])\n",
        "group_age['value'].sum()\n",
        "\n",
        "test_new = group_age['value'].sum()\n",
        "lst_sum = []\n",
        "for i in range(len(test_new)) : \n",
        "    new_vari = int(test_new[i])\n",
        "    #print(new_vari)\n",
        "    lst_sum.append(new_vari)\n",
        "\n",
        "x = ['Age : 15-19', 'Age : 20-24', 'Age : 25-29', 'Age : 30-34', 'Age : 35-39', 'Age : 40-49', 'Age : 50-59', 'Age : 60+']\n",
        "X_len = np.arange(len(x))\n",
        "print(X_len)\n",
        "print(lst_sum)\n",
        "plt.figure()\n",
        "\n",
        "plt.title('Amount of Employment in 2019')\n",
        "plt.bar(X_len-0.1,lst_sum,width = 0.5,label = 'value (unit : 1000)')\n",
        "plt.plot(X_len, lst_sum, marker = '*', linewidth = 2.0, color = 'pink')\n",
        "plt.xticks(X_len,x)\n",
        "plt.xticks(rotation = 90)\n",
        "plt.legend()\n",
        "plt.show()\n",
        "sns.set()"
      ],
      "metadata": {
        "colab": {
          "base_uri": "https://localhost:8080/",
          "height": 373
        },
        "id": "A1E7GIK_r6ZS",
        "outputId": "7886e1e1-8d2c-4ff6-bdef-d9a96766c7ea"
      },
      "id": "A1E7GIK_r6ZS",
      "execution_count": 96,
      "outputs": [
        {
          "output_type": "stream",
          "name": "stdout",
          "text": [
            "[0 1 2 3 4 5 6 7]\n",
            "[2643, 11857, 16693, 16193, 17062, 36791, 32267, 16944]\n"
          ]
        },
        {
          "output_type": "display_data",
          "data": {
            "text/plain": [
              "<Figure size 432x288 with 1 Axes>"
            ],
            "image/png": "[encoded data removed]"
          },
          "metadata": {}
        }
      ]
    },
    {
      "cell_type": "code",
      "source": [
        "## จำนวนผู้มีงานทำตามช่วงอายุ ในปีพ.ศ.2561 ##\n",
        "df = df_age_sex[(df_age_sex['year'] == 2561) & (df_age_sex['region'] == 'ทั่วประเทศ ') & (df_age_sex['age_group'] != 'รวม') & (df_age_sex['sex'] == 'รวม')][['year', 'age_group', 'sex', 'value']]\n",
        "group_age = df.groupby(['age_group'])\n",
        "group_age['value'].sum()\n",
        "\n",
        "test_new = group_age['value'].sum()\n",
        "lst_sum = []\n",
        "for i in range(len(test_new)) : \n",
        "    new_vari = int(test_new[i])\n",
        "    #print(new_vari)\n",
        "    lst_sum.append(new_vari)\n",
        "\n",
        "x = ['Age : 15-19', 'Age : 20-24', 'Age : 25-29', 'Age : 30-34', 'Age : 35-39', 'Age : 40-49', 'Age : 50-59', 'Age : 60+']\n",
        "X_len = np.arange(len(x))\n",
        "print(X_len)\n",
        "print(lst_sum)\n",
        "plt.figure()\n",
        "\n",
        "plt.title('Amount of Employment in 2018')\n",
        "plt.bar(X_len-0.1,lst_sum,width = 0.5,label = 'value (unit : 1000)')\n",
        "plt.plot(X_len, lst_sum, marker = '*', linewidth = 2.0, color = 'orange')\n",
        "plt.xticks(X_len,x)\n",
        "plt.xticks(rotation = 90)\n",
        "plt.legend()\n",
        "plt.show()\n",
        "sns.set()"
      ],
      "metadata": {
        "colab": {
          "base_uri": "https://localhost:8080/",
          "height": 373
        },
        "id": "PlIa8lIUsfSN",
        "outputId": "f82b2589-42f9-4cac-d853-896dd03ccd0a"
      },
      "id": "PlIa8lIUsfSN",
      "execution_count": null,
      "outputs": [
        {
          "output_type": "stream",
          "name": "stdout",
          "text": [
            "[0 1 2 3 4 5 6 7]\n",
            "[3101, 12018, 16520, 16282, 17503, 37306, 31854, 16870]\n"
          ]
        },
        {
          "output_type": "display_data",
          "data": {
            "text/plain": [
              "<Figure size 432x288 with 1 Axes>"
            ],
            "image/png": "[encoded data removed]"
          },
          "metadata": {}
        }
      ]
    },
    {
      "cell_type": "code",
      "source": [
        "## จำนวนผู้มีงานทำตามช่วงอายุ ในปีพ.ศ.2560 ##\n",
        "df = df_age_sex[(df_age_sex['year'] == 2560) & (df_age_sex['region'] == 'ทั่วประเทศ ') & (df_age_sex['age_group'] != 'รวม') & (df_age_sex['sex'] == 'รวม')][['year', 'age_group', 'sex', 'value']]\n",
        "group_age = df.groupby(['age_group'])\n",
        "group_age['value'].sum()\n",
        "\n",
        "test_new = group_age['value'].sum()\n",
        "lst_sum = []\n",
        "for i in range(len(test_new)) : \n",
        "    new_vari = int(test_new[i])\n",
        "    #print(new_vari)\n",
        "    lst_sum.append(new_vari)\n",
        "\n",
        "x = ['Age : 15-19', 'Age : 20-24', 'Age : 25-29', 'Age : 30-34', 'Age : 35-39', 'Age : 40-49', 'Age : 50-59', 'Age : 60+']\n",
        "X_len = np.arange(len(x))\n",
        "print(X_len)\n",
        "print(lst_sum)\n",
        "plt.figure()\n",
        "\n",
        "plt.title('Amount of Employment in 2017')\n",
        "plt.bar(X_len-0.1,lst_sum,width = 0.5,label = 'value (unit : 1000)')\n",
        "plt.plot(X_len, lst_sum, marker = '*', linewidth = 2.0, color = 'gray')\n",
        "plt.xticks(X_len,x)\n",
        "plt.xticks(rotation = 90)\n",
        "plt.legend()\n",
        "plt.show()\n",
        "sns.set()"
      ],
      "metadata": {
        "colab": {
          "base_uri": "https://localhost:8080/",
          "height": 373
        },
        "id": "6lINYtTQGKeI",
        "outputId": "b0333164-35da-4d26-9e25-2b89ac1fa85f"
      },
      "id": "6lINYtTQGKeI",
      "execution_count": 95,
      "outputs": [
        {
          "output_type": "stream",
          "name": "stdout",
          "text": [
            "[0 1 2 3 4 5 6 7]\n",
            "[3139, 11764, 16204, 16385, 17968, 37495, 30914, 15960]\n"
          ]
        },
        {
          "output_type": "display_data",
          "data": {
            "text/plain": [
              "<Figure size 432x288 with 1 Axes>"
            ],
            "image/png": "[encoded data removed]"
          },
          "metadata": {}
        }
      ]
    },
    {
      "cell_type": "code",
      "source": [
        "## จำนวนผู้มีงานทำตามช่วงอายุ ในปีพ.ศ.2559 ##\n",
        "df = df_age_sex[(df_age_sex['year'] == 2559) & (df_age_sex['region'] == 'ทั่วประเทศ ') & (df_age_sex['age_group'] != 'รวม') & (df_age_sex['sex'] == 'รวม')][['year', 'age_group', 'sex', 'value']]\n",
        "group_age = df.groupby(['age_group'])\n",
        "group_age['value'].sum()\n",
        "\n",
        "test_new = group_age['value'].sum()\n",
        "lst_sum = []\n",
        "for i in range(len(test_new)) : \n",
        "    new_vari = int(test_new[i])\n",
        "    #print(new_vari)\n",
        "    lst_sum.append(new_vari)\n",
        "\n",
        "x = ['Age : 15-19', 'Age : 20-24', 'Age : 25-29', 'Age : 30-34', 'Age : 35-39', 'Age : 40-49', 'Age : 50-59', 'Age : 60+']\n",
        "X_len = np.arange(len(x))\n",
        "print(X_len)\n",
        "print(lst_sum)\n",
        "plt.figure()\n",
        "\n",
        "plt.title('Amount of Employment in 2016')\n",
        "plt.bar(X_len-0.1,lst_sum,width = 0.5,label = 'value (unit : 1000)')\n",
        "plt.plot(X_len, lst_sum, marker = '*', linewidth = 2.0, color = 'green')\n",
        "plt.xticks(X_len,x)\n",
        "plt.xticks(rotation = 90)\n",
        "plt.legend()\n",
        "plt.show()\n",
        "sns.set()"
      ],
      "metadata": {
        "colab": {
          "base_uri": "https://localhost:8080/",
          "height": 373
        },
        "id": "jS1hx0F7GVph",
        "outputId": "90dea704-f6e5-4eb9-e0e4-9089ff66f3eb"
      },
      "id": "jS1hx0F7GVph",
      "execution_count": 94,
      "outputs": [
        {
          "output_type": "stream",
          "name": "stdout",
          "text": [
            "[0 1 2 3 4 5 6 7]\n",
            "[3344, 12028, 16277, 16818, 18434, 37970, 30499, 15397]\n"
          ]
        },
        {
          "output_type": "display_data",
          "data": {
            "text/plain": [
              "<Figure size 432x288 with 1 Axes>"
            ],
            "image/png": "[encoded data removed]"
          },
          "metadata": {}
        }
      ]
    },
    {
      "cell_type": "code",
      "source": [
        "## จำนวนผู้มีงานทำตามช่วงอายุ ในปีพ.ศ.2558 ##\n",
        "df = df_age_sex[(df_age_sex['year'] == 2558) & (df_age_sex['region'] == 'ทั่วประเทศ ') & (df_age_sex['age_group'] != 'รวม') & (df_age_sex['sex'] == 'รวม')][['year', 'age_group', 'sex', 'value']]\n",
        "group_age = df.groupby(['age_group'])\n",
        "group_age['value'].sum()\n",
        "\n",
        "test_new = group_age['value'].sum()\n",
        "lst_sum = []\n",
        "for i in range(len(test_new)) : \n",
        "    new_vari = int(test_new[i])\n",
        "    #print(new_vari)\n",
        "    lst_sum.append(new_vari)\n",
        "\n",
        "x = ['Age : 15-19', 'Age : 20-24', 'Age : 25-29', 'Age : 30-34', 'Age : 35-39', 'Age : 40-49', 'Age : 50-59', 'Age : 60+']\n",
        "X_len = np.arange(len(x))\n",
        "print(X_len)\n",
        "print(lst_sum)\n",
        "plt.figure()\n",
        "\n",
        "plt.title('Amount of Employment in 2015')\n",
        "plt.bar(X_len-0.1,lst_sum,width = 0.5,label = 'value (unit : 1000)')\n",
        "plt.plot(X_len, lst_sum, marker = '*', linewidth = 2.0, color = 'red')\n",
        "plt.xticks(X_len,x)\n",
        "plt.xticks(rotation = 90)\n",
        "plt.legend()\n",
        "plt.show()\n",
        "sns.set()"
      ],
      "metadata": {
        "colab": {
          "base_uri": "https://localhost:8080/",
          "height": 373
        },
        "id": "yTREraqYGfKA",
        "outputId": "955c66d8-bbf0-4c48-c224-a4f06fe24aff"
      },
      "id": "yTREraqYGfKA",
      "execution_count": 93,
      "outputs": [
        {
          "output_type": "stream",
          "name": "stdout",
          "text": [
            "[0 1 2 3 4 5 6 7]\n",
            "[3493, 12206, 16291, 17299, 18896, 38614, 30150, 15112]\n"
          ]
        },
        {
          "output_type": "display_data",
          "data": {
            "text/plain": [
              "<Figure size 432x288 with 1 Axes>"
            ],
            "image/png": "[encoded data removed]"
          },
          "metadata": {}
        }
      ]
    },
    {
      "cell_type": "code",
      "source": [
        "## จำนวนผู้มีงานทำตามช่วงอายุ ในปีพ.ศ.2557 ##\n",
        "df = df_age_sex[(df_age_sex['year'] == 2557) & (df_age_sex['region'] == 'ทั่วประเทศ ') & (df_age_sex['age_group'] != 'รวม') & (df_age_sex['sex'] == 'รวม')][['year', 'age_group', 'sex', 'value']]\n",
        "group_age = df.groupby(['age_group'])\n",
        "group_age['value'].sum()\n",
        "\n",
        "test_new = group_age['value'].sum()\n",
        "lst_sum = []\n",
        "for i in range(len(test_new)) : \n",
        "    new_vari = int(test_new[i])\n",
        "    #print(new_vari)\n",
        "    lst_sum.append(new_vari)\n",
        "\n",
        "x = ['Age : 15-19', 'Age : 20-24', 'Age : 25-29', 'Age : 30-34', 'Age : 35-39', 'Age : 40-49', 'Age : 50-59', 'Age : 60+']\n",
        "X_len = np.arange(len(x))\n",
        "print(X_len)\n",
        "print(lst_sum)\n",
        "plt.figure()\n",
        "\n",
        "plt.title('Amount of Employment in 2014')\n",
        "plt.bar(X_len-0.1,lst_sum,width = 0.5,label = 'value (unit : 1000)')\n",
        "plt.plot(X_len, lst_sum, marker = '*', linewidth = 2.0, color = 'olive')\n",
        "plt.xticks(X_len,x)\n",
        "plt.xticks(rotation = 90)\n",
        "plt.legend()\n",
        "plt.show()\n",
        "sns.set()"
      ],
      "metadata": {
        "colab": {
          "base_uri": "https://localhost:8080/",
          "height": 373
        },
        "id": "ki2jl_UBGkk-",
        "outputId": "57d2dd6f-d3a6-4594-cb3f-bf7d4babea01"
      },
      "id": "ki2jl_UBGkk-",
      "execution_count": 92,
      "outputs": [
        {
          "output_type": "stream",
          "name": "stdout",
          "text": [
            "[0 1 2 3 4 5 6 7]\n",
            "[3747, 12283, 16290, 17649, 19271, 38891, 29427, 14749]\n"
          ]
        },
        {
          "output_type": "display_data",
          "data": {
            "text/plain": [
              "<Figure size 432x288 with 1 Axes>"
            ],
            "image/png": "[encoded data removed]"
          },
          "metadata": {}
        }
      ]
    },
    {
      "cell_type": "code",
      "source": [
        "## จำนวนผู้มีงานทำตามช่วงอายุ ในปีพ.ศ.2556 ##\n",
        "df = df_age_sex[(df_age_sex['year'] == 2556) & (df_age_sex['region'] == 'ทั่วประเทศ ') & (df_age_sex['age_group'] != 'รวม') & (df_age_sex['sex'] == 'รวม')][['year', 'age_group', 'sex', 'value']]\n",
        "group_age = df.groupby(['age_group'])\n",
        "group_age['value'].sum()\n",
        "\n",
        "test_new = group_age['value'].sum()\n",
        "lst_sum = []\n",
        "for i in range(len(test_new)) : \n",
        "    new_vari = int(test_new[i])\n",
        "    #print(new_vari)\n",
        "    lst_sum.append(new_vari)\n",
        "\n",
        "x = ['Age : 15-19', 'Age : 20-24', 'Age : 25-29', 'Age : 30-34', 'Age : 35-39', 'Age : 40-49', 'Age : 50-59', 'Age : 60+']\n",
        "X_len = np.arange(len(x))\n",
        "print(X_len)\n",
        "print(lst_sum)\n",
        "plt.figure()\n",
        "\n",
        "plt.title('Amount of Employment in 2013')\n",
        "plt.bar(X_len-0.1,lst_sum,width = 0.5,label = 'value (unit : 1000)')\n",
        "plt.plot(X_len, lst_sum, marker = '*', linewidth = 2.0, color = 'black')\n",
        "plt.xticks(X_len,x)\n",
        "plt.xticks(rotation = 90)\n",
        "plt.legend()\n",
        "plt.show()\n",
        "sns.set()"
      ],
      "metadata": {
        "colab": {
          "base_uri": "https://localhost:8080/",
          "height": 373
        },
        "id": "ZffloKSrGuFj",
        "outputId": "dc75f00a-bea2-467b-b5b9-b4a7d73e16a1"
      },
      "id": "ZffloKSrGuFj",
      "execution_count": 91,
      "outputs": [
        {
          "output_type": "stream",
          "name": "stdout",
          "text": [
            "[0 1 2 3 4 5 6 7]\n",
            "[4359, 13539, 17775, 18787, 19440, 38982, 29294, 13447]\n"
          ]
        },
        {
          "output_type": "display_data",
          "data": {
            "text/plain": [
              "<Figure size 432x288 with 1 Axes>"
            ],
            "image/png": "[encoded data removed]"
          },
          "metadata": {}
        }
      ]
    }
  ],
  "metadata": {
    "kernelspec": {
      "display_name": "Python 3 (ipykernel)",
      "language": "python",
      "name": "python3"
    },
    "language_info": {
      "codemirror_mode": {
        "name": "ipython",
        "version": 3
      },
      "file_extension": ".py",
      "mimetype": "text/x-python",
      "name": "python",
      "nbconvert_exporter": "python",
      "pygments_lexer": "ipython3",
      "version": "3.9.7"
    },
    "colab": {
      "provenance": []
    }
  },
  "nbformat": 4,
  "nbformat_minor": 5
}